{
 "cells": [
  {
   "cell_type": "code",
   "execution_count": 10,
   "metadata": {
    "ExecuteTime": {
     "end_time": "2022-01-19T05:32:53.399487Z",
     "start_time": "2022-01-19T05:32:52.411402Z"
    }
   },
   "outputs": [
    {
     "name": "stderr",
     "output_type": "stream",
     "text": [
      "Using TensorFlow backend.\n",
      "/home/jerry/anaconda3/envs/shared_env/lib/python3.6/site-packages/tensorflow/python/framework/dtypes.py:523: FutureWarning: Passing (type, 1) or '1type' as a synonym of type is deprecated; in a future version of numpy, it will be understood as (type, (1,)) / '(1,)type'.\n",
      "  _np_qint8 = np.dtype([(\"qint8\", np.int8, 1)])\n",
      "/home/jerry/anaconda3/envs/shared_env/lib/python3.6/site-packages/tensorflow/python/framework/dtypes.py:524: FutureWarning: Passing (type, 1) or '1type' as a synonym of type is deprecated; in a future version of numpy, it will be understood as (type, (1,)) / '(1,)type'.\n",
      "  _np_quint8 = np.dtype([(\"quint8\", np.uint8, 1)])\n",
      "/home/jerry/anaconda3/envs/shared_env/lib/python3.6/site-packages/tensorflow/python/framework/dtypes.py:525: FutureWarning: Passing (type, 1) or '1type' as a synonym of type is deprecated; in a future version of numpy, it will be understood as (type, (1,)) / '(1,)type'.\n",
      "  _np_qint16 = np.dtype([(\"qint16\", np.int16, 1)])\n",
      "/home/jerry/anaconda3/envs/shared_env/lib/python3.6/site-packages/tensorflow/python/framework/dtypes.py:526: FutureWarning: Passing (type, 1) or '1type' as a synonym of type is deprecated; in a future version of numpy, it will be understood as (type, (1,)) / '(1,)type'.\n",
      "  _np_quint16 = np.dtype([(\"quint16\", np.uint16, 1)])\n",
      "/home/jerry/anaconda3/envs/shared_env/lib/python3.6/site-packages/tensorflow/python/framework/dtypes.py:527: FutureWarning: Passing (type, 1) or '1type' as a synonym of type is deprecated; in a future version of numpy, it will be understood as (type, (1,)) / '(1,)type'.\n",
      "  _np_qint32 = np.dtype([(\"qint32\", np.int32, 1)])\n",
      "/home/jerry/anaconda3/envs/shared_env/lib/python3.6/site-packages/tensorflow/python/framework/dtypes.py:532: FutureWarning: Passing (type, 1) or '1type' as a synonym of type is deprecated; in a future version of numpy, it will be understood as (type, (1,)) / '(1,)type'.\n",
      "  np_resource = np.dtype([(\"resource\", np.ubyte, 1)])\n"
     ]
    }
   ],
   "source": [
    "from tqdm import tqdm\n",
    "\n",
    "import numpy as np\n",
    "import matplotlib.pyplot as plt\n",
    "import energyflow as ef\n",
    "from energyflow.archs import PFN\n",
    "from energyflow.datasets import qg_jets\n",
    "from energyflow.utils import data_split, remap_pids, to_categorical\n",
    "from sklearn.metrics import roc_auc_score, roc_curve, accuracy_score\n",
    "from sklearn.utils import shuffle\n",
    "import math\n",
    "import sklearn"
   ]
  },
  {
   "cell_type": "code",
   "execution_count": 11,
   "metadata": {
    "ExecuteTime": {
     "end_time": "2022-01-19T05:32:53.904286Z",
     "start_time": "2022-01-19T05:32:53.897664Z"
    }
   },
   "outputs": [],
   "source": [
    "import tensorflow as tf"
   ]
  },
  {
   "cell_type": "markdown",
   "metadata": {
    "heading_collapsed": true
   },
   "source": [
    "# Data analysis"
   ]
  },
  {
   "cell_type": "code",
   "execution_count": 3,
   "metadata": {
    "ExecuteTime": {
     "end_time": "2021-10-19T22:44:57.137197Z",
     "start_time": "2021-10-19T22:44:56.238533Z"
    },
    "hidden": true
   },
   "outputs": [],
   "source": [
    "\"\"\"\n",
    "Load Data\n",
    "\"\"\"\n",
    "X_sig_path = \"training_data/X_sig.npy\"\n",
    "y_sig_path = \"training_data/y_sig.npy\"\n",
    "X_sb_path = \"training_data/X_sb.npy\"\n",
    "y_sb_path = \"training_data/y_sb.npy\"\n",
    "X_bgsig_path = \"training_data/X_bgsig.npy\"\n",
    "y_bgsig_path = \"training_data/y_bgsig.npy\"\n",
    "X_sig = np.load(X_sig_path)\n",
    "y_sig = np.load(y_sig_path)\n",
    "X_sb = np.load(X_sb_path)\n",
    "y_sb = np.load(y_sb_path)\n",
    "X_bgsig = np.load(X_bgsig_path)\n",
    "y_bgsig = np.load(y_bgsig_path)"
   ]
  },
  {
   "cell_type": "code",
   "execution_count": 4,
   "metadata": {
    "ExecuteTime": {
     "end_time": "2021-10-19T22:45:03.734291Z",
     "start_time": "2021-10-19T22:45:01.250408Z"
    },
    "hidden": true
   },
   "outputs": [],
   "source": [
    "sig_nonzeros = np.count_nonzero(np.sum(X_sig,axis=2),axis=1)\n",
    "sb_nonzeros = np.count_nonzero(np.sum(X_sb,axis=2),axis=1)\n",
    "bgsig_nonzeros = np.count_nonzero(np.sum(X_bgsig,axis=2),axis=1)"
   ]
  },
  {
   "cell_type": "code",
   "execution_count": 5,
   "metadata": {
    "ExecuteTime": {
     "end_time": "2021-10-19T22:45:04.363944Z",
     "start_time": "2021-10-19T22:45:04.356945Z"
    },
    "hidden": true
   },
   "outputs": [
    {
     "data": {
      "text/plain": [
       "(array([ 80, 123,  73, ...,  81, 102,  55]),\n",
       " array([108, 111,  49, ..., 105,  92,  55]),\n",
       " array([100,  66,  68, ...,  88,  44,  63]))"
      ]
     },
     "execution_count": 5,
     "metadata": {},
     "output_type": "execute_result"
    }
   ],
   "source": [
    "sig_nonzeros, sb_nonzeros, bgsig_nonzeros"
   ]
  },
  {
   "cell_type": "markdown",
   "metadata": {
    "hidden": true
   },
   "source": []
  },
  {
   "cell_type": "code",
   "execution_count": 8,
   "metadata": {
    "ExecuteTime": {
     "end_time": "2021-10-17T22:54:32.331192Z",
     "start_time": "2021-10-17T22:53:59.043710Z"
    },
    "hidden": true
   },
   "outputs": [
    {
     "name": "stdout",
     "output_type": "stream",
     "text": [
      "Size of sb:\n",
      "(76000, 282, 4)\n",
      "Size of bgsig:\n",
      "(0, 282, 4)\n",
      "Size of sig:\n",
      "(76000, 282, 4)\n",
      "Training set size, distribution:\n",
      "(121600, 282, 4)\n",
      "(array([0., 1.]), array([60705, 60895]))\n",
      "Validations set size, distribution:\n",
      "(30400, 282, 4)\n",
      "(array([0., 1.]), array([15295, 15105]))\n",
      "Test set size, distribution:\n",
      "(10000, 282, 4)\n",
      "(array([0., 1.]), array([5000, 5000]))\n"
     ]
    }
   ],
   "source": [
    "X_train, X_val, X_test, Y_train,Y_val,Y_test = prep_and_shufflesplit_data(1)"
   ]
  },
  {
   "cell_type": "code",
   "execution_count": 9,
   "metadata": {
    "ExecuteTime": {
     "end_time": "2021-10-17T22:54:32.336435Z",
     "start_time": "2021-10-17T22:54:32.332739Z"
    },
    "hidden": true
   },
   "outputs": [
    {
     "data": {
      "text/plain": [
       "(98391, 282, 4)"
      ]
     },
     "execution_count": 9,
     "metadata": {},
     "output_type": "execute_result"
    }
   ],
   "source": [
    "X_sig.shape"
   ]
  },
  {
   "cell_type": "code",
   "execution_count": 10,
   "metadata": {
    "ExecuteTime": {
     "end_time": "2021-10-17T22:54:32.345691Z",
     "start_time": "2021-10-17T22:54:32.338113Z"
    },
    "hidden": true
   },
   "outputs": [
    {
     "data": {
      "text/plain": [
       "(83475, 282, 4)"
      ]
     },
     "execution_count": 10,
     "metadata": {},
     "output_type": "execute_result"
    }
   ],
   "source": [
    "X_bgsig.shape"
   ]
  },
  {
   "cell_type": "code",
   "execution_count": 11,
   "metadata": {
    "ExecuteTime": {
     "end_time": "2021-10-17T22:54:32.355783Z",
     "start_time": "2021-10-17T22:54:32.347341Z"
    },
    "hidden": true
   },
   "outputs": [
    {
     "data": {
      "text/plain": [
       "80"
      ]
     },
     "execution_count": 11,
     "metadata": {},
     "output_type": "execute_result"
    }
   ],
   "source": [
    "np.count_nonzero(X_sig[0][:,0])"
   ]
  },
  {
   "cell_type": "code",
   "execution_count": 15,
   "metadata": {
    "ExecuteTime": {
     "end_time": "2021-10-09T04:03:55.739373Z",
     "start_time": "2021-10-09T04:03:55.732902Z"
    },
    "hidden": true
   },
   "outputs": [],
   "source": [
    "def convert_to_scatter_points(orig_data, idx):\n",
    "    dest = []\n",
    "    for pt in orig_data:\n",
    "        to_plot = pt[:,idx]\n",
    "        num = np.count_nonzero(to_plot)\n",
    "        avg = sum(to_plot)/num\n",
    "        dest.append([num, avg])\n",
    "    return dest"
   ]
  },
  {
   "cell_type": "code",
   "execution_count": 17,
   "metadata": {
    "ExecuteTime": {
     "end_time": "2021-10-09T04:10:53.805657Z",
     "start_time": "2021-10-09T04:10:13.049891Z"
    },
    "hidden": true
   },
   "outputs": [],
   "source": [
    "sig_points_0 = convert_to_scatter_points(X_sig, 0)\n",
    "sig_points_1 = convert_to_scatter_points(X_sig, 1)\n",
    "sig_points_2 = convert_to_scatter_points(X_sig, 2)\n",
    "sig_points_3 = convert_to_scatter_points(X_sig, 3)\n",
    "bg_points_0 = convert_to_scatter_points(X_bgsig, 0)\n",
    "bg_points_1 = convert_to_scatter_points(X_bgsig, 1)\n",
    "bg_points_2 = convert_to_scatter_points(X_bgsig, 2)\n",
    "bg_points_3 = convert_to_scatter_points(X_bgsig, 3)\n",
    "    "
   ]
  },
  {
   "cell_type": "code",
   "execution_count": 20,
   "metadata": {
    "ExecuteTime": {
     "end_time": "2021-10-09T04:12:51.247900Z",
     "start_time": "2021-10-09T04:12:50.849989Z"
    },
    "hidden": true
   },
   "outputs": [],
   "source": [
    "sig_points_0 = np.array(sig_points_0)\n",
    "sig_points_1 = np.array(sig_points_1)\n",
    "sig_points_2 = np.array(sig_points_2)\n",
    "sig_points_3 = np.array(sig_points_3)\n",
    "bg_points_0 = np.array(bg_points_0)\n",
    "bg_points_1 = np.array(bg_points_1)\n",
    "bg_points_2 = np.array(bg_points_2)\n",
    "bg_points_3 = np.array(bg_points_3)"
   ]
  },
  {
   "cell_type": "code",
   "execution_count": 40,
   "metadata": {
    "ExecuteTime": {
     "end_time": "2021-10-09T05:15:30.084323Z",
     "start_time": "2021-10-09T05:15:26.159776Z"
    },
    "hidden": true
   },
   "outputs": [
    {
     "data": {
      "image/png": "[encoded data removed]",
      "text/plain": [
       "<Figure size 1440x432 with 3 Axes>"
      ]
     },
     "metadata": {
      "needs_background": "light"
     },
     "output_type": "display_data"
    }
   ],
   "source": [
    "\n",
    "%matplotlib inline\n",
    "fig = plt.figure(figsize=(20, 6))\n",
    "subplots = fig.subplots(1, 3)\n",
    "ax0, ax1, ax2 = subplots[0], subplots[1], subplots[2]\n",
    "[ax.set_xlabel('num_particles') for ax in subplots]\n",
    "[ax.set_ylabel('avg value for index 0') for ax in subplots]\n",
    "ax0.set_title('scatter')\n",
    "ax1.set_title('heatmap, background')\n",
    "ax2.set_title('heatmap signal')\n",
    "ax0.scatter(*zip(*bg_points_0),s = 2,marker = '.',label = 'bg')\n",
    "ax0.scatter(*zip(*sig_points_0),s = 2, marker = '.',label = 'sig')\n",
    "ax0.legend()\n",
    "ax1.hist2d(*zip(*bg_points_0),bins=20)\n",
    "ax2.hist2d(*zip(*sig_points_0),bins=20)\n",
    "None"
   ]
  },
  {
   "cell_type": "code",
   "execution_count": 41,
   "metadata": {
    "ExecuteTime": {
     "end_time": "2021-10-09T05:15:43.526164Z",
     "start_time": "2021-10-09T05:15:39.853984Z"
    },
    "hidden": true
   },
   "outputs": [
    {
     "data": {
      "image/png": "[encoded data removed]",
      "text/plain": [
       "<Figure size 1440x432 with 3 Axes>"
      ]
     },
     "metadata": {
      "needs_background": "light"
     },
     "output_type": "display_data"
    }
   ],
   "source": [
    "\n",
    "%matplotlib inline\n",
    "fig = plt.figure(figsize=(20, 6))\n",
    "subplots = fig.subplots(1, 3)\n",
    "ax0, ax1, ax2 = subplots[0], subplots[1], subplots[2]\n",
    "[ax.set_xlabel('num_particles') for ax in subplots]\n",
    "[ax.set_ylabel('avg value for index 1') for ax in subplots]\n",
    "\n",
    "ax0.set_title('scatter')\n",
    "ax1.set_title('heatmap, background')\n",
    "ax2.set_title('heatmap signal')\n",
    "ax0.scatter(*zip(*bg_points_1),s = 2,marker = '.',label = 'bg')\n",
    "ax0.scatter(*zip(*sig_points_1),s = 2, marker = '.',label = 'sig')\n",
    "ax0.legend()\n",
    "ax1.hist2d(*zip(*bg_points_1),bins=20)\n",
    "ax2.hist2d(*zip(*sig_points_1),bins=20)\n",
    "None\n"
   ]
  },
  {
   "cell_type": "code",
   "execution_count": 42,
   "metadata": {
    "ExecuteTime": {
     "end_time": "2021-10-09T05:16:15.564299Z",
     "start_time": "2021-10-09T05:16:11.627894Z"
    },
    "hidden": true
   },
   "outputs": [
    {
     "data": {
      "image/png": "[encoded data removed]",
      "text/plain": [
       "<Figure size 1440x432 with 3 Axes>"
      ]
     },
     "metadata": {
      "needs_background": "light"
     },
     "output_type": "display_data"
    }
   ],
   "source": [
    "%matplotlib inline\n",
    "fig = plt.figure(figsize=(20, 6))\n",
    "subplots = fig.subplots(1, 3)\n",
    "ax0, ax1, ax2 = subplots[0], subplots[1], subplots[2]\n",
    "[ax.set_xlabel('num_particles') for ax in subplots]\n",
    "[ax.set_ylabel('avg value for index 2') for ax in subplots]\n",
    "\n",
    "ax0.set_title('scatter')\n",
    "ax1.set_title('heatmap, background')\n",
    "ax2.set_title('heatmap signal')\n",
    "ax0.scatter(*zip(*bg_points_2),s = 2,marker = '.',label = 'bg')\n",
    "ax0.scatter(*zip(*sig_points_2),s = 2, marker = '.',label = 'sig')\n",
    "ax0.legend()\n",
    "ax1.hist2d(*zip(*bg_points_2),bins=20)\n",
    "ax2.hist2d(*zip(*sig_points_2),bins=20)\n",
    "None"
   ]
  },
  {
   "cell_type": "code",
   "execution_count": 43,
   "metadata": {
    "ExecuteTime": {
     "end_time": "2021-10-09T05:16:19.206293Z",
     "start_time": "2021-10-09T05:16:15.598937Z"
    },
    "hidden": true
   },
   "outputs": [
    {
     "data": {
      "image/png": "[encoded data removed]",
      "text/plain": [
       "<Figure size 1440x432 with 3 Axes>"
      ]
     },
     "metadata": {
      "needs_background": "light"
     },
     "output_type": "display_data"
    }
   ],
   "source": [
    "%matplotlib inline\n",
    "fig = plt.figure(figsize=(20, 6))\n",
    "subplots = fig.subplots(1, 3)\n",
    "ax0, ax1, ax2 = subplots[0], subplots[1], subplots[2]\n",
    "[ax.set_xlabel('num_particles') for ax in subplots]\n",
    "[ax.set_ylabel('avg value for index 3') for ax in subplots]\n",
    "\n",
    "ax0.set_title('scatter')\n",
    "ax1.set_title('heatmap, background')\n",
    "ax2.set_title('heatmap signal')\n",
    "ax0.scatter(*zip(*bg_points_3),s = 2,marker = '.',label = 'bg')\n",
    "ax0.scatter(*zip(*sig_points_3),s = 2, marker = '.',label = 'sig')\n",
    "ax0.legend()\n",
    "ax1.hist2d(*zip(*bg_points_3),bins=20)\n",
    "ax2.hist2d(*zip(*sig_points_3),bins=20)\n",
    "None"
   ]
  },
  {
   "cell_type": "markdown",
   "metadata": {
    "heading_collapsed": true
   },
   "source": [
    "# Leftover code from previously"
   ]
  },
  {
   "cell_type": "code",
   "execution_count": 6,
   "metadata": {
    "ExecuteTime": {
     "end_time": "2021-10-17T22:53:34.548780Z",
     "start_time": "2021-10-17T22:53:34.518681Z"
    },
    "code_folding": [
     0
    ],
    "hidden": true
   },
   "outputs": [],
   "source": [
    "def prep_and_shufflesplit_data_modified(anomaly_ratio, size_each = 76000, shuffle_seed = 69,\n",
    "                               train = 0.8, val = 0.2, test_size_each = 5000, special_test = True,\n",
    "                               use_pid = True, limit_particles = 9999, normalize_all = True):\n",
    "    \n",
    "    \"\"\"\n",
    "    Pre-Data Selection\n",
    "    \"\"\"\n",
    "        \n",
    "    #how much bg and signal data to take?\n",
    "    \n",
    "    anom_size = round(anomaly_ratio * size_each)\n",
    "    bgsig_size = size_each - anom_size\n",
    "    \n",
    "    # make sure we have enough data.\n",
    "    assert (size_each <= X_sb.shape[0])\n",
    "    assert (anom_size + test_size_each <= X_sig.shape[0])\n",
    "    assert (bgsig_size + test_size_each <= X_bgsig.shape[0])\n",
    "    \n",
    "    \"\"\"\n",
    "    Data Selection\n",
    "    \"\"\"\n",
    "    \n",
    "    # select sideband datapoints\n",
    "    this_X_sb = X_sb[:size_each]\n",
    "    this_y_sb = np.zeros(size_each)\n",
    "    \n",
    "    # select bgsig datapoints\n",
    "    this_X_bgsig = X_bgsig[:bgsig_size]\n",
    "    this_y_bgsig = np.ones(bgsig_size)\n",
    "    \n",
    "    # select anomaly datapoints\n",
    "    this_X_sig = X_sig[:anom_size]\n",
    "    this_y_sig = np.ones(anom_size)\n",
    "    \n",
    "    \"\"\"\n",
    "    Shuffle + Train-Val-Test Split (not test set)\n",
    "    \"\"\"\n",
    "    # Combine all 3 data sets\n",
    "    this_X = np.concatenate([this_X_sb, this_X_bgsig, this_X_sig])\n",
    "    this_y = np.concatenate([this_y_sb, this_y_bgsig, this_y_sig])\n",
    "    \n",
    "    # Shuffle before we split\n",
    "    this_X, this_y = shuffle(this_X, this_y, random_state = shuffle_seed)\n",
    "    \n",
    "    \n",
    "    (this_X_tr, this_X_v, _,\n",
    "     this_y_tr, this_y_v, _) = data_split(this_X, this_y, val=val, test=0)\n",
    "        \n",
    "    \n",
    "    print('Size of sb:')\n",
    "    print(this_X_sb.shape)\n",
    "    print('Size of bgsig:')\n",
    "    print(this_X_bgsig.shape)\n",
    "    print('Size of sig:')\n",
    "    print(this_X_sig.shape)\n",
    "        \n",
    "    \n",
    "    \"\"\"\n",
    "    Get the test set\n",
    "    \"\"\"\n",
    "    \n",
    "    # select the data\n",
    "    this_X_test_P = X_sig[anom_size:anom_size+test_size_each]\n",
    "    this_X_test_N = X_bgsig[bgsig_size:bgsig_size+test_size_each]\n",
    "    \n",
    "    this_y_test_P = np.ones(test_size_each)\n",
    "    this_y_test_N = np.zeros(test_size_each)\n",
    "        \n",
    "    # Shuffle the combination    \n",
    "    this_X_te = np.concatenate([this_X_test_P, this_X_test_N])\n",
    "    this_y_te = np.concatenate([this_y_test_P, this_y_test_N])\n",
    "    \n",
    "    this_X_te, this_y_te = shuffle(this_X_te, this_y_te, random_state = shuffle_seed)\n",
    "#     print('Size of test set:')\n",
    "#     print(this_X_te.shape)\n",
    "#     print('Test set distribution:')\n",
    "#     print(np.unique(this_y_te,return_counts = True))\n",
    "    \n",
    "    \n",
    "    X_train, X_val, X_test, y_train, y_val, y_test \\\n",
    "    = this_X_tr, this_X_v, this_X_te, this_y_tr, this_y_v, this_y_te\n",
    "    \n",
    "    \"\"\"\n",
    "    Data processing\n",
    "    \"\"\"\n",
    "    \n",
    "    # Centre and normalize all the Xs\n",
    "    for x in X_train:\n",
    "        mask = x[:,0] > 0\n",
    "        yphi_avg = np.average(x[mask,1:3], weights=x[mask,0], axis=0)\n",
    "        x[mask,1:3] -= yphi_avg\n",
    "        x[mask,0] /= x[:,0].sum()\n",
    "        if normalize_all:\n",
    "            x /= np.sum(x)\n",
    "        \n",
    "    for x in X_val:\n",
    "        mask = x[:,0] > 0\n",
    "        yphi_avg = np.average(x[mask,1:3], weights=x[mask,0], axis=0)\n",
    "        x[mask,1:3] -= yphi_avg\n",
    "        x[mask,0] /= x[:,0].sum()\n",
    "        if normalize_all:\n",
    "            x /= np.sum(x)\n",
    "        \n",
    "    for x in X_test:\n",
    "        mask = x[:,0] > 0\n",
    "        yphi_avg = np.average(x[mask,1:3], weights=x[mask,0], axis=0)\n",
    "        x[mask,1:3] -= yphi_avg\n",
    "        x[mask,0] /= x[:,0].sum()\n",
    "        if normalize_all:\n",
    "            x /= np.sum(x)\n",
    "        \n",
    "    \n",
    "    if use_pid:\n",
    "        # remap PIDs for all the Xs\n",
    "        remap_pids(X_train, pid_i=3)\n",
    "        remap_pids(X_val, pid_i=3)\n",
    "        remap_pids(X_test, pid_i=3)\n",
    "    else:\n",
    "        X_train = X_train[:,:,:3]\n",
    "        X_val = X_val[:,:,:3]\n",
    "        X_test = X_test[:,:,:3]\n",
    "    \n",
    "    # change Y to categorical Matrix\n",
    "    Y_train = to_categorical(y_train, num_classes=2)\n",
    "    Y_val = to_categorical(y_val, num_classes=2)\n",
    "    Y_test = to_categorical(y_test, num_classes=2)\n",
    "    \n",
    "    print('Training set size, distribution:')\n",
    "    print(X_train.shape)\n",
    "    print(np.unique(y_train,return_counts = True))\n",
    "    print('Validations set size, distribution:')\n",
    "    print(X_val.shape)\n",
    "    print(np.unique(y_val,return_counts = True))\n",
    "    print('Test set size, distribution:')\n",
    "    print(X_test.shape)\n",
    "    print(np.unique(y_test,return_counts = True))\n",
    "    \n",
    "    return X_train, X_val, X_test, Y_train,Y_val,Y_test"
   ]
  },
  {
   "cell_type": "code",
   "execution_count": 7,
   "metadata": {
    "ExecuteTime": {
     "end_time": "2021-10-17T22:53:57.414090Z",
     "start_time": "2021-10-17T22:53:57.383551Z"
    },
    "code_folding": [
     0
    ],
    "hidden": true
   },
   "outputs": [],
   "source": [
    "def prep_and_shufflesplit_data(anomaly_ratio, size_each = 76000, shuffle_seed = 69,\n",
    "                               train = 0.8, val = 0.2, test_size_each = 5000, special_test = True,\n",
    "                               use_pid = True, limit_particles = 9999, normalize_all = True):\n",
    "    \n",
    "    \"\"\"\n",
    "    Pre-Data Selection\n",
    "    \"\"\"\n",
    "        \n",
    "    #how much bg and signal data to take?\n",
    "    \n",
    "    anom_size = round(anomaly_ratio * size_each)\n",
    "    bgsig_size = size_each - anom_size\n",
    "    \n",
    "    # make sure we have enough data.\n",
    "    assert (size_each <= X_sb.shape[0])\n",
    "    assert (anom_size + test_size_each <= X_sig.shape[0])\n",
    "    assert (bgsig_size + test_size_each <= X_bgsig.shape[0])\n",
    "    \n",
    "    \"\"\"\n",
    "    Data Selection\n",
    "    \"\"\"\n",
    "    \n",
    "    # select sideband datapoints\n",
    "    this_X_sb = X_sb[:size_each]\n",
    "    this_y_sb = np.zeros(size_each)\n",
    "    \n",
    "    # select bgsig datapoints\n",
    "    this_X_bgsig = X_bgsig[:bgsig_size]\n",
    "    this_y_bgsig = np.ones(bgsig_size)\n",
    "    \n",
    "    # select anomaly datapoints\n",
    "    this_X_sig = X_sig[:anom_size]\n",
    "    this_y_sig = np.ones(anom_size)\n",
    "    \n",
    "    \"\"\"\n",
    "    Shuffle + Train-Val-Test Split (not test set)\n",
    "    \"\"\"\n",
    "    # Combine all 3 data sets\n",
    "    this_X = np.concatenate([this_X_sb, this_X_bgsig, this_X_sig])\n",
    "    this_y = np.concatenate([this_y_sb, this_y_bgsig, this_y_sig])\n",
    "    \n",
    "    # Shuffle before we split\n",
    "    this_X, this_y = shuffle(this_X, this_y, random_state = shuffle_seed)\n",
    "    \n",
    "    \n",
    "    (this_X_tr, this_X_v, _,\n",
    "     this_y_tr, this_y_v, _) = data_split(this_X, this_y, val=val, test=0)\n",
    "        \n",
    "    \n",
    "    print('Size of sb:')\n",
    "    print(this_X_sb.shape)\n",
    "    print('Size of bgsig:')\n",
    "    print(this_X_bgsig.shape)\n",
    "    print('Size of sig:')\n",
    "    print(this_X_sig.shape)\n",
    "        \n",
    "    \n",
    "    \"\"\"\n",
    "    Get the test set\n",
    "    \"\"\"\n",
    "    \n",
    "    # select the data\n",
    "    this_X_test_P = X_sig[anom_size:anom_size+test_size_each]\n",
    "    this_X_test_N = X_bgsig[bgsig_size:bgsig_size+test_size_each]\n",
    "    \n",
    "    this_y_test_P = np.ones(test_size_each)\n",
    "    this_y_test_N = np.zeros(test_size_each)\n",
    "        \n",
    "    # Shuffle the combination    \n",
    "    this_X_te = np.concatenate([this_X_test_P, this_X_test_N])\n",
    "    this_y_te = np.concatenate([this_y_test_P, this_y_test_N])\n",
    "    \n",
    "    this_X_te, this_y_te = shuffle(this_X_te, this_y_te, random_state = shuffle_seed)\n",
    "#     print('Size of test set:')\n",
    "#     print(this_X_te.shape)\n",
    "#     print('Test set distribution:')\n",
    "#     print(np.unique(this_y_te,return_counts = True))\n",
    "    \n",
    "    \n",
    "    X_train, X_val, X_test, y_train, y_val, y_test \\\n",
    "    = this_X_tr, this_X_v, this_X_te, this_y_tr, this_y_v, this_y_te\n",
    "    \n",
    "    \"\"\"\n",
    "    Data processing\n",
    "    \"\"\"\n",
    "    \n",
    "    # chop off \n",
    "    \n",
    "    if limit_particles < X_train.shape[1]:\n",
    "        print('CHOPPED!!!')\n",
    "        X_train = X_train[:,:limit_particles,:]\n",
    "        X_val = X_val[:,:limit_particles,:]\n",
    "        X_test = X_test[:,:limit_particles,:]\n",
    "    \n",
    "    # Centre and normalize all the Xs\n",
    "    for x in X_train:\n",
    "        mask = x[:,0] > 0\n",
    "        yphi_avg = np.average(x[mask,1:3], weights=x[mask,0], axis=0)\n",
    "        x[mask,1:3] -= yphi_avg\n",
    "        x[mask,0] /= x[:,0].sum()\n",
    "        if normalize_all:\n",
    "            x /= np.sum(x)\n",
    "        \n",
    "    for x in X_val:\n",
    "        mask = x[:,0] > 0\n",
    "        yphi_avg = np.average(x[mask,1:3], weights=x[mask,0], axis=0)\n",
    "        x[mask,1:3] -= yphi_avg\n",
    "        x[mask,0] /= x[:,0].sum()\n",
    "        if normalize_all:\n",
    "            x /= np.sum(x)\n",
    "        \n",
    "    for x in X_test:\n",
    "        mask = x[:,0] > 0\n",
    "        yphi_avg = np.average(x[mask,1:3], weights=x[mask,0], axis=0)\n",
    "        x[mask,1:3] -= yphi_avg\n",
    "        x[mask,0] /= x[:,0].sum()\n",
    "        if normalize_all:\n",
    "            x /= np.sum(x)\n",
    "        \n",
    "    \n",
    "    if use_pid:\n",
    "        # remap PIDs for all the Xs\n",
    "        remap_pids(X_train, pid_i=3)\n",
    "        remap_pids(X_val, pid_i=3)\n",
    "        remap_pids(X_test, pid_i=3)\n",
    "    else:\n",
    "        X_train = X_train[:,:,:3]\n",
    "        X_val = X_val[:,:,:3]\n",
    "        X_test = X_test[:,:,:3]\n",
    "    \n",
    "    # change Y to categorical Matrix\n",
    "    Y_train = to_categorical(y_train, num_classes=2)\n",
    "    Y_val = to_categorical(y_val, num_classes=2)\n",
    "    Y_test = to_categorical(y_test, num_classes=2)\n",
    "    \n",
    "    print('Training set size, distribution:')\n",
    "    print(X_train.shape)\n",
    "    print(np.unique(y_train,return_counts = True))\n",
    "    print('Validations set size, distribution:')\n",
    "    print(X_val.shape)\n",
    "    print(np.unique(y_val,return_counts = True))\n",
    "    print('Test set size, distribution:')\n",
    "    print(X_test.shape)\n",
    "    print(np.unique(y_test,return_counts = True))\n",
    "    \n",
    "    return X_train, X_val, X_test, Y_train,Y_val,Y_test"
   ]
  },
  {
   "cell_type": "code",
   "execution_count": 12,
   "metadata": {
    "ExecuteTime": {
     "end_time": "2021-10-17T22:54:42.588633Z",
     "start_time": "2021-10-17T22:54:42.578574Z"
    },
    "hidden": true
   },
   "outputs": [],
   "source": [
    "def train_model(X_train, X_val, X_test, Y_train,Y_val,Y_test):\n",
    "    model = PFN(input_dim=X_train.shape[-1], Phi_sizes=Phi_sizes, F_sizes=F_sizes)\n",
    "    histories = []\n",
    "    Y_predicts = []\n",
    "    for cycle in range(num_cycles):\n",
    "        print('----')\n",
    "        print('Beginning cycle ' + str(cycle))\n",
    "        history = model.fit(X_train, Y_train,\n",
    "              epochs=num_epoch,\n",
    "              batch_size=batch_size,\n",
    "              validation_data=(X_val, Y_val),\n",
    "              verbose=1)\n",
    "        Y_predict = model.predict(X_test)\n",
    "        histories.append(history)\n",
    "        Y_predicts.append(Y_predict)\n",
    "    \n",
    "    return (histories, Y_test, Y_predicts, model)"
   ]
  },
  {
   "cell_type": "code",
   "execution_count": 13,
   "metadata": {
    "ExecuteTime": {
     "end_time": "2021-10-17T22:54:44.169984Z",
     "start_time": "2021-10-17T22:54:44.154284Z"
    },
    "hidden": true
   },
   "outputs": [],
   "source": [
    "def evaluate_model(histories, Y_test, Y_predicts):\n",
    "    fine_index = list(range(num_epoch * num_cycles))\n",
    "    rough_index = list(range(num_epoch - 1, num_epoch * num_cycles, num_epoch))\n",
    "    train_acc = []\n",
    "    val_acc = []\n",
    "    for h in histories:\n",
    "        curr_train_acc = h.history['acc']\n",
    "        curr_val_acc = h.history['val_acc']\n",
    "        train_acc.extend(curr_train_acc)\n",
    "        val_acc.extend(curr_val_acc)\n",
    "\n",
    "\n",
    "    medians = []\n",
    "    test_acc = []\n",
    "    for Y_pred in Y_predicts:\n",
    "        medians.append(np.median(Y_pred[:,1:]))\n",
    "        curr_acc = accuracy_score(Y_test[:,1:], (Y_pred[:,1:]*2).astype(int))\n",
    "        test_acc.append(curr_acc)\n",
    "\n",
    "    fig = plt.figure(figsize = (8,6))\n",
    "    ax = fig.add_subplot(1, 1, 1)\n",
    "    ax.plot(fine_index, train_acc, label = 'train_acc', color='tab:blue')\n",
    "    ax.plot(fine_index, val_acc, label = 'val_acc', color='tab:orange')\n",
    "    #ax.plot(rough_index, medians, marker = '.', label = 'median', color = 'green')\n",
    "    ax.plot(rough_index, test_acc, marker = '.',linestyle = ':',label = 'test_acc', color = 'red')\n",
    "    ax.legend()\n",
    "    ax.set_xlim([0, num_epoch * num_cycles])\n",
    "\n",
    "    ax.set_title('line plot with data points')\n",
    "\n",
    "    # display the plot\n",
    "    plt.show()"
   ]
  },
  {
   "cell_type": "code",
   "execution_count": 14,
   "metadata": {
    "ExecuteTime": {
     "end_time": "2021-10-17T22:54:45.737655Z",
     "start_time": "2021-10-17T22:54:45.730551Z"
    },
    "hidden": true
   },
   "outputs": [],
   "source": [
    "def final_evaluation(Y_test, Y_predicts):\n",
    "    Y_predict = Y_predicts[-1]\n",
    "    roc_curve = sklearn.metrics.roc_curve(Y_test[:,1:], Y_predict[:,1:])\n",
    "    plt.plot(roc_curve[0],roc_curve[1])\n",
    "    plt.xlabel('fpr')\n",
    "    plt.ylabel('tpr')\n",
    "    plt.title('ROC curve')\n",
    "    plt.show()"
   ]
  },
  {
   "cell_type": "markdown",
   "metadata": {
    "heading_collapsed": true
   },
   "source": [
    "# Neural Network Analysis - 2d"
   ]
  },
  {
   "cell_type": "code",
   "execution_count": 58,
   "metadata": {
    "ExecuteTime": {
     "end_time": "2021-10-18T01:11:27.661952Z",
     "start_time": "2021-10-18T01:11:27.651625Z"
    },
    "hidden": true
   },
   "outputs": [],
   "source": [
    "def get_random_particle(sig, size = 30):\n",
    "    if sig:\n",
    "        vals_pt1 = np.random.normal(0.6, 0.1, 20).reshape(20,1)\n",
    "        vals_pt2 = np.random.normal(0.5, 0.1, 262).reshape(262,1)\n",
    "        vals = np.vstack([vals_pt1, vals_pt2])\n",
    "        list_of_vals = [vals]\n",
    "    else:\n",
    "        list_of_vals = [np.random.normal(0.5, 0.1, 282).reshape(282,1)]\n",
    "    other_vals = [np.random.normal(0.5, 0.1, 282).reshape(282,1) for _ in range(size - 1)]\n",
    "    return np.hstack(list_of_vals + other_vals)"
   ]
  },
  {
   "cell_type": "code",
   "execution_count": 59,
   "metadata": {
    "ExecuteTime": {
     "end_time": "2021-10-18T01:11:39.704262Z",
     "start_time": "2021-10-18T01:11:28.938862Z"
    },
    "hidden": true
   },
   "outputs": [],
   "source": [
    "mock_signal = np.array([get_random_particle(True) for _ in range(10000)])\n",
    "mock_bg = np.array([get_random_particle(False) for _ in range(10000)])"
   ]
  },
  {
   "cell_type": "code",
   "execution_count": 21,
   "metadata": {
    "ExecuteTime": {
     "end_time": "2021-10-17T23:03:23.678470Z",
     "start_time": "2021-10-17T23:03:23.662204Z"
    },
    "hidden": true
   },
   "outputs": [],
   "source": [
    "def prep_and_shufflesplit_data_mock(sig, bg, num_dims):\n",
    "    \n",
    "    this_X_bg = bg[:,:,:num_dims]\n",
    "    this_y_bg = np.zeros(len(bg))\n",
    "    \n",
    "    # select anomaly datapoints\n",
    "    this_X_sig = sig[:,:,:num_dims]\n",
    "    this_y_sig = np.ones(len(sig))\n",
    "    \n",
    "    \"\"\"\n",
    "    Shuffle + Train-Val-Test Split (not test set)\n",
    "    \"\"\"\n",
    "    # Combine all 3 data sets\n",
    "    this_X = np.concatenate([this_X_bg, this_X_sig])\n",
    "    this_y = np.concatenate([this_y_bg, this_y_sig])\n",
    "    \n",
    "    # Shuffle before we split\n",
    "    this_X, this_y = shuffle(this_X, this_y)\n",
    "    \n",
    "    \n",
    "    (this_X_tr, this_X_v, this_X_te,\n",
    "     this_y_tr, this_y_v, this_y_te) = data_split(this_X, this_y, val=0.2, test=0.1)\n",
    "        \n",
    "        \n",
    "    \n",
    "    X_train, X_val, X_test, y_train, y_val, y_test \\\n",
    "    = this_X_tr, this_X_v, this_X_te, this_y_tr, this_y_v, this_y_te\n",
    "            \n",
    "    # change Y to categorical Matrix\n",
    "    Y_train = to_categorical(y_train, num_classes=2)\n",
    "    Y_val = to_categorical(y_val, num_classes=2)\n",
    "    Y_test = to_categorical(y_test, num_classes=2)\n",
    "    \n",
    "    print('Training set size, distribution:')\n",
    "    print(X_train.shape)\n",
    "    print(np.unique(y_train,return_counts = True))\n",
    "    print('Validations set size, distribution:')\n",
    "    print(X_val.shape)\n",
    "    print(np.unique(y_val,return_counts = True))\n",
    "    print('Test set size, distribution:')\n",
    "    print(X_test.shape)\n",
    "    print(np.unique(y_test,return_counts = True))\n",
    "    \n",
    "    return X_train, X_val, X_test, Y_train,Y_val,Y_test"
   ]
  },
  {
   "cell_type": "markdown",
   "metadata": {
    "hidden": true
   },
   "source": [
    "## Only one dimension"
   ]
  },
  {
   "cell_type": "code",
   "execution_count": 40,
   "metadata": {
    "ExecuteTime": {
     "end_time": "2021-10-17T23:50:45.952637Z",
     "start_time": "2021-10-17T23:50:45.863722Z"
    },
    "hidden": true
   },
   "outputs": [
    {
     "name": "stdout",
     "output_type": "stream",
     "text": [
      "Training set size, distribution:\n",
      "(14000, 282, 1)\n",
      "(array([0., 1.]), array([6965, 7035]))\n",
      "Validations set size, distribution:\n",
      "(4000, 282, 1)\n",
      "(array([0., 1.]), array([1979, 2021]))\n",
      "Test set size, distribution:\n",
      "(2000, 282, 1)\n",
      "(array([0., 1.]), array([1056,  944]))\n"
     ]
    }
   ],
   "source": [
    "X_train, X_val, X_test, Y_train,Y_val,Y_test = prep_and_shufflesplit_data_mock(mock_signal, mock_bg, 1)"
   ]
  },
  {
   "cell_type": "code",
   "execution_count": 41,
   "metadata": {
    "ExecuteTime": {
     "end_time": "2021-10-17T23:50:48.089033Z",
     "start_time": "2021-10-17T23:50:48.084089Z"
    },
    "hidden": true
   },
   "outputs": [],
   "source": [
    "Phi_sizes, F_sizes = ([100,50]), ([100,50])\n",
    "vanilla_hidden_sizes = [100,50]\n",
    "num_epoch = 15\n",
    "num_cycles = 1\n",
    "batch_size = 10"
   ]
  },
  {
   "cell_type": "code",
   "execution_count": 42,
   "metadata": {
    "ExecuteTime": {
     "end_time": "2021-10-17T23:50:50.301348Z",
     "start_time": "2021-10-17T23:50:50.286183Z"
    },
    "hidden": true
   },
   "outputs": [],
   "source": [
    "def train_vanilla_model(X_train, X_val, X_test, Y_train,Y_val,Y_test, num_dims):\n",
    "    \n",
    "    def special_flatten(arr):\n",
    "        return arr.reshape((arr.shape[0], arr.shape[1]*arr.shape[2]))\n",
    "    \n",
    "    X_train_flat = special_flatten(X_train)\n",
    "    X_val_flat = special_flatten(X_val)\n",
    "    X_test_flat = special_flatten(X_test)\n",
    "    \n",
    "    \n",
    "    inputs = tf.keras.Input(shape=(282*num_dims,))\n",
    "    x = inputs\n",
    "    for size in vanilla_hidden_sizes:\n",
    "        x = tf.keras.layers.Dense(size, activation=tf.nn.relu)(x)\n",
    "        \n",
    "    outputs = tf.keras.layers.Dense(2, activation=tf.nn.softmax)(x)\n",
    "    \n",
    "    model = tf.keras.Model(inputs=inputs, outputs=outputs)\n",
    "    \n",
    "    model.compile(optimizer=tf.keras.optimizers.Adam(lr = 0.0001)\n",
    ",\n",
    "              loss=tf.losses.softmax_cross_entropy,\n",
    "              metrics=['accuracy'])\n",
    "    \n",
    "    histories = []\n",
    "    Y_predicts = []\n",
    "    for cycle in range(num_cycles):\n",
    "        print('----')\n",
    "        print('Beginning cycle ' + str(cycle))\n",
    "        history = model.fit(X_train_flat, Y_train,\n",
    "              epochs=num_epoch,\n",
    "              batch_size=batch_size,\n",
    "              validation_data=(X_val_flat, Y_val),\n",
    "              verbose=2)\n",
    "        Y_predict = model.predict(X_test_flat)\n",
    "        histories.append(history)\n",
    "        Y_predicts.append(Y_predict)\n",
    "    \n",
    "    return (histories, Y_test, Y_predicts, model)"
   ]
  },
  {
   "cell_type": "code",
   "execution_count": null,
   "metadata": {
    "hidden": true
   },
   "outputs": [],
   "source": []
  },
  {
   "cell_type": "code",
   "execution_count": 43,
   "metadata": {
    "ExecuteTime": {
     "end_time": "2021-10-17T23:52:17.369998Z",
     "start_time": "2021-10-17T23:50:51.762489Z"
    },
    "hidden": true,
    "scrolled": false
   },
   "outputs": [
    {
     "name": "stdout",
     "output_type": "stream",
     "text": [
      "----\n",
      "Beginning cycle 0\n",
      "Train on 14000 samples, validate on 4000 samples\n",
      "Epoch 1/15\n",
      " - 6s - loss: 0.6236 - acc: 0.7684 - val_loss: 0.5401 - val_acc: 0.8475\n",
      "Epoch 2/15\n",
      " - 6s - loss: 0.4442 - acc: 0.9559 - val_loss: 0.4009 - val_acc: 0.9540\n",
      "Epoch 3/15\n",
      " - 6s - loss: 0.3730 - acc: 0.9724 - val_loss: 0.3563 - val_acc: 0.9785\n",
      "Epoch 4/15\n",
      " - 6s - loss: 0.3536 - acc: 0.9771 - val_loss: 0.3456 - val_acc: 0.9825\n",
      "Epoch 5/15\n",
      " - 6s - loss: 0.3444 - acc: 0.9799 - val_loss: 0.3439 - val_acc: 0.9785\n",
      "Epoch 6/15\n",
      " - 6s - loss: 0.3404 - acc: 0.9806 - val_loss: 0.3573 - val_acc: 0.9592\n",
      "Epoch 7/15\n",
      " - 6s - loss: 0.3371 - acc: 0.9819 - val_loss: 0.3348 - val_acc: 0.9835\n",
      "Epoch 8/15\n",
      " - 6s - loss: 0.3359 - acc: 0.9812 - val_loss: 0.3337 - val_acc: 0.9835\n",
      "Epoch 9/15\n",
      " - 6s - loss: 0.3353 - acc: 0.9807 - val_loss: 0.3329 - val_acc: 0.9832\n",
      "Epoch 10/15\n",
      " - 6s - loss: 0.3352 - acc: 0.9815 - val_loss: 0.3322 - val_acc: 0.9840\n",
      "Epoch 11/15\n",
      " - 6s - loss: 0.3337 - acc: 0.9816 - val_loss: 0.3338 - val_acc: 0.9805\n",
      "Epoch 12/15\n",
      " - 6s - loss: 0.3325 - acc: 0.9824 - val_loss: 0.3331 - val_acc: 0.9822\n",
      "Epoch 13/15\n",
      " - 6s - loss: 0.3328 - acc: 0.9814 - val_loss: 0.3308 - val_acc: 0.9847\n",
      "Epoch 14/15\n",
      " - 6s - loss: 0.3319 - acc: 0.9827 - val_loss: 0.3307 - val_acc: 0.9835\n",
      "Epoch 15/15\n",
      " - 6s - loss: 0.3308 - acc: 0.9839 - val_loss: 0.3353 - val_acc: 0.9795\n"
     ]
    }
   ],
   "source": [
    "histories, Y_test, Y_predicts, model = train_vanilla_model(X_train, X_val, X_test, Y_train,Y_val,Y_test, 1)"
   ]
  },
  {
   "cell_type": "markdown",
   "metadata": {
    "heading_collapsed": true,
    "hidden": true
   },
   "source": [
    "## maybe 20 dimensions?"
   ]
  },
  {
   "cell_type": "code",
   "execution_count": 44,
   "metadata": {
    "ExecuteTime": {
     "end_time": "2021-10-17T23:52:23.297402Z",
     "start_time": "2021-10-17T23:52:22.669097Z"
    },
    "hidden": true
   },
   "outputs": [
    {
     "name": "stdout",
     "output_type": "stream",
     "text": [
      "Training set size, distribution:\n",
      "(14000, 282, 20)\n",
      "(array([0., 1.]), array([6965, 7035]))\n",
      "Validations set size, distribution:\n",
      "(4000, 282, 20)\n",
      "(array([0., 1.]), array([2022, 1978]))\n",
      "Test set size, distribution:\n",
      "(2000, 282, 20)\n",
      "(array([0., 1.]), array([1013,  987]))\n"
     ]
    }
   ],
   "source": [
    "X_train, X_val, X_test, Y_train,Y_val,Y_test = prep_and_shufflesplit_data_mock(mock_signal, mock_bg, 20)"
   ]
  },
  {
   "cell_type": "code",
   "execution_count": 45,
   "metadata": {
    "ExecuteTime": {
     "end_time": "2021-10-17T23:52:25.219088Z",
     "start_time": "2021-10-17T23:52:25.213618Z"
    },
    "hidden": true
   },
   "outputs": [],
   "source": [
    "Phi_sizes, F_sizes = ([100,50]), ([100,50])\n",
    "vanilla_hidden_sizes = [100,50]\n",
    "num_epoch = 15\n",
    "num_cycles = 1\n",
    "batch_size = 10"
   ]
  },
  {
   "cell_type": "code",
   "execution_count": 46,
   "metadata": {
    "ExecuteTime": {
     "end_time": "2021-10-17T23:54:00.627992Z",
     "start_time": "2021-10-17T23:52:28.023757Z"
    },
    "hidden": true
   },
   "outputs": [
    {
     "name": "stdout",
     "output_type": "stream",
     "text": [
      "----\n",
      "Beginning cycle 0\n",
      "Train on 14000 samples, validate on 4000 samples\n",
      "Epoch 1/15\n",
      " - 7s - loss: 0.6958 - acc: 0.5027 - val_loss: 0.6921 - val_acc: 0.5055\n",
      "Epoch 2/15\n",
      " - 6s - loss: 0.6930 - acc: 0.5115 - val_loss: 0.6925 - val_acc: 0.4945\n",
      "Epoch 3/15\n",
      " - 6s - loss: 0.6910 - acc: 0.5359 - val_loss: 0.6893 - val_acc: 0.5055\n",
      "Epoch 4/15\n",
      " - 6s - loss: 0.6851 - acc: 0.5528 - val_loss: 0.6773 - val_acc: 0.8832\n",
      "Epoch 5/15\n",
      " - 6s - loss: 0.6710 - acc: 0.6336 - val_loss: 0.6642 - val_acc: 0.4978\n",
      "Epoch 6/15\n",
      " - 6s - loss: 0.6418 - acc: 0.7191 - val_loss: 0.6272 - val_acc: 0.6793\n",
      "Epoch 7/15\n",
      " - 6s - loss: 0.5998 - acc: 0.8144 - val_loss: 0.5839 - val_acc: 0.8157\n",
      "Epoch 8/15\n",
      " - 6s - loss: 0.5505 - acc: 0.8779 - val_loss: 0.5429 - val_acc: 0.8357\n",
      "Epoch 9/15\n",
      " - 6s - loss: 0.4987 - acc: 0.9313 - val_loss: 0.4784 - val_acc: 0.9640\n",
      "Epoch 10/15\n",
      " - 6s - loss: 0.4558 - acc: 0.9539 - val_loss: 0.4430 - val_acc: 0.9670\n",
      "Epoch 11/15\n",
      " - 6s - loss: 0.4245 - acc: 0.9611 - val_loss: 0.4390 - val_acc: 0.9267\n",
      "Epoch 12/15\n",
      " - 6s - loss: 0.4020 - acc: 0.9659 - val_loss: 0.3975 - val_acc: 0.9725\n",
      "Epoch 13/15\n",
      " - 6s - loss: 0.3882 - acc: 0.9671 - val_loss: 0.3874 - val_acc: 0.9682\n",
      "Epoch 14/15\n",
      " - 6s - loss: 0.3762 - acc: 0.9711 - val_loss: 0.3796 - val_acc: 0.9692\n",
      "Epoch 15/15\n",
      " - 6s - loss: 0.3675 - acc: 0.9759 - val_loss: 0.3684 - val_acc: 0.9735\n"
     ]
    }
   ],
   "source": [
    "histories, Y_test, Y_predicts, model = train_vanilla_model(X_train, X_val, X_test, Y_train,Y_val,Y_test, 20)"
   ]
  },
  {
   "cell_type": "code",
   "execution_count": 56,
   "metadata": {
    "ExecuteTime": {
     "end_time": "2021-10-18T01:04:19.872049Z",
     "start_time": "2021-10-18T01:04:19.867073Z"
    },
    "hidden": true
   },
   "outputs": [],
   "source": [
    "X_train = X_train.reshape((X_train.shape[0], X_train.shape[1]*X_train.shape[2]))"
   ]
  },
  {
   "cell_type": "code",
   "execution_count": null,
   "metadata": {
    "hidden": true
   },
   "outputs": [],
   "source": [
    "X_val_flat = X_val.reshape((X_val.shape[0], X_val.shape[1]*X_val.shape[2]))"
   ]
  },
  {
   "cell_type": "code",
   "execution_count": null,
   "metadata": {
    "hidden": true
   },
   "outputs": [],
   "source": []
  },
  {
   "cell_type": "code",
   "execution_count": 57,
   "metadata": {
    "ExecuteTime": {
     "end_time": "2021-10-18T01:04:29.375862Z",
     "start_time": "2021-10-18T01:04:28.403158Z"
    },
    "hidden": true
   },
   "outputs": [
    {
     "data": {
      "text/plain": [
       "0.9866428571428572"
      ]
     },
     "execution_count": 57,
     "metadata": {},
     "output_type": "execute_result"
    }
   ],
   "source": [
    "model.evaluate(X_train, Y_train, verbose = 0)[1]"
   ]
  },
  {
   "cell_type": "markdown",
   "metadata": {
    "heading_collapsed": true,
    "hidden": true
   },
   "source": [
    "## How many epochs to converge?"
   ]
  },
  {
   "cell_type": "code",
   "execution_count": 60,
   "metadata": {
    "ExecuteTime": {
     "end_time": "2021-10-18T01:12:03.570050Z",
     "start_time": "2021-10-18T01:12:02.627213Z"
    },
    "hidden": true
   },
   "outputs": [
    {
     "name": "stdout",
     "output_type": "stream",
     "text": [
      "Training set size, distribution:\n",
      "(14000, 282, 30)\n",
      "(array([0., 1.]), array([6988, 7012]))\n",
      "Validations set size, distribution:\n",
      "(4000, 282, 30)\n",
      "(array([0., 1.]), array([2013, 1987]))\n",
      "Test set size, distribution:\n",
      "(2000, 282, 30)\n",
      "(array([0., 1.]), array([ 999, 1001]))\n"
     ]
    }
   ],
   "source": [
    "X_train, X_val, X_test, Y_train,Y_val,Y_test = prep_and_shufflesplit_data_mock(mock_signal, mock_bg, 30)"
   ]
  },
  {
   "cell_type": "code",
   "execution_count": 61,
   "metadata": {
    "ExecuteTime": {
     "end_time": "2021-10-18T01:12:36.069706Z",
     "start_time": "2021-10-18T01:12:36.065424Z"
    },
    "hidden": true
   },
   "outputs": [],
   "source": [
    "dimensions = list(range(1, 31))"
   ]
  },
  {
   "cell_type": "code",
   "execution_count": null,
   "metadata": {
    "hidden": true
   },
   "outputs": [],
   "source": []
  },
  {
   "cell_type": "code",
   "execution_count": null,
   "metadata": {
    "ExecuteTime": {
     "end_time": "2021-10-18T04:28:43.162931Z",
     "start_time": "2021-10-18T03:26:46.351246Z"
    },
    "hidden": true
   },
   "outputs": [],
   "source": [
    "results0 = []\n",
    "final_accuracies0 = []"
   ]
  },
  {
   "cell_type": "code",
   "execution_count": 77,
   "metadata": {
    "ExecuteTime": {
     "end_time": "2021-10-18T04:31:06.330116Z",
     "start_time": "2021-10-18T04:31:06.324241Z"
    },
    "hidden": true
   },
   "outputs": [
    {
     "data": {
      "text/plain": [
       "28"
      ]
     },
     "execution_count": 77,
     "metadata": {},
     "output_type": "execute_result"
    }
   ],
   "source": [
    "dimensions[27]"
   ]
  },
  {
   "cell_type": "code",
   "execution_count": 80,
   "metadata": {
    "ExecuteTime": {
     "end_time": "2021-10-18T04:49:42.695105Z",
     "start_time": "2021-10-18T04:31:57.425963Z"
    },
    "hidden": true
   },
   "outputs": [
    {
     "name": "stdout",
     "output_type": "stream",
     "text": [
      "starting with 27 dimensions\n",
      " 0  1  2  3  4  5  6  7  8  9  10  11  12  13 \n",
      "starting with 28 dimensions\n",
      " 0  1  2  3  4  5  6  7  8  9  10  11  12 \n",
      "starting with 29 dimensions\n",
      " 0  1  2  3  4  5  6  7  8  9  10  11  12  13  14  15  16  17 \n",
      "starting with 30 dimensions\n",
      " 0  1  2  3  4  5  6  7  8  9  10  11  12  13  14  15  16  17  18  19  20  21  22  23  24  25  26  27  28  29  30  31  32  33  34  35  36  37  38  39  40  41  42  43  44  45  46  47  48  49  50  51  52  53  54  55  56  57  58  59 \n"
     ]
    }
   ],
   "source": [
    "for dimension in dimensions[26:]:\n",
    "    print(f'starting with {dimension} dimensions')\n",
    "    def special_flatten(arr):\n",
    "        return arr.reshape((arr.shape[0], arr.shape[1]*arr.shape[2]))\n",
    "    \n",
    "    X_train_flat = special_flatten(X_train[:,:,:dimension])\n",
    "    X_val_flat = special_flatten(X_val[:,:,:dimension])\n",
    "    \n",
    "    inputs = tf.keras.Input(shape=(282*dimension,))\n",
    "    x = inputs\n",
    "    for size in vanilla_hidden_sizes:\n",
    "        x = tf.keras.layers.Dense(size, activation=tf.nn.relu)(x)\n",
    "        \n",
    "    outputs = tf.keras.layers.Dense(2, activation=tf.nn.softmax)(x)\n",
    "    \n",
    "    model = tf.keras.Model(inputs=inputs, outputs=outputs)\n",
    "    \n",
    "    model.compile(optimizer=tf.keras.optimizers.Adam(lr = 0.0001)\n",
    ",\n",
    "              loss=tf.losses.softmax_cross_entropy,\n",
    "              metrics=['accuracy'])\n",
    "    train_acc = 0\n",
    "    val_acc = 0\n",
    "    success = 0\n",
    "    for epoch in range(60):\n",
    "        print(f\" {epoch} \", end='')\n",
    "        history = model.fit(X_train_flat, Y_train,\n",
    "              epochs=1,\n",
    "              batch_size=batch_size,\n",
    "              validation_data=(X_val_flat, Y_val),\n",
    "              verbose=0)\n",
    "        train_acc = model.evaluate(X_train_flat, Y_train, verbose = 0)[1]\n",
    "        val_acc = model.evaluate(X_val_flat, Y_val, verbose = 0)[1]\n",
    "        if (train_acc >= 0.97 and val_acc >= 0.97):\n",
    "            success = 1\n",
    "            print('')\n",
    "            results0.append(epoch)\n",
    "            break\n",
    "    if success:\n",
    "        final_accuracies0.append((0.97, 0.97))\n",
    "    else:\n",
    "        final_accuracies0.append((train_acc, val_acc))\n",
    "        print('')\n",
    "        results0.append(-1)"
   ]
  },
  {
   "cell_type": "code",
   "execution_count": 82,
   "metadata": {
    "ExecuteTime": {
     "end_time": "2021-10-18T04:49:42.843854Z",
     "start_time": "2021-10-18T04:49:42.828981Z"
    },
    "hidden": true
   },
   "outputs": [
    {
     "name": "stdout",
     "output_type": "stream",
     "text": [
      "[1, 2, 2, 2, 5, 3, 4, 3, 3, 6, 4, 5, 8, 5, 10, 8, 14, 11, 9, 9, 9, 9, -1, 11, -1, -1, 13, 12, 17, -1]\n",
      "[(0.97, 0.97), (0.97, 0.97), (0.97, 0.97), (0.97, 0.97), (0.97, 0.97), (0.97, 0.97), (0.97, 0.97), (0.97, 0.97), (0.97, 0.97), (0.97, 0.97), (0.97, 0.97), (0.97, 0.97), (0.97, 0.97), (0.97, 0.97), (0.97, 0.97), (0.97, 0.97), (0.97, 0.97), (0.97, 0.97), (0.97, 0.97), (0.97, 0.97), (0.97, 0.97), (0.97, 0.97), (0.5008571428571429, 0.497), (0.97, 0.97), (0.5008571428571429, 0.49675), (0.5008571428571429, 0.49675), (0.97, 0.97), (0.97, 0.97), (0.97, 0.97), (0.5008571428571429, 0.49675)]\n"
     ]
    }
   ],
   "source": [
    "print(results0)\n",
    "print(final_accuracies0)"
   ]
  },
  {
   "cell_type": "code",
   "execution_count": 83,
   "metadata": {
    "ExecuteTime": {
     "end_time": "2021-10-18T06:08:32.344874Z",
     "start_time": "2021-10-18T04:49:42.845543Z"
    },
    "hidden": true
   },
   "outputs": [
    {
     "name": "stdout",
     "output_type": "stream",
     "text": [
      "starting with 1 dimensions\n",
      " 0  1 \n",
      "starting with 2 dimensions\n",
      " 0  1  2 \n",
      "starting with 3 dimensions\n",
      " 0  1 \n",
      "starting with 4 dimensions\n",
      " 0  1  2 \n",
      "starting with 5 dimensions\n",
      " 0  1  2  3  4 \n",
      "starting with 6 dimensions\n",
      " 0  1  2  3 \n",
      "starting with 7 dimensions\n",
      " 0  1  2  3 \n",
      "starting with 8 dimensions\n",
      " 0  1  2  3 \n",
      "starting with 9 dimensions\n",
      " 0  1  2  3  4 \n",
      "starting with 10 dimensions\n",
      " 0  1  2  3  4  5  6  7  8  9  10  11 \n",
      "starting with 11 dimensions\n",
      " 0  1  2  3  4  5  6  7 \n",
      "starting with 12 dimensions\n",
      " 0  1  2  3  4  5 \n",
      "starting with 13 dimensions\n",
      " 0  1  2  3  4  5 \n",
      "starting with 14 dimensions\n",
      " 0  1  2  3  4  5  6  7 \n",
      "starting with 15 dimensions\n",
      " 0  1  2  3  4  5  6  7  8  9  10  11  12 \n",
      "starting with 16 dimensions\n",
      " 0  1  2  3  4  5  6  7 \n",
      "starting with 17 dimensions\n",
      " 0  1  2  3  4  5  6  7  8  9 \n",
      "starting with 18 dimensions\n",
      " 0  1  2  3  4  5  6  7  8  9  10  11  12  13  14  15  16  17  18  19  20  21  22  23  24  25  26  27  28  29  30  31  32  33  34  35  36  37  38  39  40  41  42  43  44  45  46  47  48  49  50  51  52  53  54  55  56  57  58  59 \n",
      "starting with 19 dimensions\n",
      " 0  1  2  3  4  5  6  7 \n",
      "starting with 20 dimensions\n",
      " 0  1  2  3  4  5  6  7  8  9 \n",
      "starting with 21 dimensions\n",
      " 0  1  2  3  4  5  6  7  8  9  10  11  12  13  14 \n",
      "starting with 22 dimensions\n",
      " 0  1  2  3  4  5  6  7  8  9  10  11  12  13  14  15  16  17  18  19  20  21  22  23  24  25  26  27  28  29  30  31  32  33  34  35  36  37  38  39  40  41  42  43  44  45  46  47  48  49  50  51  52  53  54  55  56  57  58  59 \n",
      "starting with 23 dimensions\n",
      " 0  1  2  3  4  5  6  7  8  9  10  11  12  13  14 \n",
      "starting with 24 dimensions\n",
      " 0  1  2  3  4  5  6  7  8  9  10 \n",
      "starting with 25 dimensions\n",
      " 0  1  2  3  4  5  6  7  8 \n",
      "starting with 26 dimensions\n",
      " 0  1  2  3  4  5  6  7  8  9  10  11  12  13  14  15  16  17  18  19 \n",
      "starting with 27 dimensions\n",
      " 0  1  2  3  4  5  6  7  8  9  10  11  12  13  14  15  16  17  18  19  20  21 \n",
      "starting with 28 dimensions\n",
      " 0  1  2  3  4  5  6  7  8  9  10  11  12  13  14  15  16  17  18  19  20  21  22  23  24  25  26  27  28  29  30  31  32  33  34  35  36  37  38  39  40  41  42  43  44  45  46  47  48  49  50  51  52  53  54  55  56  57  58  59 \n",
      "starting with 29 dimensions\n",
      " 0  1  2  3  4  5  6  7  8  9  10  11  12  13  14  15  16  17  18  19  20  21  22  23 \n",
      "starting with 30 dimensions\n",
      " 0  1  2  3  4  5  6  7  8  9  10  11  12  13 \n"
     ]
    }
   ],
   "source": [
    "results1 = []\n",
    "final_accuracies1 = []\n",
    "for dimension in dimensions:\n",
    "    print(f'starting with {dimension} dimensions')\n",
    "    def special_flatten(arr):\n",
    "        return arr.reshape((arr.shape[0], arr.shape[1]*arr.shape[2]))\n",
    "    \n",
    "    X_train_flat = special_flatten(X_train[:,:,:dimension])\n",
    "    X_val_flat = special_flatten(X_val[:,:,:dimension])\n",
    "    \n",
    "    inputs = tf.keras.Input(shape=(282*dimension,))\n",
    "    x = inputs\n",
    "    for size in vanilla_hidden_sizes:\n",
    "        x = tf.keras.layers.Dense(size, activation=tf.nn.relu)(x)\n",
    "        \n",
    "    outputs = tf.keras.layers.Dense(2, activation=tf.nn.softmax)(x)\n",
    "    \n",
    "    model = tf.keras.Model(inputs=inputs, outputs=outputs)\n",
    "    \n",
    "    model.compile(optimizer=tf.keras.optimizers.Adam(lr = 0.0001)\n",
    ",\n",
    "              loss=tf.losses.softmax_cross_entropy,\n",
    "              metrics=['accuracy'])\n",
    "    train_acc = 0\n",
    "    val_acc = 0\n",
    "    success = 0\n",
    "    for epoch in range(60):\n",
    "        print(f\" {epoch} \", end='')\n",
    "        history = model.fit(X_train_flat, Y_train,\n",
    "              epochs=1,\n",
    "              batch_size=batch_size,\n",
    "              validation_data=(X_val_flat, Y_val),\n",
    "              verbose=0)\n",
    "        train_acc = model.evaluate(X_train_flat, Y_train, verbose = 0)[1]\n",
    "        val_acc = model.evaluate(X_val_flat, Y_val, verbose = 0)[1]\n",
    "        if (train_acc >= 0.97 and val_acc >= 0.97):\n",
    "            success = 1\n",
    "            print('')\n",
    "            results1.append(epoch)\n",
    "            break\n",
    "    if success:\n",
    "        final_accuracies1.append((0.97, 0.97))\n",
    "    else:\n",
    "        final_accuracies1.append((train_acc, val_acc))\n",
    "        print('')\n",
    "        results1.append(-1)"
   ]
  },
  {
   "cell_type": "code",
   "execution_count": 84,
   "metadata": {
    "ExecuteTime": {
     "end_time": "2021-10-18T06:08:32.350842Z",
     "start_time": "2021-10-18T06:08:32.347186Z"
    },
    "hidden": true
   },
   "outputs": [
    {
     "name": "stdout",
     "output_type": "stream",
     "text": [
      "[1, 2, 1, 2, 4, 3, 3, 3, 4, 11, 7, 5, 5, 7, 12, 7, 9, -1, 7, 9, 14, -1, 14, 10, 8, 19, 21, -1, 23, 13]\n",
      "[(0.97, 0.97), (0.97, 0.97), (0.97, 0.97), (0.97, 0.97), (0.97, 0.97), (0.97, 0.97), (0.97, 0.97), (0.97, 0.97), (0.97, 0.97), (0.97, 0.97), (0.97, 0.97), (0.97, 0.97), (0.97, 0.97), (0.97, 0.97), (0.97, 0.97), (0.97, 0.97), (0.97, 0.97), (0.5008571428571429, 0.49675), (0.97, 0.97), (0.97, 0.97), (0.97, 0.97), (0.5008571428571429, 0.49675), (0.97, 0.97), (0.97, 0.97), (0.97, 0.97), (0.97, 0.97), (0.97, 0.97), (0.5008571428571429, 0.49675), (0.97, 0.97), (0.97, 0.97)]\n"
     ]
    }
   ],
   "source": [
    "print(results1)\n",
    "print(final_accuracies1)\n"
   ]
  },
  {
   "cell_type": "code",
   "execution_count": 85,
   "metadata": {
    "ExecuteTime": {
     "end_time": "2021-10-18T07:37:17.826726Z",
     "start_time": "2021-10-18T06:08:32.352767Z"
    },
    "hidden": true
   },
   "outputs": [
    {
     "name": "stdout",
     "output_type": "stream",
     "text": [
      "starting with 1 dimensions\n",
      " 0  1  2  3 \n",
      "starting with 2 dimensions\n",
      " 0  1 \n",
      "starting with 3 dimensions\n",
      " 0  1  2 \n",
      "starting with 4 dimensions\n",
      " 0  1  2 \n",
      "starting with 5 dimensions\n",
      " 0  1  2  3  4 \n",
      "starting with 6 dimensions\n",
      " 0  1  2  3 \n",
      "starting with 7 dimensions\n",
      " 0  1  2  3  4 \n",
      "starting with 8 dimensions\n",
      " 0  1  2  3  4  5 \n",
      "starting with 9 dimensions\n",
      " 0  1  2  3  4  5 \n",
      "starting with 10 dimensions\n",
      " 0  1  2  3  4  5  6  7 \n",
      "starting with 11 dimensions\n",
      " 0  1  2  3  4  5 \n",
      "starting with 12 dimensions\n",
      " 0  1  2  3  4  5  6  7  8 \n",
      "starting with 13 dimensions\n",
      " 0  1  2  3  4 \n",
      "starting with 14 dimensions\n",
      " 0  1  2  3  4  5  6  7  8  9  10  11 \n",
      "starting with 15 dimensions\n",
      " 0  1  2  3  4  5  6 \n",
      "starting with 16 dimensions\n",
      " 0  1  2  3  4  5  6  7 \n",
      "starting with 17 dimensions\n",
      " 0  1  2  3  4  5  6  7 \n",
      "starting with 18 dimensions\n",
      " 0  1  2  3  4  5  6  7  8 \n",
      "starting with 19 dimensions\n",
      " 0  1  2  3  4  5  6  7  8 \n",
      "starting with 20 dimensions\n",
      " 0  1  2  3  4  5  6  7  8  9  10  11  12  13  14  15  16  17 \n",
      "starting with 21 dimensions\n",
      " 0  1  2  3  4  5  6  7  8  9  10  11  12  13  14  15 \n",
      "starting with 22 dimensions\n",
      " 0  1  2  3  4  5  6  7  8  9  10  11  12  13  14  15  16 \n",
      "starting with 23 dimensions\n",
      " 0  1  2  3  4  5  6  7  8  9  10  11  12  13  14 \n",
      "starting with 24 dimensions\n",
      " 0  1  2  3  4  5  6  7  8  9  10  11  12 \n",
      "starting with 25 dimensions\n",
      " 0  1  2  3  4  5  6  7  8  9  10  11  12  13  14  15  16  17  18  19  20  21 \n",
      "starting with 26 dimensions\n",
      " 0  1  2  3  4  5  6  7  8  9  10  11  12 \n",
      "starting with 27 dimensions\n",
      " 0  1  2  3  4  5  6  7  8  9  10  11  12  13  14  15  16  17  18  19  20  21  22  23  24  25  26  27  28  29  30  31  32  33  34  35  36  37  38  39  40  41  42  43  44  45  46  47  48  49  50  51  52  53  54  55  56  57  58  59 \n",
      "starting with 28 dimensions\n",
      " 0  1  2  3  4  5  6  7  8  9  10  11  12  13  14  15  16  17  18  19  20  21  22  23  24  25  26  27  28  29  30  31  32  33  34  35  36  37  38  39  40  41  42  43  44  45  46  47  48  49  50  51  52  53  54  55  56  57  58  59 \n",
      "starting with 29 dimensions\n",
      " 0  1  2  3  4  5  6  7  8  9  10  11  12  13  14  15  16  17  18  19  20  21  22  23  24  25  26  27  28  29  30  31  32  33  34  35  36  37  38  39  40  41  42  43  44  45  46  47  48  49  50  51  52  53  54  55  56  57  58  59 \n",
      "starting with 30 dimensions\n",
      " 0  1  2  3  4  5  6  7  8  9  10  11  12  13  14  15  16 \n"
     ]
    }
   ],
   "source": [
    "results2 = []\n",
    "final_accuracies2 = []\n",
    "for dimension in dimensions:\n",
    "    print(f'starting with {dimension} dimensions')\n",
    "    def special_flatten(arr):\n",
    "        return arr.reshape((arr.shape[0], arr.shape[1]*arr.shape[2]))\n",
    "    \n",
    "    X_train_flat = special_flatten(X_train[:,:,:dimension])\n",
    "    X_val_flat = special_flatten(X_val[:,:,:dimension])\n",
    "    \n",
    "    inputs = tf.keras.Input(shape=(282*dimension,))\n",
    "    x = inputs\n",
    "    for size in vanilla_hidden_sizes:\n",
    "        x = tf.keras.layers.Dense(size, activation=tf.nn.relu)(x)\n",
    "        \n",
    "    outputs = tf.keras.layers.Dense(2, activation=tf.nn.softmax)(x)\n",
    "    \n",
    "    model = tf.keras.Model(inputs=inputs, outputs=outputs)\n",
    "    \n",
    "    model.compile(optimizer=tf.keras.optimizers.Adam(lr = 0.0001)\n",
    ",\n",
    "              loss=tf.losses.softmax_cross_entropy,\n",
    "              metrics=['accuracy'])\n",
    "    train_acc = 0\n",
    "    val_acc = 0\n",
    "    success = 0\n",
    "    for epoch in range(60):\n",
    "        print(f\" {epoch} \", end='')\n",
    "        history = model.fit(X_train_flat, Y_train,\n",
    "              epochs=1,\n",
    "              batch_size=batch_size,\n",
    "              validation_data=(X_val_flat, Y_val),\n",
    "              verbose=0)\n",
    "        train_acc = model.evaluate(X_train_flat, Y_train, verbose = 0)[1]\n",
    "        val_acc = model.evaluate(X_val_flat, Y_val, verbose = 0)[1]\n",
    "        if (train_acc >= 0.97 and val_acc >= 0.97):\n",
    "            success = 1\n",
    "            print('')\n",
    "            results2.append(epoch)\n",
    "            break\n",
    "    if success:\n",
    "        final_accuracies2.append((0.97, 0.97))\n",
    "    else:\n",
    "        final_accuracies2.append((train_acc, val_acc))\n",
    "        print('')\n",
    "        results2.append(-1)"
   ]
  },
  {
   "cell_type": "code",
   "execution_count": 86,
   "metadata": {
    "ExecuteTime": {
     "end_time": "2021-10-18T07:37:17.833900Z",
     "start_time": "2021-10-18T07:37:17.829348Z"
    },
    "hidden": true
   },
   "outputs": [
    {
     "name": "stdout",
     "output_type": "stream",
     "text": [
      "[3, 1, 2, 2, 4, 3, 4, 5, 5, 7, 5, 8, 4, 11, 6, 7, 7, 8, 8, 17, 15, 16, 14, 12, 21, 12, -1, -1, -1, 16]\n",
      "[(0.97, 0.97), (0.97, 0.97), (0.97, 0.97), (0.97, 0.97), (0.97, 0.97), (0.97, 0.97), (0.97, 0.97), (0.97, 0.97), (0.97, 0.97), (0.97, 0.97), (0.97, 0.97), (0.97, 0.97), (0.97, 0.97), (0.97, 0.97), (0.97, 0.97), (0.97, 0.97), (0.97, 0.97), (0.97, 0.97), (0.97, 0.97), (0.97, 0.97), (0.97, 0.97), (0.97, 0.97), (0.97, 0.97), (0.97, 0.97), (0.97, 0.97), (0.97, 0.97), (0.5008571428571429, 0.49675), (0.5008571428571429, 0.49675), (0.5008571428571429, 0.49675), (0.97, 0.97)]\n"
     ]
    }
   ],
   "source": [
    "print(results2)\n",
    "print(final_accuracies2)\n"
   ]
  },
  {
   "cell_type": "code",
   "execution_count": null,
   "metadata": {
    "hidden": true
   },
   "outputs": [],
   "source": []
  },
  {
   "cell_type": "markdown",
   "metadata": {
    "hidden": true
   },
   "source": [
    "## results - chart"
   ]
  },
  {
   "cell_type": "code",
   "execution_count": 87,
   "metadata": {
    "ExecuteTime": {
     "end_time": "2021-10-18T21:34:25.069963Z",
     "start_time": "2021-10-18T21:34:25.065676Z"
    },
    "hidden": true
   },
   "outputs": [],
   "source": [
    "results_xs = dimensions * 3"
   ]
  },
  {
   "cell_type": "code",
   "execution_count": 88,
   "metadata": {
    "ExecuteTime": {
     "end_time": "2021-10-18T21:34:29.587225Z",
     "start_time": "2021-10-18T21:34:29.581378Z"
    },
    "hidden": true
   },
   "outputs": [
    {
     "data": {
      "text/plain": [
       "90"
      ]
     },
     "execution_count": 88,
     "metadata": {},
     "output_type": "execute_result"
    }
   ],
   "source": [
    "len(results_xs)"
   ]
  },
  {
   "cell_type": "code",
   "execution_count": 89,
   "metadata": {
    "ExecuteTime": {
     "end_time": "2021-10-18T21:34:47.423755Z",
     "start_time": "2021-10-18T21:34:47.419587Z"
    },
    "hidden": true
   },
   "outputs": [],
   "source": [
    "results_ys = results0 + results1 + results2"
   ]
  },
  {
   "cell_type": "code",
   "execution_count": 90,
   "metadata": {
    "ExecuteTime": {
     "end_time": "2021-10-18T21:34:56.284944Z",
     "start_time": "2021-10-18T21:34:56.279159Z"
    },
    "hidden": true
   },
   "outputs": [
    {
     "data": {
      "text/plain": [
       "90"
      ]
     },
     "execution_count": 90,
     "metadata": {},
     "output_type": "execute_result"
    }
   ],
   "source": [
    "len(results_ys)"
   ]
  },
  {
   "cell_type": "code",
   "execution_count": 94,
   "metadata": {
    "ExecuteTime": {
     "end_time": "2021-10-18T21:39:08.275491Z",
     "start_time": "2021-10-18T21:39:08.268300Z"
    },
    "hidden": true
   },
   "outputs": [],
   "source": [
    "x_d = []\n",
    "x_nd = []\n",
    "y_d = []\n",
    "y_nd = []\n",
    "for x, y in (zip(results_xs, results_ys)):\n",
    "    if y == -1:\n",
    "        x_d.append(x)\n",
    "        y_d.append(y)\n",
    "    else:\n",
    "        x_nd.append(x)\n",
    "        y_nd.append(y)"
   ]
  },
  {
   "cell_type": "code",
   "execution_count": 98,
   "metadata": {
    "ExecuteTime": {
     "end_time": "2021-10-18T21:52:37.688006Z",
     "start_time": "2021-10-18T21:52:37.464236Z"
    },
    "hidden": true
   },
   "outputs": [
    {
     "data": {
      "image/png": "[encoded data removed]",
      "text/plain": [
       "<Figure size 720x576 with 1 Axes>"
      ]
     },
     "metadata": {
      "needs_background": "light"
     },
     "output_type": "display_data"
    }
   ],
   "source": [
    "fig, ax = plt.subplots(figsize = (10,8))\n",
    "\n",
    "ax.scatter(x_d, y_d, color = 'red', label = 'unsuccesfull training')\n",
    "ax.scatter(x_nd, y_nd, color = 'blue', label = 'successful training')\n",
    "\n",
    "ax.legend(loc='upper left')\n",
    "ax.set_title('Epochs until convergence with different number of elements')\n",
    "ax.set_xlabel('columns')\n",
    "ax.set_ylabel('epochs to 97 percent train and val ac')\n",
    "ax.grid(axis=\"x\", which = 'both')\n",
    "plt.show()"
   ]
  },
  {
   "cell_type": "markdown",
   "metadata": {
    "hidden": true
   },
   "source": [
    "Note: Even in the column that has signal, only 20/282 values have the signal.\n",
    "So the true proportion of signal elements is:\n",
    "\n",
    "$$\\frac{20}{282} \\cdot \\frac{1}{columns}$$\n",
    "\n",
    "And the signal to background ratio is like:\n",
    "\n",
    "$$20 : 282 \\cdot columns - 20$$"
   ]
  },
  {
   "cell_type": "code",
   "execution_count": 214,
   "metadata": {
    "ExecuteTime": {
     "end_time": "2021-10-11T01:22:25.727164Z",
     "start_time": "2021-10-11T01:22:25.714465Z"
    },
    "hidden": true
   },
   "outputs": [],
   "source": [
    "def final_evaluation(Y_test, Y_predicts):\n",
    "    Y_predict = Y_predicts[-1]\n",
    "    roc_curve = sklearn.metrics.roc_curve(Y_test[:,1:], Y_predict[:,1:])\n",
    "    plt.plot(roc_curve[0],roc_curve[1])\n",
    "    plt.xlabel('fpr')\n",
    "    plt.ylabel('tpr')\n",
    "    plt.title('ROC curve')\n",
    "    plt.show()"
   ]
  },
  {
   "cell_type": "code",
   "execution_count": 215,
   "metadata": {
    "ExecuteTime": {
     "end_time": "2021-10-11T01:22:40.791585Z",
     "start_time": "2021-10-11T01:22:40.448177Z"
    },
    "hidden": true
   },
   "outputs": [
    {
     "data": {
      "image/png": "[encoded data removed]",
      "text/plain": [
       "<Figure size 432x288 with 1 Axes>"
      ]
     },
     "metadata": {
      "needs_background": "light"
     },
     "output_type": "display_data"
    }
   ],
   "source": [
    "final_evaluation(Y_test, Y_predicts)"
   ]
  },
  {
   "cell_type": "markdown",
   "metadata": {
    "heading_collapsed": true,
    "hidden": true
   },
   "source": [
    "## only one dimension but with particle nerwork"
   ]
  },
  {
   "cell_type": "code",
   "execution_count": 221,
   "metadata": {
    "ExecuteTime": {
     "end_time": "2021-10-11T05:09:37.378967Z",
     "start_time": "2021-10-11T05:09:37.299322Z"
    },
    "hidden": true
   },
   "outputs": [
    {
     "name": "stdout",
     "output_type": "stream",
     "text": [
      "Training set size, distribution:\n",
      "(14000, 282, 1)\n",
      "(array([0., 1.]), array([7011, 6989]))\n",
      "Validations set size, distribution:\n",
      "(4000, 282, 1)\n",
      "(array([0., 1.]), array([2002, 1998]))\n",
      "Test set size, distribution:\n",
      "(2000, 282, 1)\n",
      "(array([0., 1.]), array([ 987, 1013]))\n"
     ]
    }
   ],
   "source": [
    "X_train, X_val, X_test, Y_train,Y_val,Y_test = prep_and_shufflesplit_data_mock(mock_signal, mock_bg, 1)"
   ]
  },
  {
   "cell_type": "code",
   "execution_count": 222,
   "metadata": {
    "ExecuteTime": {
     "end_time": "2021-10-11T05:09:39.385730Z",
     "start_time": "2021-10-11T05:09:39.379931Z"
    },
    "hidden": true
   },
   "outputs": [],
   "source": [
    "Phi_sizes, F_sizes = ([100,50]), ([100,50])\n",
    "vanilla_hidden_sizes = [100,50]\n",
    "num_epoch = 15\n",
    "num_cycles = 1\n",
    "batch_size = 10"
   ]
  },
  {
   "cell_type": "code",
   "execution_count": null,
   "metadata": {
    "ExecuteTime": {
     "start_time": "2021-10-11T05:09:43.857Z"
    },
    "hidden": true
   },
   "outputs": [
    {
     "name": "stdout",
     "output_type": "stream",
     "text": [
      "__________________________________________________________________________________________________\n",
      "Layer (type)                    Output Shape         Param #     Connected to                     \n",
      "==================================================================================================\n",
      "input (InputLayer)              (None, None, 1)      0                                            \n",
      "__________________________________________________________________________________________________\n",
      "tdist_0 (TimeDistributed)       (None, None, 100)    200         input[0][0]                      \n",
      "__________________________________________________________________________________________________\n",
      "activation_64 (Activation)      (None, None, 100)    0           tdist_0[0][0]                    \n",
      "__________________________________________________________________________________________________\n",
      "tdist_1 (TimeDistributed)       (None, None, 50)     5050        activation_64[0][0]              \n",
      "__________________________________________________________________________________________________\n",
      "mask (Lambda)                   (None, None)         0           input[0][0]                      \n",
      "__________________________________________________________________________________________________\n",
      "activation_65 (Activation)      (None, None, 50)     0           tdist_1[0][0]                    \n",
      "__________________________________________________________________________________________________\n",
      "sum (Dot)                       (None, 50)           0           mask[0][0]                       \n",
      "                                                                 activation_65[0][0]              \n",
      "__________________________________________________________________________________________________\n",
      "dense_0 (Dense)                 (None, 100)          5100        sum[0][0]                        \n",
      "__________________________________________________________________________________________________\n",
      "activation_66 (Activation)      (None, 100)          0           dense_0[0][0]                    \n",
      "__________________________________________________________________________________________________\n",
      "dense_1 (Dense)                 (None, 50)           5050        activation_66[0][0]              \n",
      "__________________________________________________________________________________________________\n",
      "activation_67 (Activation)      (None, 50)           0           dense_1[0][0]                    \n",
      "__________________________________________________________________________________________________\n",
      "output (Dense)                  (None, 2)            102         activation_67[0][0]              \n",
      "__________________________________________________________________________________________________\n",
      "activation_68 (Activation)      (None, 2)            0           output[0][0]                     \n",
      "==================================================================================================\n",
      "Total params: 15,502\n",
      "Trainable params: 15,502\n",
      "Non-trainable params: 0\n",
      "__________________________________________________________________________________________________\n",
      "----\n",
      "Beginning cycle 0\n",
      "Train on 14000 samples, validate on 4000 samples\n",
      "Epoch 1/15\n"
     ]
    }
   ],
   "source": [
    "histories, Y_test, Y_predicts, model = train_model(X_train, X_val, X_test, Y_train,Y_val,Y_test)"
   ]
  },
  {
   "cell_type": "markdown",
   "metadata": {
    "heading_collapsed": true
   },
   "source": [
    "# task 3: Neural Network analysis - 1D"
   ]
  },
  {
   "cell_type": "code",
   "execution_count": null,
   "metadata": {
    "hidden": true
   },
   "outputs": [],
   "source": []
  },
  {
   "cell_type": "code",
   "execution_count": 3,
   "metadata": {
    "ExecuteTime": {
     "end_time": "2021-11-21T03:10:51.370908Z",
     "start_time": "2021-11-21T03:10:51.365202Z"
    },
    "hidden": true
   },
   "outputs": [],
   "source": [
    "def get_random_datapoint_t3(sig, size = 2000):\n",
    "    pts = np.random.normal(0.5, 0.05, size)\n",
    "    if sig:\n",
    "        pts[0] = np.random.normal(0.6, 0.05, 1)\n",
    "    return pts"
   ]
  },
  {
   "cell_type": "code",
   "execution_count": 4,
   "metadata": {
    "ExecuteTime": {
     "end_time": "2021-11-21T03:11:01.119767Z",
     "start_time": "2021-11-21T03:10:51.843103Z"
    },
    "hidden": true
   },
   "outputs": [],
   "source": [
    "mock_signal_t3 = np.array([get_random_datapoint_t3(True) for _ in range(20000)])\n",
    "mock_bg_t3 = np.array([get_random_datapoint_t3(False) for _ in range(20000)])"
   ]
  },
  {
   "cell_type": "code",
   "execution_count": 5,
   "metadata": {
    "ExecuteTime": {
     "end_time": "2021-11-21T03:11:01.130797Z",
     "start_time": "2021-11-21T03:11:01.122919Z"
    },
    "hidden": true
   },
   "outputs": [
    {
     "data": {
      "text/plain": [
       "(20000, 2000)"
      ]
     },
     "execution_count": 5,
     "metadata": {},
     "output_type": "execute_result"
    }
   ],
   "source": [
    "mock_signal_t3.shape"
   ]
  },
  {
   "cell_type": "code",
   "execution_count": 6,
   "metadata": {
    "ExecuteTime": {
     "end_time": "2021-11-21T03:11:01.148621Z",
     "start_time": "2021-11-21T03:11:01.134392Z"
    },
    "hidden": true
   },
   "outputs": [],
   "source": [
    "def prep_data_t3(sig, bg):\n",
    "    \n",
    "    this_y_bg = np.zeros(len(bg))\n",
    "    \n",
    "    this_y_sig = np.ones(len(sig))\n",
    "    \n",
    "    \"\"\"\n",
    "    Shuffle + Train-Val-Test Split \n",
    "    \"\"\"\n",
    "    # Combine both data sets\n",
    "    this_X = np.concatenate([bg, sig])\n",
    "    this_y = np.concatenate([this_y_bg, this_y_sig])\n",
    "    \n",
    "    # Shuffle before we split\n",
    "    this_X, this_y = shuffle(this_X, this_y)\n",
    "    \n",
    "    \n",
    "    (X_train, X_val, _,\n",
    "     y_train, y_val, _) = data_split(this_X, this_y, val=0.2, test=0)\n",
    "        \n",
    "            \n",
    "    # change Y to categorical Matrix\n",
    "    Y_train = to_categorical(y_train, num_classes=2)\n",
    "    Y_val = to_categorical(y_val, num_classes=2)\n",
    "    \n",
    "    print('Training set size, distribution:')\n",
    "    print(X_train.shape)\n",
    "    print(np.unique(y_train,return_counts = True))\n",
    "    print('Validations set size, distribution:')\n",
    "    print(X_val.shape)\n",
    "    print(np.unique(y_val,return_counts = True))\n",
    "    \n",
    "    return X_train, X_val, Y_train,Y_val"
   ]
  },
  {
   "cell_type": "code",
   "execution_count": 7,
   "metadata": {
    "ExecuteTime": {
     "end_time": "2021-11-21T03:11:07.872402Z",
     "start_time": "2021-11-21T03:11:01.568401Z"
    },
    "hidden": true
   },
   "outputs": [
    {
     "name": "stdout",
     "output_type": "stream",
     "text": [
      "Training set size, distribution:\n",
      "(32000, 2000)\n",
      "(array([0., 1.]), array([16068, 15932]))\n",
      "Validations set size, distribution:\n",
      "(8000, 2000)\n",
      "(array([0., 1.]), array([3932, 4068]))\n"
     ]
    }
   ],
   "source": [
    "X_train_t3, X_val_t3, Y_train_t3,Y_val_t3 = prep_data_t3(mock_signal_t3, mock_bg_t3)"
   ]
  },
  {
   "cell_type": "markdown",
   "metadata": {
    "hidden": true
   },
   "source": [
    "### What is the theoretical best possible accuracy? We need this to be a benchmark."
   ]
  },
  {
   "cell_type": "code",
   "execution_count": 8,
   "metadata": {
    "ExecuteTime": {
     "end_time": "2021-11-21T03:43:53.782725Z",
     "start_time": "2021-11-21T03:43:53.772135Z"
    },
    "hidden": true
   },
   "outputs": [],
   "source": [
    "hidden_sizes_t3 = [100, 50]\n",
    "batch_size_t3 = 100\n",
    "MAX_EPOCHS = 20"
   ]
  },
  {
   "cell_type": "code",
   "execution_count": 10,
   "metadata": {
    "ExecuteTime": {
     "end_time": "2021-11-15T21:14:45.879776Z",
     "start_time": "2021-11-15T21:14:45.869013Z"
    },
    "hidden": true
   },
   "outputs": [],
   "source": [
    "# dimension = 1\n",
    "# hidden_sizes_t3 = [100, 50]\n",
    "# batch_size_t3 = 20\n",
    "\n",
    "# Xtrain, Xval = X_train_t3[:,:dimension], X_val_t3[:,:dimension]\n",
    "# Ytrain, Yval = Y_train_t3,Y_val_t3\n",
    "# inputs = tf.keras.Input(shape=(dimension,))\n",
    "# x = inputs\n",
    "# for size in hidden_sizes_t3:\n",
    "#     x = tf.keras.layers.Dense(size, activation=tf.nn.relu)(x)\n",
    "\n",
    "# outputs = tf.keras.layers.Dense(2, activation=tf.nn.softmax)(x)\n",
    "\n",
    "# model = tf.keras.Model(inputs=inputs, outputs=outputs)\n",
    "\n",
    "# model.compile(optimizer=tf.keras.optimizers.Adam(lr = 0.0005)\n",
    "# ,\n",
    "#           loss=tf.losses.softmax_cross_entropy,\n",
    "#           metrics=['accuracy'])\n",
    "# train_acc = 0\n",
    "# val_acc = 0\n",
    "# success = 0\n",
    "# history = model.fit(Xtrain, Ytrain,\n",
    "#       epochs=30,\n",
    "#       batch_size=batch_size_t3,\n",
    "#       validation_data=(Xval, Yval),\n",
    "#       verbose=1)\n",
    "\"\"\"\n",
    "Basically, training acc gets to 83.something percent, val acc gets to 84.something percent.\n",
    "This seems to be the best possible result for this dataset.\n",
    "\n",
    "So I will use 80 percent as the benchmark,\n",
    "\"\"\"\n",
    "pass"
   ]
  },
  {
   "cell_type": "code",
   "execution_count": null,
   "metadata": {
    "hidden": true
   },
   "outputs": [],
   "source": []
  },
  {
   "cell_type": "code",
   "execution_count": 54,
   "metadata": {
    "ExecuteTime": {
     "end_time": "2021-10-25T09:31:21.735546Z",
     "start_time": "2021-10-25T06:45:52.150215Z"
    },
    "hidden": true
   },
   "outputs": [
    {
     "name": "stdout",
     "output_type": "stream",
     "text": [
      "starting with 10 dimensions, trial number 0\n",
      " 0 \n",
      "starting with 10 dimensions, trial number 1\n",
      " 0 \n",
      "starting with 10 dimensions, trial number 2\n",
      " 0 \n",
      "starting with 10 dimensions, trial number 3\n",
      " 0 \n",
      "starting with 10 dimensions, trial number 4\n",
      " 0  1 \n",
      "starting with 40 dimensions, trial number 0\n",
      " 0  1 \n",
      "starting with 40 dimensions, trial number 1\n",
      " 0  1 \n",
      "starting with 40 dimensions, trial number 2\n",
      " 0  1 \n",
      "starting with 40 dimensions, trial number 3\n",
      " 0  1  2 \n",
      "starting with 40 dimensions, trial number 4\n",
      " 0  1 \n",
      "starting with 70 dimensions, trial number 0\n",
      " 0  1  2 \n",
      "starting with 70 dimensions, trial number 1\n",
      " 0  1  2 \n",
      "starting with 70 dimensions, trial number 2\n",
      " 0  1 \n",
      "starting with 70 dimensions, trial number 3\n",
      " 0  1 \n",
      "starting with 70 dimensions, trial number 4\n",
      " 0  1  2 \n",
      "starting with 100 dimensions, trial number 0\n",
      " 0  1 \n",
      "starting with 100 dimensions, trial number 1\n",
      " 0  1 \n",
      "starting with 100 dimensions, trial number 2\n",
      " 0  1  2 \n",
      "starting with 100 dimensions, trial number 3\n",
      " 0  1  2 \n",
      "starting with 100 dimensions, trial number 4\n",
      " 0  1  2 \n",
      "starting with 130 dimensions, trial number 0\n",
      " 0  1  2 \n",
      "starting with 130 dimensions, trial number 1\n",
      " 0  1  2 \n",
      "starting with 130 dimensions, trial number 2\n",
      " 0  1  2 \n",
      "starting with 130 dimensions, trial number 3\n",
      " 0  1  2  3 \n",
      "starting with 130 dimensions, trial number 4\n",
      " 0  1  2 \n",
      "starting with 160 dimensions, trial number 0\n",
      " 0  1  2  3 \n",
      "starting with 160 dimensions, trial number 1\n",
      " 0  1  2 \n",
      "starting with 160 dimensions, trial number 2\n",
      " 0  1  2 \n",
      "starting with 160 dimensions, trial number 3\n",
      " 0  1  2  3 \n",
      "starting with 160 dimensions, trial number 4\n",
      " 0  1  2  3 \n",
      "starting with 190 dimensions, trial number 0\n",
      " 0  1  2 \n",
      "starting with 190 dimensions, trial number 1\n",
      " 0  1  2  3 \n",
      "starting with 190 dimensions, trial number 2\n",
      " 0  1  2 \n",
      "starting with 190 dimensions, trial number 3\n",
      " 0  1  2 \n",
      "starting with 190 dimensions, trial number 4\n",
      " 0  1  2 \n",
      "starting with 220 dimensions, trial number 0\n",
      " 0  1  2 \n",
      "starting with 220 dimensions, trial number 1\n",
      " 0  1  2  3  4 \n",
      "starting with 220 dimensions, trial number 2\n",
      " 0  1  2  3  4 \n",
      "starting with 220 dimensions, trial number 3\n",
      " 0  1  2  3  4 \n",
      "starting with 220 dimensions, trial number 4\n",
      " 0  1  2 \n",
      "starting with 250 dimensions, trial number 0\n",
      " 0  1  2 \n",
      "starting with 250 dimensions, trial number 1\n",
      " 0  1  2  3 \n",
      "starting with 250 dimensions, trial number 2\n",
      " 0  1  2  3 \n",
      "starting with 250 dimensions, trial number 3\n",
      " 0  1  2 \n",
      "starting with 250 dimensions, trial number 4\n",
      " 0  1  2  3  4 \n",
      "starting with 280 dimensions, trial number 0\n",
      " 0  1  2  3  4  5 \n",
      "starting with 280 dimensions, trial number 1\n",
      " 0  1  2  3  4 \n",
      "starting with 280 dimensions, trial number 2\n",
      " 0  1  2  3 \n",
      "starting with 280 dimensions, trial number 3\n",
      " 0  1  2  3 \n",
      "starting with 280 dimensions, trial number 4\n",
      " 0  1  2  3  4 \n",
      "starting with 310 dimensions, trial number 0\n",
      " 0  1  2  3 \n",
      "starting with 310 dimensions, trial number 1\n",
      " 0  1  2  3 \n",
      "starting with 310 dimensions, trial number 2\n",
      " 0  1  2 \n",
      "starting with 310 dimensions, trial number 3\n",
      " 0  1  2  3 \n",
      "starting with 310 dimensions, trial number 4\n",
      " 0  1  2 \n",
      "starting with 340 dimensions, trial number 0\n",
      " 0  1  2  3 \n",
      "starting with 340 dimensions, trial number 1\n",
      " 0  1  2  3  4  5 \n",
      "starting with 340 dimensions, trial number 2\n",
      " 0  1  2  3  4 \n",
      "starting with 340 dimensions, trial number 3\n",
      " 0  1  2  3 \n",
      "starting with 340 dimensions, trial number 4\n",
      " 0  1  2  3  4 \n",
      "starting with 370 dimensions, trial number 0\n",
      " 0  1  2  3  4  5 \n",
      "starting with 370 dimensions, trial number 1\n",
      " 0  1  2  3  4 \n",
      "starting with 370 dimensions, trial number 2\n",
      " 0  1  2  3  4  5  6 \n",
      "starting with 370 dimensions, trial number 3\n",
      " 0  1  2  3 \n",
      "starting with 370 dimensions, trial number 4\n",
      " 0  1  2  3  4 \n",
      "starting with 400 dimensions, trial number 0\n",
      " 0  1  2  3  4  5 \n",
      "starting with 400 dimensions, trial number 1\n",
      " 0  1  2  3  4 \n",
      "starting with 400 dimensions, trial number 2\n",
      " 0  1  2  3 \n",
      "starting with 400 dimensions, trial number 3\n",
      " 0  1  2  3 \n",
      "starting with 400 dimensions, trial number 4\n",
      " 0  1  2 \n",
      "starting with 430 dimensions, trial number 0\n",
      " 0  1  2  3  4  5  6  7 \n",
      "starting with 430 dimensions, trial number 1\n",
      " 0  1  2  3  4  5  6 \n",
      "starting with 430 dimensions, trial number 2\n",
      " 0  1  2  3  4 \n",
      "starting with 430 dimensions, trial number 3\n",
      " 0  1  2  3  4  5  6  7  8 \n",
      "starting with 430 dimensions, trial number 4\n",
      " 0  1  2  3  4 \n",
      "starting with 460 dimensions, trial number 0\n",
      " 0  1  2  3  4 \n",
      "starting with 460 dimensions, trial number 1\n",
      " 0  1  2  3  4 \n",
      "starting with 460 dimensions, trial number 2\n",
      " 0  1  2  3  4  5 \n",
      "starting with 460 dimensions, trial number 3\n",
      " 0  1  2  3  4  5 \n",
      "starting with 460 dimensions, trial number 4\n",
      " 0  1  2  3  4  5 \n",
      "starting with 490 dimensions, trial number 0\n",
      " 0  1  2  3  4 \n",
      "starting with 490 dimensions, trial number 1\n",
      " 0  1  2  3  4  5 \n",
      "starting with 490 dimensions, trial number 2\n",
      " 0  1  2  3 \n",
      "starting with 490 dimensions, trial number 3\n",
      " 0  1  2  3  4 \n",
      "starting with 490 dimensions, trial number 4\n",
      " 0  1  2  3  4  5 \n",
      "starting with 520 dimensions, trial number 0\n",
      " 0  1  2  3  4  5 \n",
      "starting with 520 dimensions, trial number 1\n",
      " 0  1  2  3  4  5  6  7 \n",
      "starting with 520 dimensions, trial number 2\n",
      " 0  1  2  3  4  5  6 \n",
      "starting with 520 dimensions, trial number 3\n",
      " 0  1  2  3  4  5 \n",
      "starting with 520 dimensions, trial number 4\n",
      " 0  1  2  3  4  5 \n",
      "starting with 550 dimensions, trial number 0\n",
      " 0  1  2  3  4  5 \n",
      "starting with 550 dimensions, trial number 1\n",
      " 0  1  2  3  4 \n",
      "starting with 550 dimensions, trial number 2\n",
      " 0  1  2  3  4  5  6  7 \n",
      "starting with 550 dimensions, trial number 3\n",
      " 0  1  2  3  4  5 \n",
      "starting with 550 dimensions, trial number 4\n",
      " 0  1  2  3  4  5  6  7  8 \n",
      "starting with 580 dimensions, trial number 0\n",
      " 0  1  2  3  4 \n",
      "starting with 580 dimensions, trial number 1\n",
      " 0  1  2  3  4  5 \n",
      "starting with 580 dimensions, trial number 2\n",
      " 0  1  2  3  4  5 \n",
      "starting with 580 dimensions, trial number 3\n",
      " 0  1  2  3  4  5  6 \n",
      "starting with 580 dimensions, trial number 4\n",
      " 0  1  2  3  4  5  6 \n",
      "starting with 610 dimensions, trial number 0\n",
      " 0  1  2  3  4  5  6 \n",
      "starting with 610 dimensions, trial number 1\n",
      " 0  1  2  3  4  5  6  7 \n",
      "starting with 610 dimensions, trial number 2\n",
      " 0  1  2  3  4  5 \n",
      "starting with 610 dimensions, trial number 3\n",
      " 0  1  2  3  4  5  6  7 \n",
      "starting with 610 dimensions, trial number 4\n",
      " 0  1  2  3  4  5 \n",
      "starting with 640 dimensions, trial number 0\n",
      " 0  1  2  3  4  5  6  7  8  9 \n",
      "starting with 640 dimensions, trial number 1\n",
      " 0  1  2  3  4  5 \n",
      "starting with 640 dimensions, trial number 2\n",
      " 0  1  2  3  4  5  6  7  8 \n",
      "starting with 640 dimensions, trial number 3\n",
      " 0  1  2  3  4  5  6 \n",
      "starting with 640 dimensions, trial number 4\n",
      " 0  1  2  3  4  5  6 \n",
      "starting with 670 dimensions, trial number 0\n",
      " 0  1  2  3  4  5  6  7  8 \n",
      "starting with 670 dimensions, trial number 1\n",
      " 0  1  2  3  4  5  6  7  8  9 \n",
      "starting with 670 dimensions, trial number 2\n",
      " 0  1  2  3  4  5  6  7  8 \n",
      "starting with 670 dimensions, trial number 3\n",
      " 0  1  2  3  4  5  6 \n",
      "starting with 670 dimensions, trial number 4\n",
      " 0  1  2  3  4  5  6  7  8  9 \n",
      "starting with 700 dimensions, trial number 0\n",
      " 0  1  2  3  4  5  6  7  8 \n",
      "starting with 700 dimensions, trial number 1\n",
      " 0  1  2  3  4  5  6  7  8  9 \n",
      "starting with 700 dimensions, trial number 2\n",
      " 0  1  2  3  4  5  6  7  8 \n",
      "starting with 700 dimensions, trial number 3\n",
      " 0  1  2  3  4  5  6  7  8  9 \n",
      "starting with 700 dimensions, trial number 4\n",
      " 0  1  2  3  4  5  6 \n",
      "starting with 730 dimensions, trial number 0\n",
      " 0  1  2  3  4  5  6  7  8 \n",
      "starting with 730 dimensions, trial number 1\n",
      " 0  1  2  3  4  5  6  7  8  9  10 \n",
      "starting with 730 dimensions, trial number 2\n",
      " 0  1  2  3  4  5  6  7  8  9  10 \n",
      "starting with 730 dimensions, trial number 3\n",
      " 0  1  2  3  4  5  6  7  8  9 \n",
      "starting with 730 dimensions, trial number 4\n",
      " 0  1  2  3  4  5  6  7  8  9 \n",
      "starting with 760 dimensions, trial number 0\n",
      " 0  1  2  3  4  5  6  7  8  9  10 \n",
      "starting with 760 dimensions, trial number 1\n",
      " 0  1  2  3  4  5  6  7  8  9  10 \n",
      "starting with 760 dimensions, trial number 2\n",
      " 0  1  2  3  4  5  6  7  8  9 \n",
      "starting with 760 dimensions, trial number 3\n",
      " 0  1  2  3  4  5 \n",
      "starting with 760 dimensions, trial number 4\n",
      " 0  1  2  3  4  5  6  7  8  9  10  11  12 \n",
      "starting with 790 dimensions, trial number 0\n",
      " 0  1  2  3  4  5  6  7  8 \n",
      "starting with 790 dimensions, trial number 1\n",
      " 0  1  2  3  4  5  6  7  8 \n",
      "starting with 790 dimensions, trial number 2\n",
      " 0  1  2  3  4  5  6 \n",
      "starting with 790 dimensions, trial number 3\n",
      " 0  1  2  3  4  5  6  7  8  9 \n",
      "starting with 790 dimensions, trial number 4\n",
      " 0  1  2  3  4  5  6  7  8  9  10 \n",
      "starting with 820 dimensions, trial number 0\n",
      " 0  1  2  3  4  5  6  7  8  9 \n",
      "starting with 820 dimensions, trial number 1\n",
      " 0  1  2  3  4  5  6  7  8  9  10  11  12  13  14  15  16  17  18  19 \n",
      "starting with 820 dimensions, trial number 2\n",
      " 0  1  2  3  4  5  6  7  8  9  10  11  12 \n",
      "starting with 820 dimensions, trial number 3\n",
      " 0  1  2  3  4  5  6  7  8 \n",
      "starting with 820 dimensions, trial number 4\n",
      " 0  1  2  3  4  5  6  7  8 \n",
      "starting with 850 dimensions, trial number 0\n",
      " 0  1  2  3  4  5  6  7  8  9 \n",
      "starting with 850 dimensions, trial number 1\n",
      " 0  1  2  3  4  5  6  7  8  9  10 \n",
      "starting with 850 dimensions, trial number 2\n",
      " 0  1  2  3  4  5  6  7  8  9  10  11  12 \n",
      "starting with 850 dimensions, trial number 3\n",
      " 0  1  2  3  4  5  6  7  8  9 \n",
      "starting with 850 dimensions, trial number 4\n",
      " 0  1  2  3  4  5  6  7  8  9  10  11 \n",
      "starting with 880 dimensions, trial number 0\n",
      " 0  1  2  3  4  5  6  7  8  9  10 \n",
      "starting with 880 dimensions, trial number 1\n",
      " 0  1  2  3  4  5  6  7  8  9  10 \n",
      "starting with 880 dimensions, trial number 2\n",
      " 0  1  2  3  4  5  6  7  8  9  10  11  12  13  14  15 \n",
      "starting with 880 dimensions, trial number 3\n",
      " 0  1  2  3  4  5  6  7  8  9 \n",
      "starting with 880 dimensions, trial number 4\n",
      " 0  1  2  3  4  5  6  7  8  9  10  11  12 \n",
      "starting with 910 dimensions, trial number 0\n",
      " 0  1  2  3  4  5  6  7  8  9 \n",
      "starting with 910 dimensions, trial number 1\n",
      " 0  1  2  3  4  5  6  7  8  9  10  11  12  13 \n",
      "starting with 910 dimensions, trial number 2\n",
      " 0  1  2  3  4  5  6  7  8  9  10  11 \n",
      "starting with 910 dimensions, trial number 3\n",
      " 0  1  2  3  4  5  6  7  8  9  10  11  12  13  14  15  16  17 \n",
      "starting with 910 dimensions, trial number 4\n",
      " 0  1  2  3  4  5  6  7  8 \n",
      "starting with 940 dimensions, trial number 0\n",
      " 0  1  2  3  4  5  6  7  8  9 \n",
      "starting with 940 dimensions, trial number 1\n",
      " 0  1  2  3  4  5  6  7  8  9  10  11  12  13  14  15  16  17  18  19 \n",
      "starting with 940 dimensions, trial number 2\n",
      " 0  1  2  3  4  5  6  7  8  9  10  11  12  13  14  15  16  17  18  19 \n",
      "starting with 940 dimensions, trial number 3\n",
      " 0  1  2  3  4  5  6  7  8  9 \n",
      "starting with 940 dimensions, trial number 4\n",
      " 0  1  2  3  4  5  6  7  8  9 \n",
      "starting with 970 dimensions, trial number 0\n",
      " 0  1  2  3  4  5  6  7 \n",
      "starting with 970 dimensions, trial number 1\n",
      " 0  1  2  3  4  5  6  7  8  9  10  11  12  13  14  15  16  17  18  19 \n",
      "starting with 970 dimensions, trial number 2\n",
      " 0  1  2  3  4  5  6  7  8  9  10  11 \n",
      "starting with 970 dimensions, trial number 3\n",
      " 0  1  2  3  4  5  6  7  8  9  10  11 \n",
      "starting with 970 dimensions, trial number 4\n",
      " 0  1  2  3  4  5  6  7  8  9  10  11 \n"
     ]
    }
   ],
   "source": [
    "results = []\n",
    "final_accuracies = []\n",
    "for dimension in range(10, 1000, 30):\n",
    "    \n",
    "    for trial in range(5):\n",
    "        \n",
    "        print(f'starting with {dimension} dimensions, trial number {trial}')\n",
    "\n",
    "        Xtrain, Xval = X_train_t3[:,:dimension], X_val_t3[:,:dimension]\n",
    "        Ytrain, Yval = Y_train_t3,Y_val_t3\n",
    "\n",
    "        inputs = tf.keras.Input(shape=(dimension,))\n",
    "        x = inputs\n",
    "        for size in hidden_sizes_t3:\n",
    "            x = tf.keras.layers.Dense(size, activation=tf.nn.relu)(x)\n",
    "\n",
    "        outputs = tf.keras.layers.Dense(2, activation=tf.nn.softmax)(x)\n",
    "\n",
    "        model = tf.keras.Model(inputs=inputs, outputs=outputs)\n",
    "\n",
    "        model.compile(optimizer=tf.keras.optimizers.Adam(lr = 0.0005),\n",
    "                  loss=tf.losses.softmax_cross_entropy,\n",
    "                  metrics=['accuracy'])\n",
    "\n",
    "        train_acc = 0\n",
    "        val_acc = 0\n",
    "        success = 0\n",
    "        for epoch in range(MAX_EPOCHS):\n",
    "            print(f\" {epoch} \", end='')\n",
    "            history = model.fit(Xtrain, Ytrain,\n",
    "                  epochs=1,\n",
    "                  batch_size=batch_size_t3,\n",
    "                  validation_data=(Xval, Yval),\n",
    "                  verbose=0)\n",
    "            train_acc = model.evaluate(Xtrain, Ytrain, verbose = 0)[1]\n",
    "            val_acc = model.evaluate(Xval, Yval, verbose = 0)[1]\n",
    "            if (train_acc >= 0.80 and val_acc >= 0.80):\n",
    "                success = 1\n",
    "                print('')\n",
    "                results.append([dimension,epoch])\n",
    "                break\n",
    "        if success:\n",
    "            final_accuracies.append([dimension,0.8])\n",
    "        else:\n",
    "            final_accuracies.append([dimension, train_acc])\n",
    "            print('')\n",
    "            results.append([dimension,-1])"
   ]
  },
  {
   "cell_type": "code",
   "execution_count": null,
   "metadata": {
    "ExecuteTime": {
     "end_time": "2021-10-26T14:19:45.581031Z",
     "start_time": "2021-10-26T01:55:00.253417Z"
    },
    "hidden": true,
    "scrolled": false
   },
   "outputs": [],
   "source": [
    "results_zoom = []\n",
    "for dimension in range(800, 1300, 10):\n",
    "    \n",
    "    for trial in range(10):\n",
    "        \n",
    "        print(f'starting with {dimension} dimensions, trial number {trial}')\n",
    "\n",
    "        Xtrain, Xval = X_train_t3[:,:dimension], X_val_t3[:,:dimension]\n",
    "        Ytrain, Yval = Y_train_t3,Y_val_t3\n",
    "\n",
    "        inputs = tf.keras.Input(shape=(dimension,))\n",
    "        x = inputs\n",
    "        for size in hidden_sizes_t3:\n",
    "            x = tf.keras.layers.Dense(size, activation=tf.nn.relu)(x)\n",
    "\n",
    "        outputs = tf.keras.layers.Dense(2, activation=tf.nn.softmax)(x)\n",
    "\n",
    "        model = tf.keras.Model(inputs=inputs, outputs=outputs)\n",
    "\n",
    "        model.compile(optimizer=tf.keras.optimizers.Adam(lr = 0.0005),\n",
    "                  loss=tf.losses.softmax_cross_entropy,\n",
    "                  metrics=['accuracy'])\n",
    "\n",
    "        train_acc = 0\n",
    "        val_acc = 0\n",
    "        success = 0\n",
    "        for epoch in range(MAX_EPOCHS):\n",
    "            print(f\" {epoch} \", end='')\n",
    "            history = model.fit(Xtrain, Ytrain,\n",
    "                  epochs=1,\n",
    "                  batch_size=batch_size_t3,\n",
    "                  validation_data=(Xval, Yval),\n",
    "                  verbose=0)\n",
    "            train_acc = model.evaluate(Xtrain, Ytrain, verbose = 0)[1]\n",
    "            val_acc = model.evaluate(Xval, Yval, verbose = 0)[1]\n",
    "            if (train_acc >= 0.80 and val_acc >= 0.80):\n",
    "                success = 1\n",
    "                print('')\n",
    "                results_zoom.append([dimension,epoch])\n",
    "                break\n",
    "        if success:\n",
    "#             final_accuracies.append([dimension,0.8])\n",
    "            pass\n",
    "        else:\n",
    "#             if train_acc > 0.65:\n",
    "#                 converging_but_too_slow.append([dimension, train_acc])\n",
    "#             final_accuracies.append([dimension, train_acc])\n",
    "            print('')\n",
    "            results_zoom.append([dimension,-1])"
   ]
  },
  {
   "cell_type": "code",
   "execution_count": 11,
   "metadata": {
    "ExecuteTime": {
     "end_time": "2021-11-09T06:31:36.194833Z",
     "start_time": "2021-11-09T06:31:36.160713Z"
    },
    "code_folding": [
     0
    ],
    "hidden": true
   },
   "outputs": [],
   "source": [
    "results = [[10, 0],\n",
    " [10, 0],\n",
    " [10, 0],\n",
    " [10, 0],\n",
    " [10, 1],\n",
    " [40, 1],\n",
    " [40, 1],\n",
    " [40, 1],\n",
    " [40, 2],\n",
    " [40, 1],\n",
    " [70, 2],\n",
    " [70, 2],\n",
    " [70, 1],\n",
    " [70, 1],\n",
    " [70, 2],\n",
    " [100, 1],\n",
    " [100, 1],\n",
    " [100, 2],\n",
    " [100, 2],\n",
    " [100, 2],\n",
    " [130, 2],\n",
    " [130, 2],\n",
    " [130, 2],\n",
    " [130, 3],\n",
    " [130, 2],\n",
    " [160, 3],\n",
    " [160, 2],\n",
    " [160, 2],\n",
    " [160, 3],\n",
    " [160, 3],\n",
    " [190, 2],\n",
    " [190, 3],\n",
    " [190, 2],\n",
    " [190, 2],\n",
    " [190, 2],\n",
    " [220, 2],\n",
    " [220, 4],\n",
    " [220, 4],\n",
    " [220, 4],\n",
    " [220, 2],\n",
    " [250, 2],\n",
    " [250, 3],\n",
    " [250, 3],\n",
    " [250, 2],\n",
    " [250, 4],\n",
    " [280, 5],\n",
    " [280, 4],\n",
    " [280, 3],\n",
    " [280, 3],\n",
    " [280, 4],\n",
    " [310, 3],\n",
    " [310, 3],\n",
    " [310, 2],\n",
    " [310, 3],\n",
    " [310, 2],\n",
    " [340, 3],\n",
    " [340, 5],\n",
    " [340, 4],\n",
    " [340, 3],\n",
    " [340, 4],\n",
    " [370, 5],\n",
    " [370, 4],\n",
    " [370, 6],\n",
    " [370, 3],\n",
    " [370, 4],\n",
    " [400, 5],\n",
    " [400, 4],\n",
    " [400, 3],\n",
    " [400, 3],\n",
    " [400, 2],\n",
    " [430, 7],\n",
    " [430, 6],\n",
    " [430, 4],\n",
    " [430, 8],\n",
    " [430, 4],\n",
    " [460, 4],\n",
    " [460, 4],\n",
    " [460, 5],\n",
    " [460, 5],\n",
    " [460, 5],\n",
    " [490, 4],\n",
    " [490, 5],\n",
    " [490, 3],\n",
    " [490, 4],\n",
    " [490, 5],\n",
    " [520, 5],\n",
    " [520, 7],\n",
    " [520, 6],\n",
    " [520, 5],\n",
    " [520, 5],\n",
    " [550, 5],\n",
    " [550, 4],\n",
    " [550, 7],\n",
    " [550, 5],\n",
    " [550, 8],\n",
    " [580, 4],\n",
    " [580, 5],\n",
    " [580, 5],\n",
    " [580, 6],\n",
    " [580, 6],\n",
    " [610, 6],\n",
    " [610, 7],\n",
    " [610, 5],\n",
    " [610, 7],\n",
    " [610, 5],\n",
    " [640, 9],\n",
    " [640, 5],\n",
    " [640, 8],\n",
    " [640, 6],\n",
    " [640, 6],\n",
    " [670, 8],\n",
    " [670, 9],\n",
    " [670, 8],\n",
    " [670, 6],\n",
    " [670, 9],\n",
    " [700, 8],\n",
    " [700, 9],\n",
    " [700, 8],\n",
    " [700, 9],\n",
    " [700, 6],\n",
    " [730, 8],\n",
    " [730, 10],\n",
    " [730, 10],\n",
    " [730, 9],\n",
    " [730, 9],\n",
    " [760, 10],\n",
    " [760, 10],\n",
    " [760, 9],\n",
    " [760, 5],\n",
    " [760, 12],\n",
    " [790, 8],\n",
    " [790, 8],\n",
    " [790, 6],\n",
    " [790, 9],\n",
    " [790, 10],\n",
    " [820, 9],\n",
    " [820, -1],\n",
    " [820, 12],\n",
    " [820, 8],\n",
    " [820, 8],\n",
    " [850, 9],\n",
    " [850, 10],\n",
    " [850, 12],\n",
    " [850, 9],\n",
    " [850, 11],\n",
    " [880, 10],\n",
    " [880, 10],\n",
    " [880, 15],\n",
    " [880, 9],\n",
    " [880, 12],\n",
    " [910, 9],\n",
    " [910, 13],\n",
    " [910, 11],\n",
    " [910, 17],\n",
    " [910, 8],\n",
    " [940, 9],\n",
    " [940, 19],\n",
    " [940, -1],\n",
    " [940, 9],\n",
    " [940, 9],\n",
    " [970, 7],\n",
    " [970, -1],\n",
    " [970, 11],\n",
    " [970, 11],\n",
    " [970, 11],\n",
    " [1000, 8],\n",
    " [1000, -1],\n",
    " [1000, 8],\n",
    " [1000, 9],\n",
    " [1000, 12],\n",
    " [1300, -1],\n",
    " [1300, 11],\n",
    " [1300, -1],\n",
    " [1300, -1],\n",
    " [1300, -1],\n",
    " [1600, -1],\n",
    " [1600, -1],\n",
    " [1600, -1],\n",
    " [1600, -1],\n",
    " [1600, -1],\n",
    " [1100, 13],\n",
    " [1100, -1],\n",
    " [1100, -1],\n",
    " [1100, -1],\n",
    " [1100, -1]]"
   ]
  },
  {
   "cell_type": "code",
   "execution_count": 12,
   "metadata": {
    "ExecuteTime": {
     "end_time": "2021-11-09T06:48:09.051982Z",
     "start_time": "2021-11-09T06:48:09.015195Z"
    },
    "code_folding": [
     0
    ],
    "hidden": true
   },
   "outputs": [],
   "source": [
    "results_zoom = [[800, 12],\n",
    " [800, 10],\n",
    " [800, 10],\n",
    " [800, 7],\n",
    " [800, 7],\n",
    " [810, 6],\n",
    " [810, 9],\n",
    " [810, 8],\n",
    " [810, 9],\n",
    " [810, 6],\n",
    " [820, 9],\n",
    " [820, 8],\n",
    " [820, 5],\n",
    " [820, 12],\n",
    " [820, 7],\n",
    " [830, 7],\n",
    " [830, 13],\n",
    " [830, 10],\n",
    " [830, 8],\n",
    " [830, 9],\n",
    " [840, 11],\n",
    " [840, 10],\n",
    " [840, 10],\n",
    " [840, 10],\n",
    " [840, 8],\n",
    " [850, 7],\n",
    " [850, 12],\n",
    " [850, 8],\n",
    " [850, 16],\n",
    " [850, 11],\n",
    " [860, 9],\n",
    " [860, 8],\n",
    " [860, 12],\n",
    " [860, 10],\n",
    " [860, 7],\n",
    " [870, 12],\n",
    " [870, 10],\n",
    " [870, -1],\n",
    " [870, 9],\n",
    " [870, 6],\n",
    " [880, 7],\n",
    " [880, 9],\n",
    " [880, 9],\n",
    " [880, 16],\n",
    " [880, 10],\n",
    " [890, 10],\n",
    " [890, 12],\n",
    " [890, 9],\n",
    " [890, 13],\n",
    " [890, 11],\n",
    " [900, 11],\n",
    " [900, 5],\n",
    " [900, 7],\n",
    " [900, 11],\n",
    " [900, 10],\n",
    " [910, 12],\n",
    " [910, 13],\n",
    " [910, 15],\n",
    " [910, 12],\n",
    " [910, 10],\n",
    " [920, -1],\n",
    " [920, 6],\n",
    " [920, -1],\n",
    " [920, -1],\n",
    " [920, 11],\n",
    " [930, 6],\n",
    " [930, 9],\n",
    " [930, 13],\n",
    " [930, -1],\n",
    " [930, 10],\n",
    " [940, -1],\n",
    " [940, 11],\n",
    " [940, 14],\n",
    " [940, 10],\n",
    " [940, 9],\n",
    " [950, 11],\n",
    " [950, 10],\n",
    " [950, -1],\n",
    " [950, 12],\n",
    " [950, 9],\n",
    " [960, 11],\n",
    " [960, -1],\n",
    " [960, -1],\n",
    " [960, 14],\n",
    " [960, -1],\n",
    " [970, 9],\n",
    " [970, -1],\n",
    " [970, 9],\n",
    " [970, 17],\n",
    " [970, 12],\n",
    " [980, 10],\n",
    " [980, 10],\n",
    " [980, 13],\n",
    " [980, 8],\n",
    " [980, 11],\n",
    " [990, 18],\n",
    " [990, -1],\n",
    " [990, 10],\n",
    " [990, 12],\n",
    " [990, 13],\n",
    " [1000, 10],\n",
    " [1000, 14],\n",
    " [1000, 6],\n",
    " [1000, 9],\n",
    " [1000, -1],\n",
    " [1010, 14],\n",
    " [1010, 9],\n",
    " [1010, 10],\n",
    " [1010, -1],\n",
    " [1010, 12],\n",
    " [1020, 10],\n",
    " [1020, -1],\n",
    " [1020, 8],\n",
    " [1020, 14],\n",
    " [1020, 9],\n",
    " [1030, 13],\n",
    " [1030, 15],\n",
    " [1030, -1],\n",
    " [1030, 9],\n",
    " [1030, 6],\n",
    " [1040, 12],\n",
    " [1040, 12],\n",
    " [1040, 11],\n",
    " [1040, 8],\n",
    " [1040, -1],\n",
    " [1050, 10],\n",
    " [1050, 15],\n",
    " [1050, 10],\n",
    " [1050, -1],\n",
    " [1050, -1],\n",
    " [1060, -1],\n",
    " [1060, 12],\n",
    " [1060, 12],\n",
    " [1060, 9],\n",
    " [1060, 9],\n",
    " [1070, 12],\n",
    " [1070, 11],\n",
    " [1070, 10],\n",
    " [1070, 8],\n",
    " [1070, -1],\n",
    " [1080, 10],\n",
    " [1080, 10],\n",
    " [1080, -1],\n",
    " [1080, -1],\n",
    " [1080, -1],\n",
    " [1090, 8],\n",
    " [1090, -1],\n",
    " [1090, -1],\n",
    " [1090, 13],\n",
    " [1090, -1],\n",
    " [1100, 10],\n",
    " [1100, 9],\n",
    " [1100, 10],\n",
    " [1100, -1],\n",
    " [1100, 16],\n",
    " [1110, -1],\n",
    " [1110, -1],\n",
    " [1110, -1],\n",
    " [1110, -1],\n",
    " [1110, -1],\n",
    " [1120, 14],\n",
    " [1120, 14],\n",
    " [1120, -1],\n",
    " [1120, -1],\n",
    " [1120, 9],\n",
    " [1130, 11],\n",
    " [1130, 12],\n",
    " [1130, 14],\n",
    " [1130, -1],\n",
    " [1130, 12],\n",
    " [1140, -1],\n",
    " [1140, 11],\n",
    " [1140, 15],\n",
    " [1140, -1],\n",
    " [1140, -1],\n",
    " [1150, -1],\n",
    " [1150, 10],\n",
    " [1150, -1],\n",
    " [1150, 17],\n",
    " [1150, 9],\n",
    " [1160, -1],\n",
    " [1160, -1],\n",
    " [1160, -1],\n",
    " [1160, 12],\n",
    " [1160, 15],\n",
    " [1170, 12],\n",
    " [1170, 7],\n",
    " [1170, 9],\n",
    " [1170, 13],\n",
    " [1170, 12],\n",
    " [1180, -1],\n",
    " [1180, -1],\n",
    " [1180, -1],\n",
    " [1180, -1],\n",
    " [1180, 18],\n",
    " [1190, 17],\n",
    " [1190, -1],\n",
    " [1190, -1],\n",
    " [1190, -1],\n",
    " [1190, 10]]"
   ]
  },
  {
   "cell_type": "code",
   "execution_count": 15,
   "metadata": {
    "ExecuteTime": {
     "end_time": "2021-11-09T06:58:14.457930Z",
     "start_time": "2021-11-09T06:58:14.175134Z"
    },
    "hidden": true
   },
   "outputs": [
    {
     "data": {
      "image/png": "[encoded data removed]",
      "text/plain": [
       "<Figure size 720x576 with 1 Axes>"
      ]
     },
     "metadata": {
      "needs_background": "light"
     },
     "output_type": "display_data"
    }
   ],
   "source": [
    "fig, ax = plt.subplots(figsize = (10,8))\n",
    "\n",
    "ax.scatter(*zip(*(results)), color = 'blue', label = 'successful training', alpha = 0.3)\n",
    "\n",
    "ax.legend(loc='upper left')\n",
    "ax.set_title('Epochs until convergence with different number of elements')\n",
    "ax.set_xlabel('columns')\n",
    "ax.set_ylabel('epochs to 97 percent train and val ac')\n",
    "ax.grid(axis=\"x\", which = 'both')\n",
    "plt.show()"
   ]
  },
  {
   "cell_type": "code",
   "execution_count": 16,
   "metadata": {
    "ExecuteTime": {
     "end_time": "2021-11-09T06:58:22.114071Z",
     "start_time": "2021-11-09T06:58:21.886399Z"
    },
    "hidden": true
   },
   "outputs": [
    {
     "data": {
      "image/png": "[encoded data removed]",
      "text/plain": [
       "<Figure size 720x576 with 1 Axes>"
      ]
     },
     "metadata": {
      "needs_background": "light"
     },
     "output_type": "display_data"
    }
   ],
   "source": [
    "fig, ax = plt.subplots(figsize = (10,8))\n",
    "\n",
    "ax.scatter(*zip(*(results_zoom)), color = 'blue', label = 'successful training', alpha = 0.3)\n",
    "\n",
    "ax.legend(loc='upper left')\n",
    "ax.set_title('Epochs until convergence with different number of elements')\n",
    "ax.set_xlabel('columns')\n",
    "ax.set_ylabel('epochs to 97 percent train and val ac')\n",
    "ax.grid(axis=\"x\", which = 'both')\n",
    "plt.show()"
   ]
  },
  {
   "cell_type": "code",
   "execution_count": 9,
   "metadata": {
    "ExecuteTime": {
     "end_time": "2021-11-21T03:44:03.470747Z",
     "start_time": "2021-11-21T03:44:03.423594Z"
    },
    "hidden": true
   },
   "outputs": [],
   "source": [
    "from numpy.random import seed\n",
    "seed(42)\n",
    "from tensorflow import set_random_seed\n",
    "set_random_seed(42)"
   ]
  },
  {
   "cell_type": "code",
   "execution_count": 10,
   "metadata": {
    "ExecuteTime": {
     "end_time": "2021-11-21T03:44:05.113750Z",
     "start_time": "2021-11-21T03:44:05.109453Z"
    },
    "hidden": true
   },
   "outputs": [],
   "source": [
    "initializer = tf.keras.initializers.glorot_normal(seed=42)"
   ]
  },
  {
   "cell_type": "code",
   "execution_count": 11,
   "metadata": {
    "ExecuteTime": {
     "end_time": "2021-11-21T03:44:06.447756Z",
     "start_time": "2021-11-21T03:44:06.442195Z"
    },
    "hidden": true
   },
   "outputs": [
    {
     "data": {
      "text/plain": [
       "<tensorflow.python.ops.init_ops.GlorotNormal at 0x7fa9d5a8e6d8>"
      ]
     },
     "execution_count": 11,
     "metadata": {},
     "output_type": "execute_result"
    }
   ],
   "source": [
    "initializer"
   ]
  },
  {
   "cell_type": "code",
   "execution_count": 13,
   "metadata": {
    "ExecuteTime": {
     "end_time": "2021-11-22T05:22:53.180856Z",
     "start_time": "2021-11-21T06:39:46.991273Z"
    },
    "hidden": true,
    "scrolled": true
   },
   "outputs": [
    {
     "name": "stdout",
     "output_type": "stream",
     "text": [
      "starting with 800 dimensions, trial number 0\n",
      " 0  1  2  3  4  5  6  7  8  9  10  11  12  13  14  15  16  17  18  19 \n",
      "starting with 800 dimensions, trial number 1\n",
      " 0  1  2  3  4  5 \n",
      "starting with 800 dimensions, trial number 2\n",
      " 0  1  2  3  4  5  6  7  8  9  10  11  12  13  14  15  16  17  18  19 \n",
      "starting with 800 dimensions, trial number 3\n",
      " 0  1  2  3  4  5  6  7  8  9  10  11  12  13  14  15 \n",
      "starting with 810 dimensions, trial number 0\n",
      " 0  1  2  3  4  5  6  7  8  9  10  11  12  13  14  15  16  17  18  19 \n",
      "starting with 810 dimensions, trial number 1\n",
      " 0  1  2  3  4  5  6  7 \n",
      "starting with 810 dimensions, trial number 2\n",
      " 0  1  2  3  4  5 \n",
      "starting with 810 dimensions, trial number 3\n",
      " 0  1  2  3  4  5  6  7  8  9  10  11  12  13 \n",
      "starting with 820 dimensions, trial number 0\n",
      " 0  1  2  3  4  5  6  7  8  9  10  11  12  13  14  15  16  17  18  19 \n",
      "starting with 820 dimensions, trial number 1\n",
      " 0  1  2  3  4  5  6  7  8  9  10  11  12  13  14  15  16  17  18  19 \n",
      "starting with 820 dimensions, trial number 2\n",
      " 0  1  2  3  4  5  6  7  8  9  10  11  12  13  14  15  16  17  18 \n",
      "starting with 820 dimensions, trial number 3\n",
      " 0  1  2  3  4  5  6  7 \n",
      "starting with 830 dimensions, trial number 0\n",
      " 0  1  2  3  4  5  6  7  8  9  10  11  12  13  14 \n",
      "starting with 830 dimensions, trial number 1\n",
      " 0  1  2  3  4  5  6  7  8  9  10  11  12  13  14  15  16  17  18  19 \n",
      "starting with 830 dimensions, trial number 2\n",
      " 0  1  2  3  4  5  6  7  8  9  10  11  12  13  14  15  16  17  18  19 \n",
      "starting with 830 dimensions, trial number 3\n",
      " 0  1  2  3  4  5  6  7 \n",
      "starting with 840 dimensions, trial number 0\n",
      " 0  1  2  3  4  5  6  7  8  9  10  11  12  13  14  15  16  17  18  19 \n",
      "starting with 840 dimensions, trial number 1\n",
      " 0  1  2  3  4  5  6  7  8  9  10  11  12  13  14 \n",
      "starting with 840 dimensions, trial number 2\n",
      " 0  1  2  3  4  5 \n",
      "starting with 840 dimensions, trial number 3\n",
      " 0  1  2  3  4  5  6  7  8  9  10  11  12  13  14  15  16  17  18  19 \n",
      "starting with 850 dimensions, trial number 0\n",
      " 0  1  2  3  4  5  6  7  8  9  10  11  12  13  14  15  16  17  18  19 \n",
      "starting with 850 dimensions, trial number 1\n",
      " 0  1  2  3  4  5  6  7  8  9  10  11  12 \n",
      "starting with 850 dimensions, trial number 2\n",
      " 0  1  2  3  4  5  6  7  8  9  10  11  12  13 \n",
      "starting with 850 dimensions, trial number 3\n",
      " 0  1  2  3  4  5  6  7  8  9 \n",
      "starting with 860 dimensions, trial number 0\n",
      " 0  1  2  3  4  5  6  7  8  9  10  11  12  13  14 \n",
      "starting with 860 dimensions, trial number 1\n",
      " 0  1  2  3  4  5  6  7  8  9  10  11  12  13  14  15  16  17  18  19 \n",
      "starting with 860 dimensions, trial number 2\n",
      " 0  1  2  3  4  5  6  7  8  9  10  11  12  13  14  15  16  17  18  19 \n",
      "starting with 860 dimensions, trial number 3\n",
      " 0  1  2  3  4  5 \n",
      "starting with 870 dimensions, trial number 0\n",
      " 0  1  2  3  4  5 \n",
      "starting with 870 dimensions, trial number 1\n",
      " 0  1  2  3  4  5  6  7  8  9  10  11  12  13  14  15  16  17  18  19 \n",
      "starting with 870 dimensions, trial number 2\n",
      " 0  1  2  3  4  5  6  7  8  9  10  11  12  13  14  15  16  17  18  19 \n",
      "starting with 870 dimensions, trial number 3\n",
      " 0  1  2  3  4  5  6  7  8  9  10  11  12 \n",
      "starting with 880 dimensions, trial number 0\n",
      " 0  1  2  3  4  5  6  7  8  9 \n",
      "starting with 880 dimensions, trial number 1\n",
      " 0  1  2  3  4  5  6  7 \n",
      "starting with 880 dimensions, trial number 2\n",
      " 0  1  2  3  4  5  6  7 \n",
      "starting with 880 dimensions, trial number 3\n",
      " 0  1  2  3  4  5  6  7 \n",
      "starting with 890 dimensions, trial number 0\n",
      " 0  1  2  3  4  5  6  7  8  9  10  11  12  13  14  15  16  17  18  19 \n",
      "starting with 890 dimensions, trial number 1\n",
      " 0  1  2  3  4  5  6 \n",
      "starting with 890 dimensions, trial number 2\n",
      " 0  1  2  3  4  5  6  7  8  9  10  11  12  13  14  15  16  17  18  19 \n",
      "starting with 890 dimensions, trial number 3\n",
      " 0  1  2  3  4  5  6  7  8  9  10  11  12  13  14  15  16  17  18  19 \n",
      "starting with 900 dimensions, trial number 0\n",
      " 0  1  2  3  4  5  6 \n",
      "starting with 900 dimensions, trial number 1\n",
      " 0  1  2  3  4  5  6  7  8  9  10  11  12  13  14  15  16  17  18  19 \n",
      "starting with 900 dimensions, trial number 2\n",
      " 0  1  2  3  4  5  6  7 \n",
      "starting with 900 dimensions, trial number 3\n",
      " 0  1  2  3  4  5  6  7  8  9  10  11  12  13  14  15  16  17  18  19 \n",
      "starting with 910 dimensions, trial number 0\n",
      " 0  1  2  3  4  5  6  7  8  9  10  11  12  13  14 \n",
      "starting with 910 dimensions, trial number 1\n",
      " 0  1  2  3  4  5  6  7  8  9  10  11  12 \n",
      "starting with 910 dimensions, trial number 2\n",
      " 0  1  2  3  4  5  6  7  8  9  10  11  12  13  14  15  16  17  18  19 \n",
      "starting with 910 dimensions, trial number 3\n",
      " 0  1  2  3  4  5  6  7  8  9  10  11  12  13  14 \n",
      "starting with 920 dimensions, trial number 0\n",
      " 0  1  2  3  4  5  6 \n",
      "starting with 920 dimensions, trial number 1\n",
      " 0  1  2  3  4  5  6 \n",
      "starting with 920 dimensions, trial number 2\n",
      " 0  1  2  3  4  5  6  7  8  9  10  11  12  13  14  15 \n",
      "starting with 920 dimensions, trial number 3\n",
      " 0  1  2  3  4  5  6  7  8  9  10  11  12  13  14  15  16  17  18  19 \n",
      "starting with 930 dimensions, trial number 0\n",
      " 0  1  2  3  4  5  6  7  8  9  10  11  12  13  14  15  16  17  18 \n",
      "starting with 930 dimensions, trial number 1\n",
      " 0  1  2  3  4  5  6  7  8  9  10  11  12  13  14  15  16  17  18  19 \n",
      "starting with 930 dimensions, trial number 2\n",
      " 0  1  2  3  4  5  6  7  8  9  10  11  12  13  14 \n",
      "starting with 930 dimensions, trial number 3\n",
      " 0  1  2  3  4  5  6  7  8  9  10  11  12  13  14  15  16  17  18  19 \n",
      "starting with 940 dimensions, trial number 0\n",
      " 0  1  2  3  4  5  6  7  8  9  10  11  12  13  14  15  16  17  18  19 \n",
      "starting with 940 dimensions, trial number 1\n",
      " 0  1  2  3  4  5  6  7 \n",
      "starting with 940 dimensions, trial number 2\n",
      " 0  1  2  3  4  5  6  7  8  9  10  11  12  13  14  15  16  17  18  19 \n",
      "starting with 940 dimensions, trial number 3\n",
      " 0  1  2  3  4  5  6  7  8  9  10  11  12  13  14 \n",
      "starting with 950 dimensions, trial number 0\n",
      " 0  1  2  3  4  5  6  7  8  9  10  11  12  13 \n",
      "starting with 950 dimensions, trial number 1\n",
      " 0  1  2  3  4  5  6  7  8  9  10  11  12  13  14  15  16  17  18  19 \n",
      "starting with 950 dimensions, trial number 2\n",
      " 0  1  2  3  4  5  6  7  8  9  10  11  12  13  14  15  16  17  18  19 \n",
      "starting with 950 dimensions, trial number 3\n",
      " 0  1  2  3  4  5  6  7  8  9  10  11  12  13  14  15  16  17  18  19 \n",
      "starting with 960 dimensions, trial number 0\n",
      " 0  1  2  3  4  5  6  7  8  9  10  11  12  13  14  15  16  17  18 \n",
      "starting with 960 dimensions, trial number 1\n",
      " 0  1  2  3  4  5  6  7  8  9  10  11  12  13  14  15  16  17  18  19 \n",
      "starting with 960 dimensions, trial number 2\n",
      " 0  1  2  3  4  5  6  7  8  9  10  11  12  13  14  15  16  17  18 \n",
      "starting with 960 dimensions, trial number 3\n",
      " 0  1  2  3  4  5  6  7  8  9  10  11  12  13  14  15  16  17  18  19 \n",
      "starting with 970 dimensions, trial number 0\n",
      " 0  1  2  3  4  5  6  7  8  9  10  11  12  13  14  15  16  17  18  19 \n",
      "starting with 970 dimensions, trial number 1\n",
      " 0  1  2  3  4  5  6  7  8  9  10  11  12  13  14  15  16  17  18  19 \n",
      "starting with 970 dimensions, trial number 2\n",
      " 0  1  2  3  4  5  6  7  8  9  10  11  12  13  14  15  16  17  18  19 \n",
      "starting with 970 dimensions, trial number 3\n",
      " 0  1  2  3  4  5  6  7  8  9  10  11 \n",
      "starting with 980 dimensions, trial number 0\n",
      " 0  1  2  3  4  5  6  7  8  9  10  11  12  13  14  15  16  17  18  19 \n",
      "starting with 980 dimensions, trial number 1\n",
      " 0  1  2  3  4  5  6  7  8  9  10  11  12  13  14 \n",
      "starting with 980 dimensions, trial number 2\n",
      " 0  1  2  3  4  5  6  7 \n",
      "starting with 980 dimensions, trial number 3\n",
      " 0  1  2  3  4  5  6  7  8  9  10  11  12  13  14  15  16  17  18  19 \n",
      "starting with 990 dimensions, trial number 0\n",
      " 0  1  2  3  4  5  6  7  8  9  10  11  12  13  14  15  16  17  18  19 \n",
      "starting with 990 dimensions, trial number 1\n",
      " 0  1  2  3  4  5  6  7  8 \n",
      "starting with 990 dimensions, trial number 2\n",
      " 0  1  2  3  4  5  6 \n",
      "starting with 990 dimensions, trial number 3\n",
      " 0  1  2  3  4  5  6 \n",
      "starting with 1000 dimensions, trial number 0\n",
      " 0  1  2  3  4  5  6  7  8  9  10  11  12  13  14  15  16  17  18  19 \n",
      "starting with 1000 dimensions, trial number 1\n",
      " 0  1  2  3  4  5  6  7  8  9  10  11  12  13  14  15  16  17  18  19 \n",
      "starting with 1000 dimensions, trial number 2\n",
      " 0  1  2  3  4  5  6  7  8  9  10  11  12  13  14  15  16  17  18  19 \n",
      "starting with 1000 dimensions, trial number 3\n",
      " 0  1  2  3  4  5  6  7  8  9  10  11  12  13  14  15  16  17  18  19 \n",
      "starting with 1010 dimensions, trial number 0\n",
      " 0  1  2  3  4  5  6  7  8  9  10  11  12  13  14  15  16  17  18  19 \n",
      "starting with 1010 dimensions, trial number 1\n",
      " 0  1  2  3  4  5  6 \n",
      "starting with 1010 dimensions, trial number 2\n",
      " 0  1  2  3  4  5  6  7  8  9  10  11  12  13  14  15  16  17  18  19 \n",
      "starting with 1010 dimensions, trial number 3\n",
      " 0  1  2  3  4  5  6  7  8  9  10  11  12  13  14  15  16  17  18  19 \n",
      "starting with 1020 dimensions, trial number 0\n",
      " 0  1  2  3  4  5  6  7  8  9  10  11  12  13  14  15  16  17  18  19 \n",
      "starting with 1020 dimensions, trial number 1\n",
      " 0  1  2  3  4  5  6  7  8  9  10  11  12  13  14  15  16  17  18  19 \n",
      "starting with 1020 dimensions, trial number 2\n",
      " 0  1  2  3  4  5  6  7  8  9  10  11  12  13  14  15  16  17  18  19 \n",
      "starting with 1020 dimensions, trial number 3\n",
      " 0  1  2  3  4  5  6  7  8  9  10  11  12  13  14  15  16  17  18  19 \n",
      "starting with 1030 dimensions, trial number 0\n",
      " 0  1  2  3  4  5  6  7  8  9  10  11  12  13  14  15  16  17  18  19 \n",
      "starting with 1030 dimensions, trial number 1\n",
      " 0  1  2  3  4  5  6  7  8  9  10  11  12  13  14  15  16  17  18  19 \n",
      "starting with 1030 dimensions, trial number 2\n",
      " 0  1  2  3  4  5  6  7  8  9  10  11  12  13  14  15  16  17  18  19 \n",
      "starting with 1030 dimensions, trial number 3\n",
      " 0  1  2  3  4  5  6  7  8  9  10  11  12  13  14  15  16  17  18  19 \n",
      "starting with 1040 dimensions, trial number 0\n",
      " 0  1  2  3  4  5  6  7  8  9  10  11  12  13  14  15  16  17  18  19 \n",
      "starting with 1040 dimensions, trial number 1\n",
      " 0  1  2  3  4  5  6  7  8  9  10  11  12  13  14  15  16  17  18  19 \n",
      "starting with 1040 dimensions, trial number 2\n",
      " 0  1  2  3  4  5  6  7  8  9  10  11  12  13  14  15  16  17  18  19 \n",
      "starting with 1040 dimensions, trial number 3\n",
      " 0  1  2  3  4  5  6  7  8  9  10  11  12  13  14  15  16  17  18  19 \n",
      "starting with 1050 dimensions, trial number 0\n",
      " 0  1  2  3  4  5  6  7  8  9  10  11  12  13  14 \n",
      "starting with 1050 dimensions, trial number 1\n",
      " 0  1  2  3  4  5  6  7  8  9  10  11  12  13  14  15 \n",
      "starting with 1050 dimensions, trial number 2\n",
      " 0  1  2  3  4  5  6  7  8  9  10  11  12  13  14  15  16  17  18  19 \n",
      "starting with 1050 dimensions, trial number 3\n",
      " 0  1  2  3  4  5  6  7  8  9  10  11  12  13  14  15  16  17  18  19 \n",
      "starting with 1060 dimensions, trial number 0\n",
      " 0  1  2  3  4  5  6  7  8  9  10  11  12  13  14  15  16  17  18  19 \n",
      "starting with 1060 dimensions, trial number 1\n",
      " 0  1  2  3  4  5  6  7  8  9  10  11  12  13  14  15  16  17  18  19 \n",
      "starting with 1060 dimensions, trial number 2\n",
      " 0  1  2  3  4  5  6  7  8  9  10  11  12  13  14  15  16  17  18  19 \n",
      "starting with 1060 dimensions, trial number 3\n",
      " 0  1  2  3  4  5  6  7  8  9  10  11  12  13  14  15  16  17  18  19 \n",
      "starting with 1070 dimensions, trial number 0\n",
      " 0  1  2  3  4  5  6  7  8  9  10  11  12  13  14  15  16  17  18  19 \n",
      "starting with 1070 dimensions, trial number 1\n",
      " 0  1  2  3  4  5  6  7  8  9  10  11  12  13  14  15  16  17  18  19 \n",
      "starting with 1070 dimensions, trial number 2\n",
      " 0  1  2  3  4  5  6  7  8  9  10  11  12  13  14  15  16  17  18  19 \n",
      "starting with 1070 dimensions, trial number 3\n",
      " 0  1  2  3  4  5  6  7  8  9  10  11  12  13  14  15  16  17  18  19 \n",
      "starting with 1080 dimensions, trial number 0\n",
      " 0  1  2  3  4  5  6  7  8  9  10  11  12  13  14  15  16  17  18  19 \n",
      "starting with 1080 dimensions, trial number 1\n",
      " 0  1  2  3  4  5  6  7  8  9  10  11  12  13  14  15 \n",
      "starting with 1080 dimensions, trial number 2\n",
      " 0  1  2  3  4  5  6  7  8  9  10  11  12  13  14  15  16  17  18  19 \n",
      "starting with 1080 dimensions, trial number 3\n",
      " 0  1  2  3  4  5  6  7  8  9 \n",
      "starting with 1090 dimensions, trial number 0\n",
      " 0  1  2  3  4  5  6  7  8  9  10  11  12  13  14  15  16  17  18  19 \n",
      "starting with 1090 dimensions, trial number 1\n",
      " 0  1  2  3  4  5  6  7  8  9  10  11  12  13  14  15  16  17  18  19 \n",
      "starting with 1090 dimensions, trial number 2\n",
      " 0  1  2  3  4  5  6  7  8  9  10  11  12  13  14  15  16  17  18  19 \n",
      "starting with 1090 dimensions, trial number 3\n",
      " 0  1  2  3  4  5  6  7  8  9  10  11  12  13  14  15  16 \n",
      "starting with 1100 dimensions, trial number 0\n",
      " 0  1  2  3  4  5  6  7  8  9  10  11  12  13  14  15  16  17  18  19 \n",
      "starting with 1100 dimensions, trial number 1\n",
      " 0  1  2  3  4  5  6  7  8  9  10  11  12  13  14  15  16  17  18  19 \n",
      "starting with 1100 dimensions, trial number 2\n",
      " 0  1  2  3  4  5  6  7  8  9  10  11  12  13  14  15  16  17  18  19 \n",
      "starting with 1100 dimensions, trial number 3\n",
      " 0  1  2  3  4  5  6  7  8  9  10  11  12  13  14  15  16  17  18  19 \n",
      "starting with 1110 dimensions, trial number 0\n",
      " 0  1  2  3  4  5  6  7  8 \n",
      "starting with 1110 dimensions, trial number 1\n",
      " 0  1  2  3  4  5  6  7  8  9  10  11  12  13  14  15  16  17  18  19 \n",
      "starting with 1110 dimensions, trial number 2\n",
      " 0  1  2  3  4  5  6  7  8  9  10  11  12  13  14  15  16  17  18  19 \n",
      "starting with 1110 dimensions, trial number 3\n",
      " 0  1  2  3  4  5  6  7 \n",
      "starting with 1120 dimensions, trial number 0\n",
      " 0  1  2  3  4  5  6  7  8  9  10  11  12  13  14  15  16  17  18  19 \n",
      "starting with 1120 dimensions, trial number 1\n",
      " 0  1  2  3  4  5  6  7  8  9  10  11  12  13  14  15  16  17  18  19 \n",
      "starting with 1120 dimensions, trial number 2\n",
      " 0  1  2  3  4  5  6  7  8  9  10  11  12  13  14  15  16  17  18  19 \n",
      "starting with 1120 dimensions, trial number 3\n",
      " 0  1  2  3  4  5  6  7  8  9  10  11  12  13  14  15  16  17  18  19 \n",
      "starting with 1130 dimensions, trial number 0\n",
      " 0  1  2  3  4  5  6  7  8  9  10  11  12  13  14  15  16  17  18  19 \n",
      "starting with 1130 dimensions, trial number 1\n",
      " 0  1  2  3  4  5  6  7  8 \n",
      "starting with 1130 dimensions, trial number 2\n",
      " 0  1  2  3  4  5  6  7  8  9  10  11  12  13  14  15  16  17  18  19 \n",
      "starting with 1130 dimensions, trial number 3\n",
      " 0  1  2  3  4  5  6  7  8  9 \n",
      "starting with 1140 dimensions, trial number 0\n",
      " 0  1  2  3  4  5  6  7  8  9  10  11  12  13  14  15  16  17  18  19 \n",
      "starting with 1140 dimensions, trial number 1\n",
      " 0  1  2  3  4  5  6  7  8  9 \n",
      "starting with 1140 dimensions, trial number 2\n",
      " 0  1  2  3  4  5  6  7  8  9  10  11  12  13  14  15  16  17  18  19 \n",
      "starting with 1140 dimensions, trial number 3\n",
      " 0  1  2  3  4  5  6  7  8  9  10  11  12  13  14  15  16  17  18  19 \n",
      "starting with 1150 dimensions, trial number 0\n",
      " 0  1  2  3  4  5  6  7  8  9  10  11  12  13  14  15  16  17  18  19 \n",
      "starting with 1150 dimensions, trial number 1\n",
      " 0  1  2  3  4  5  6  7  8  9  10  11  12  13  14  15  16  17  18  19 \n",
      "starting with 1150 dimensions, trial number 2\n",
      " 0  1  2  3  4  5  6  7  8  9  10  11  12  13  14  15  16  17  18  19 \n",
      "starting with 1150 dimensions, trial number 3\n",
      " 0  1  2  3  4  5  6  7  8  9  10  11  12  13  14  15  16  17  18  19 \n",
      "starting with 1160 dimensions, trial number 0\n",
      " 0  1  2  3  4  5  6  7  8  9  10  11  12  13  14  15  16  17  18  19 \n",
      "starting with 1160 dimensions, trial number 1\n",
      " 0  1  2  3  4  5  6  7  8  9  10  11  12  13  14  15  16  17  18  19 \n",
      "starting with 1160 dimensions, trial number 2\n",
      " 0  1  2  3  4  5  6  7  8  9  10  11  12  13  14  15  16  17  18  19 \n",
      "starting with 1160 dimensions, trial number 3\n",
      " 0  1  2  3  4  5  6  7  8  9  10  11  12  13  14  15  16  17  18  19 \n",
      "starting with 1170 dimensions, trial number 0\n",
      " 0  1  2  3  4  5  6  7  8 \n",
      "starting with 1170 dimensions, trial number 1\n",
      " 0  1  2  3  4  5  6  7  8  9  10  11  12  13  14  15  16  17  18  19 \n",
      "starting with 1170 dimensions, trial number 2\n",
      " 0  1  2  3  4  5  6  7 \n",
      "starting with 1170 dimensions, trial number 3\n",
      " 0  1  2  3  4  5  6  7  8  9 \n",
      "starting with 1180 dimensions, trial number 0\n",
      " 0  1  2  3  4  5  6  7  8  9  10  11  12  13  14  15  16 \n",
      "starting with 1180 dimensions, trial number 1\n",
      " 0  1  2  3  4  5  6  7  8  9  10  11  12  13  14  15  16  17  18  19 \n",
      "starting with 1180 dimensions, trial number 2\n",
      " 0  1  2  3  4  5  6  7  8  9  10  11  12  13  14  15  16  17  18  19 \n",
      "starting with 1180 dimensions, trial number 3\n",
      " 0  1  2  3  4  5  6  7 \n",
      "starting with 1190 dimensions, trial number 0\n",
      " 0  1  2  3  4  5  6  7  8  9  10  11  12  13  14  15  16  17  18  19 \n",
      "starting with 1190 dimensions, trial number 1\n",
      " 0  1  2  3  4  5  6  7  8 \n",
      "starting with 1190 dimensions, trial number 2\n"
     ]
    },
    {
     "name": "stdout",
     "output_type": "stream",
     "text": [
      " 0  1  2  3  4  5  6  7  8  9  10  11  12  13  14  15  16  17  18  19 \n",
      "starting with 1190 dimensions, trial number 3\n",
      " 0  1  2  3  4  5  6  7  8  9  10  11  12  13  14  15  16  17  18  19 \n",
      "starting with 1200 dimensions, trial number 0\n",
      " 0  1  2  3  4  5  6  7  8  9  10  11  12  13  14  15  16  17  18  19 \n",
      "starting with 1200 dimensions, trial number 1\n",
      " 0  1  2  3  4  5  6  7  8  9  10  11  12  13  14  15  16  17  18  19 \n",
      "starting with 1200 dimensions, trial number 2\n",
      " 0  1  2  3  4  5  6  7  8  9  10  11 \n",
      "starting with 1200 dimensions, trial number 3\n",
      " 0  1  2  3  4  5  6  7  8  9  10  11  12  13  14  15  16  17  18  19 \n",
      "starting with 1210 dimensions, trial number 0\n",
      " 0  1  2  3  4  5  6  7  8  9  10  11  12  13  14  15  16  17  18  19 \n",
      "starting with 1210 dimensions, trial number 1\n",
      " 0  1  2  3  4  5  6  7  8  9  10  11  12  13  14  15  16  17  18  19 \n",
      "starting with 1210 dimensions, trial number 2\n",
      " 0  1  2  3  4  5  6  7  8  9  10  11  12  13  14  15  16  17  18  19 \n",
      "starting with 1210 dimensions, trial number 3\n",
      " 0  1  2  3  4  5  6  7  8  9  10  11  12  13  14  15  16  17  18  19 \n",
      "starting with 1220 dimensions, trial number 0\n",
      " 0  1  2  3  4  5  6  7  8  9  10  11  12  13  14  15  16  17  18  19 \n",
      "starting with 1220 dimensions, trial number 1\n",
      " 0  1  2  3  4  5  6  7  8  9  10  11  12  13  14  15  16  17  18  19 \n",
      "starting with 1220 dimensions, trial number 2\n",
      " 0  1  2  3  4  5  6  7  8  9  10  11  12  13  14  15  16  17  18  19 \n",
      "starting with 1220 dimensions, trial number 3\n",
      " 0  1  2  3  4  5  6  7  8  9  10  11  12  13  14  15  16  17  18  19 \n",
      "starting with 1230 dimensions, trial number 0\n",
      " 0  1  2  3  4  5  6  7  8  9  10  11  12  13  14  15  16  17  18  19 \n",
      "starting with 1230 dimensions, trial number 1\n",
      " 0  1  2  3  4  5  6  7  8  9  10  11  12  13  14  15  16  17  18  19 \n",
      "starting with 1230 dimensions, trial number 2\n",
      " 0  1  2  3  4  5  6  7  8  9  10  11  12  13  14  15  16  17  18  19 \n",
      "starting with 1230 dimensions, trial number 3\n",
      " 0  1  2  3  4  5  6  7  8  9  10  11  12  13  14  15  16  17  18  19 \n",
      "starting with 1240 dimensions, trial number 0\n",
      " 0  1  2  3  4  5  6  7  8  9  10  11  12  13  14  15  16  17  18  19 \n",
      "starting with 1240 dimensions, trial number 1\n",
      " 0  1  2  3  4  5  6  7  8  9  10  11  12  13  14  15  16  17  18  19 \n",
      "starting with 1240 dimensions, trial number 2\n",
      " 0  1  2  3  4  5  6  7  8  9  10  11  12  13  14  15  16  17  18  19 \n",
      "starting with 1240 dimensions, trial number 3\n",
      " 0  1  2  3  4  5  6  7  8  9  10  11  12  13  14  15  16  17  18  19 \n",
      "starting with 1250 dimensions, trial number 0\n",
      " 0  1  2  3  4  5  6  7  8  9  10  11  12  13  14  15  16  17  18  19 \n",
      "starting with 1250 dimensions, trial number 1\n",
      " 0  1  2  3  4  5  6  7  8  9  10  11  12  13  14  15  16  17  18  19 \n",
      "starting with 1250 dimensions, trial number 2\n",
      " 0  1  2  3  4  5  6  7  8  9  10  11  12  13  14  15  16  17  18  19 \n",
      "starting with 1250 dimensions, trial number 3\n",
      " 0  1  2  3  4  5  6  7  8  9  10  11  12  13  14  15  16  17  18  19 \n",
      "starting with 1260 dimensions, trial number 0\n",
      " 0  1  2  3  4  5  6  7  8  9 \n",
      "starting with 1260 dimensions, trial number 1\n",
      " 0  1  2  3  4  5  6  7  8  9  10  11  12  13  14  15  16  17  18  19 \n",
      "starting with 1260 dimensions, trial number 2\n",
      " 0  1  2  3  4  5  6  7  8  9  10 \n",
      "starting with 1260 dimensions, trial number 3\n",
      " 0  1  2  3  4  5  6  7  8  9  10  11  12  13  14  15  16  17  18  19 \n",
      "starting with 1270 dimensions, trial number 0\n",
      " 0  1  2  3  4  5  6  7  8  9  10  11  12  13  14  15  16  17  18  19 \n",
      "starting with 1270 dimensions, trial number 1\n",
      " 0  1  2  3  4  5  6  7  8  9  10  11  12  13  14  15  16  17  18  19 \n",
      "starting with 1270 dimensions, trial number 2\n",
      " 0  1  2  3  4  5  6  7  8  9  10  11  12  13  14  15  16  17  18  19 \n",
      "starting with 1270 dimensions, trial number 3\n",
      " 0  1  2  3  4  5  6  7  8  9  10  11  12  13  14  15  16  17  18  19 \n",
      "starting with 1280 dimensions, trial number 0\n",
      " 0  1  2  3  4  5  6  7  8  9  10  11  12  13  14  15  16  17  18  19 \n",
      "starting with 1280 dimensions, trial number 1\n",
      " 0  1  2  3  4  5  6  7  8  9  10  11  12  13  14  15  16  17  18  19 \n",
      "starting with 1280 dimensions, trial number 2\n",
      " 0  1  2  3  4  5  6  7  8  9  10  11  12  13  14  15  16  17  18  19 \n",
      "starting with 1280 dimensions, trial number 3\n",
      " 0  1  2  3  4  5  6  7  8  9  10  11  12  13  14  15  16  17  18  19 \n",
      "starting with 1290 dimensions, trial number 0\n",
      " 0  1  2  3  4  5  6  7  8  9  10  11  12  13  14  15  16  17  18  19 \n",
      "starting with 1290 dimensions, trial number 1\n",
      " 0  1  2  3  4  5  6  7  8  9  10  11  12  13  14  15  16  17  18  19 \n",
      "starting with 1290 dimensions, trial number 2\n",
      " 0  1  2  3  4  5  6  7  8  9  10  11  12  13  14  15  16  17  18  19 \n",
      "starting with 1290 dimensions, trial number 3\n",
      " 0  1  2  3  4  5  6  7  8  9  10  11  12  13  14  15  16  17  18  19 \n"
     ]
    }
   ],
   "source": [
    "results_zoom_fixed = []\n",
    "idx = 0\n",
    "\n",
    "initializer = tf.keras.initializers.glorot_normal(seed=42)\n",
    "\n",
    "for dimension in range(800, 1300, 10):\n",
    "    \n",
    "    for trial in range(4):\n",
    "        \n",
    "        print(f'starting with {dimension} dimensions, trial number {trial}')\n",
    "        \n",
    "        Xtrain, Xval = X_train_t3[:,:dimension], X_val_t3[:,:dimension]\n",
    "        Ytrain, Yval = Y_train_t3,Y_val_t3\n",
    "\n",
    "        inputs = tf.keras.Input(shape=(dimension,))\n",
    "        x = inputs\n",
    "        examine_layer = None\n",
    "        for idx, size in enumerate(hidden_sizes_t3):\n",
    "#             x = tf.keras.layers.Dense(size, activation=tf.nn.relu,\n",
    "#                                       kernel_initializer = initializer)(x)\n",
    "            x = tf.keras.layers.Dense(size, activation=tf.nn.relu)(x)\n",
    "\n",
    "            if examine_layer == None:\n",
    "                examine_layer = x\n",
    "\n",
    "#         outputs = tf.keras.layers.Dense(2, activation=tf.nn.softmax, kernel_initializer = initializer)(x)\n",
    "        outputs = tf.keras.layers.Dense(2, activation=tf.nn.softmax)(x)\n",
    "\n",
    "        model = tf.keras.Model(inputs=inputs, outputs=outputs)\n",
    "\n",
    "        model.compile(optimizer=tf.keras.optimizers.Adam(lr = 0.0005),\n",
    "                  loss=tf.losses.softmax_cross_entropy,\n",
    "                  metrics=['accuracy'])\n",
    "        \n",
    "\n",
    "        train_acc = 0\n",
    "        val_acc = 0\n",
    "        success = 0\n",
    "        for epoch in range(20):\n",
    "            print(f\" {epoch} \", end='')\n",
    "            history = model.fit(Xtrain, Ytrain,\n",
    "                  epochs=1,\n",
    "                  batch_size=batch_size_t3,\n",
    "                  validation_data=(Xval, Yval),\n",
    "                shuffle=False,\n",
    "                  verbose=0)\n",
    "            train_acc = model.evaluate(Xtrain, Ytrain, verbose = 0)[1]\n",
    "            val_acc = model.evaluate(Xval, Yval, verbose = 0)[1]\n",
    "            if (train_acc >= 0.80 and val_acc >= 0.80):\n",
    "                success = 1\n",
    "                print('')\n",
    "                results_zoom_fixed.append([dimension,epoch])\n",
    "                break\n",
    "        if success:\n",
    "#             final_accuracies.append([dimension,0.8])\n",
    "            pass\n",
    "        else:\n",
    "#             if train_acc > 0.65:\n",
    "#                 converging_but_too_slow.append([dimension, train_acc])\n",
    "#             final_accuracies.append([dimension, train_acc])\n",
    "            print('')\n",
    "            results_zoom_fixed.append([dimension,-1])\n",
    "        \n"
   ]
  },
  {
   "cell_type": "code",
   "execution_count": 32,
   "metadata": {
    "ExecuteTime": {
     "end_time": "2021-11-09T19:11:09.420255Z",
     "start_time": "2021-11-09T19:11:09.414595Z"
    },
    "hidden": true
   },
   "outputs": [
    {
     "data": {
      "text/plain": [
       "3"
      ]
     },
     "execution_count": 32,
     "metadata": {},
     "output_type": "execute_result"
    }
   ],
   "source": [
    "1+2"
   ]
  },
  {
   "cell_type": "code",
   "execution_count": null,
   "metadata": {
    "hidden": true
   },
   "outputs": [],
   "source": []
  },
  {
   "cell_type": "markdown",
   "metadata": {
    "heading_collapsed": true
   },
   "source": [
    "# Task 4: deviation from the mean, does it matter?"
   ]
  },
  {
   "cell_type": "code",
   "execution_count": 25,
   "metadata": {
    "ExecuteTime": {
     "end_time": "2021-11-22T23:33:37.126295Z",
     "start_time": "2021-11-22T23:33:37.119041Z"
    },
    "hidden": true
   },
   "outputs": [
    {
     "data": {
      "text/plain": [
       "array([0.64021856, 0.45802583, 0.55109006, ..., 0.39421652, 0.57680039,\n",
       "       0.43759149])"
      ]
     },
     "execution_count": 25,
     "metadata": {},
     "output_type": "execute_result"
    }
   ],
   "source": [
    "get_random_datapoint_t3(True, 0.1, 2000)"
   ]
  },
  {
   "cell_type": "code",
   "execution_count": 26,
   "metadata": {
    "ExecuteTime": {
     "end_time": "2021-11-22T23:33:40.127515Z",
     "start_time": "2021-11-22T23:33:40.121358Z"
    },
    "hidden": true
   },
   "outputs": [],
   "source": [
    "def get_random_datapoint_t4(sig, deviation = 0.1, size = 2000):\n",
    "    pts = np.random.normal(0.5, 0.05, size)\n",
    "    if sig:\n",
    "        pts[0] = np.random.normal(0.5 + deviation, 0.05, 1)\n",
    "    return pts"
   ]
  },
  {
   "cell_type": "code",
   "execution_count": 17,
   "metadata": {
    "ExecuteTime": {
     "end_time": "2021-11-22T23:05:55.411284Z",
     "start_time": "2021-11-22T23:05:55.400701Z"
    },
    "hidden": true
   },
   "outputs": [],
   "source": [
    "def prep_data_t4(sig, bg):\n",
    "    \n",
    "    this_y_bg = np.zeros(len(bg))\n",
    "    \n",
    "    this_y_sig = np.ones(len(sig))\n",
    "    \n",
    "    \"\"\"\n",
    "    Shuffle + Train-Val-Test Split \n",
    "    \"\"\"\n",
    "    # Combine both data sets\n",
    "    this_X = np.concatenate([bg, sig])\n",
    "    this_y = np.concatenate([this_y_bg, this_y_sig])\n",
    "    \n",
    "    # Shuffle before we split\n",
    "    this_X, this_y = shuffle(this_X, this_y)\n",
    "    \n",
    "    \n",
    "    (X_train, X_val, _,\n",
    "     y_train, y_val, _) = data_split(this_X, this_y, val=0.2, test=0)\n",
    "        \n",
    "            \n",
    "    # change Y to categorical Matrix\n",
    "    Y_train = to_categorical(y_train, num_classes=2)\n",
    "    Y_val = to_categorical(y_val, num_classes=2)\n",
    "    \n",
    "    \n",
    "    return X_train, X_val, Y_train,Y_val"
   ]
  },
  {
   "cell_type": "code",
   "execution_count": null,
   "metadata": {
    "hidden": true
   },
   "outputs": [],
   "source": []
  },
  {
   "cell_type": "code",
   "execution_count": 15,
   "metadata": {
    "ExecuteTime": {
     "end_time": "2021-11-22T23:04:11.912894Z",
     "start_time": "2021-11-22T23:04:11.908497Z"
    },
    "hidden": true
   },
   "outputs": [],
   "source": [
    "deviations = [0.05, 0.1, 0.2, 0.5]"
   ]
  },
  {
   "cell_type": "code",
   "execution_count": 20,
   "metadata": {
    "ExecuteTime": {
     "end_time": "2021-11-22T23:11:40.548142Z",
     "start_time": "2021-11-22T23:11:40.543688Z"
    },
    "hidden": true
   },
   "outputs": [],
   "source": [
    "hidden_sizes_t4 = [100, 50]\n",
    "batch_size_t4 = 100\n",
    "MAX_EPOCHS = 20"
   ]
  },
  {
   "cell_type": "code",
   "execution_count": 28,
   "metadata": {
    "ExecuteTime": {
     "end_time": "2021-11-22T23:49:18.024183Z",
     "start_time": "2021-11-22T23:39:32.396468Z"
    },
    "hidden": true
   },
   "outputs": [
    {
     "name": "stdout",
     "output_type": "stream",
     "text": [
      "starting with 0.5 deviation, 2500 dimensions, trial number 0\n",
      "success at trial 0\n",
      "starting with 0.5 deviation, 2700 dimensions, trial number 0\n",
      "success at trial 0\n",
      "starting with 0.5 deviation, 2900 dimensions, trial number 0\n",
      "success at trial 0\n",
      "starting with 0.5 deviation, 3100 dimensions, trial number 0\n",
      "success at trial 0\n",
      "starting with 0.5 deviation, 3300 dimensions, trial number 0\n",
      "success at trial 0\n",
      "starting with 0.5 deviation, 3500 dimensions, trial number 0\n",
      "success at trial 0\n",
      "starting with 0.5 deviation, 3700 dimensions, trial number 0\n",
      "success at trial 0\n",
      "starting with 0.5 deviation, 3900 dimensions, trial number 0\n",
      "success at trial 0\n"
     ]
    }
   ],
   "source": [
    "for deviation in [0.5]:\n",
    "    mock_signal_t4 = np.array([get_random_datapoint_t4(True, deviation, 4000) for _ in range(5000)])\n",
    "    mock_bg_t4 = np.array([get_random_datapoint_t4(False, deviation, 4000) for _ in range(5000)])\n",
    "    X_train_t4, X_val_t4, Y_train_t4,Y_val_t4 = prep_data_t4(mock_signal_t4, mock_bg_t4)\n",
    "    results = []\n",
    "    final_accuracies = []\n",
    "    for dimension in range(2500, 4000, 200):\n",
    "\n",
    "        dimension_ok = False\n",
    "        for trial in range(3):\n",
    "\n",
    "            print(f'starting with {deviation} deviation, {dimension} dimensions, trial number {trial}')\n",
    "\n",
    "            Xtrain, Xval = X_train_t4[:,:dimension], X_val_t4[:,:dimension]\n",
    "            Ytrain, Yval = Y_train_t4,Y_val_t4\n",
    "\n",
    "            inputs = tf.keras.Input(shape=(dimension,))\n",
    "            \n",
    "            x = inputs\n",
    "            \n",
    "            for size in hidden_sizes_t4:\n",
    "                x = tf.keras.layers.Dense(size, activation=tf.nn.relu)(x)\n",
    "\n",
    "            outputs = tf.keras.layers.Dense(2, activation=tf.nn.softmax)(x)\n",
    "\n",
    "            model = tf.keras.Model(inputs=inputs, outputs=outputs)\n",
    "\n",
    "            model.compile(optimizer=tf.keras.optimizers.Adam(lr = 0.0005),\n",
    "                      loss=tf.losses.softmax_cross_entropy,\n",
    "                      metrics=['accuracy'])\n",
    "\n",
    "            train_acc = 0\n",
    "            val_acc = 0\n",
    "            success = 0\n",
    "            for epoch in range(MAX_EPOCHS):\n",
    "#                 print(f\" {epoch} \", end='')\n",
    "                history = model.fit(Xtrain, Ytrain,\n",
    "                      epochs=1,\n",
    "                      batch_size=batch_size_t4,\n",
    "                      validation_data=(Xval, Yval),\n",
    "                      verbose=0)\n",
    "                train_acc = model.evaluate(Xtrain, Ytrain, verbose = 0)[1]\n",
    "#                 val_acc = model.evaluate(Xval, Yval, verbose = 0)[1]\n",
    "                if (train_acc >= 0.60):\n",
    "                    success = 1\n",
    "                    break\n",
    "            if success:\n",
    "                print(f'success at trial {trial}')\n",
    "                dimension_ok = True\n",
    "                break\n",
    "        if dimension_ok == False:\n",
    "            print(f'failed at dimension {dimension}')\n",
    "            break\n",
    "    "
   ]
  },
  {
   "cell_type": "markdown",
   "metadata": {
    "hidden": true
   },
   "source": [
    "0.05: failed between 500 and 700\n",
    "0.1: failed between 1300 and 1500\n",
    "0.2: failed between 2300 and 2500.\n",
    "\n"
   ]
  },
  {
   "cell_type": "markdown",
   "metadata": {
    "heading_collapsed": true
   },
   "source": [
    "# Task 5: does network size matter"
   ]
  },
  {
   "cell_type": "code",
   "execution_count": 29,
   "metadata": {
    "ExecuteTime": {
     "end_time": "2021-11-29T10:10:53.791047Z",
     "start_time": "2021-11-29T10:10:53.714428Z"
    },
    "hidden": true
   },
   "outputs": [],
   "source": [
    "hidden_sizes_t5 = [200, 100]\n",
    "batch_size_t4 = 100\n",
    "MAX_EPOCHS = 20"
   ]
  },
  {
   "cell_type": "code",
   "execution_count": 32,
   "metadata": {
    "ExecuteTime": {
     "end_time": "2021-11-29T10:14:25.190274Z",
     "start_time": "2021-11-29T10:14:22.008235Z"
    },
    "hidden": true
   },
   "outputs": [
    {
     "name": "stdout",
     "output_type": "stream",
     "text": [
      "Training set size, distribution:\n",
      "(32000, 2000)\n",
      "(array([0., 1.]), array([16003, 15997]))\n",
      "Validations set size, distribution:\n",
      "(8000, 2000)\n",
      "(array([0., 1.]), array([3997, 4003]))\n"
     ]
    }
   ],
   "source": [
    "X_train_t5, X_val_t5, Y_train_t5,Y_val_t5 = prep_data_t3(mock_signal_t3, mock_bg_t3)"
   ]
  },
  {
   "cell_type": "code",
   "execution_count": 33,
   "metadata": {
    "ExecuteTime": {
     "end_time": "2021-11-29T21:03:53.601038Z",
     "start_time": "2021-11-29T10:14:36.853616Z"
    },
    "hidden": true
   },
   "outputs": [
    {
     "name": "stdout",
     "output_type": "stream",
     "text": [
      "starting with 500 dimensions, trial number 0\n",
      " 0  1  2  3  4  5 \n",
      "starting with 500 dimensions, trial number 1\n",
      " 0  1  2  3  4  5 \n",
      "starting with 500 dimensions, trial number 2\n",
      " 0  1  2  3  4  5  6  7  8  9 \n",
      "starting with 500 dimensions, trial number 3\n",
      " 0  1  2  3  4  5 \n",
      "starting with 500 dimensions, trial number 4\n",
      " 0  1  2  3  4  5  6 \n",
      "starting with 550 dimensions, trial number 0\n",
      " 0  1  2  3  4  5 \n",
      "starting with 550 dimensions, trial number 1\n",
      " 0  1  2  3  4  5  6 \n",
      "starting with 550 dimensions, trial number 2\n",
      " 0  1  2  3  4  5 \n",
      "starting with 550 dimensions, trial number 3\n",
      " 0  1  2  3  4  5 \n",
      "starting with 550 dimensions, trial number 4\n",
      " 0  1  2  3  4  5 \n",
      "starting with 600 dimensions, trial number 0\n",
      " 0  1  2  3  4  5  6  7 \n",
      "starting with 600 dimensions, trial number 1\n",
      " 0  1  2  3 \n",
      "starting with 600 dimensions, trial number 2\n",
      " 0  1  2  3  4  5 \n",
      "starting with 600 dimensions, trial number 3\n",
      " 0  1  2  3  4 \n",
      "starting with 600 dimensions, trial number 4\n",
      " 0  1  2  3  4  5 \n",
      "starting with 650 dimensions, trial number 0\n",
      " 0  1  2  3  4  5  6  7 \n",
      "starting with 650 dimensions, trial number 1\n",
      " 0  1  2  3  4  5  6 \n",
      "starting with 650 dimensions, trial number 2\n",
      " 0  1  2  3  4  5  6  7  8  9  10  11  12  13 \n",
      "starting with 650 dimensions, trial number 3\n",
      " 0  1  2  3  4 \n",
      "starting with 650 dimensions, trial number 4\n",
      " 0  1  2  3  4 \n",
      "starting with 700 dimensions, trial number 0\n",
      " 0  1  2  3  4  5  6  7 \n",
      "starting with 700 dimensions, trial number 1\n",
      " 0  1  2  3  4  5  6  7 \n",
      "starting with 700 dimensions, trial number 2\n",
      " 0  1  2  3  4  5  6  7  8  9 \n",
      "starting with 700 dimensions, trial number 3\n",
      " 0  1  2  3  4  5  6  7  8  9  10  11  12 \n",
      "starting with 700 dimensions, trial number 4\n",
      " 0  1  2  3  4  5  6  7 \n",
      "starting with 750 dimensions, trial number 0\n",
      " 0  1  2  3  4  5 \n",
      "starting with 750 dimensions, trial number 1\n",
      " 0  1  2  3  4  5  6  7  8  9  10 \n",
      "starting with 750 dimensions, trial number 2\n",
      " 0  1  2  3  4  5  6  7  8  9  10  11  12  13  14 \n",
      "starting with 750 dimensions, trial number 3\n",
      " 0  1  2  3  4  5  6  7  8  9  10  11  12  13  14  15  16  17  18  19 starting with 750 dimensions, trial number 4\n",
      " 0  1  2  3  4  5  6  7  8  9  10  11 \n",
      "starting with 800 dimensions, trial number 0\n",
      " 0  1  2  3  4  5  6  7  8  9  10  11 \n",
      "starting with 800 dimensions, trial number 1\n",
      " 0  1  2  3  4  5  6  7  8  9  10  11 \n",
      "starting with 800 dimensions, trial number 2\n",
      " 0  1  2  3  4  5  6  7 \n",
      "starting with 800 dimensions, trial number 3\n",
      " 0  1  2  3  4  5  6  7  8  9 \n",
      "starting with 800 dimensions, trial number 4\n",
      " 0  1  2  3  4  5  6  7  8 \n",
      "starting with 850 dimensions, trial number 0\n",
      " 0  1  2  3  4  5  6  7  8  9  10  11 \n",
      "starting with 850 dimensions, trial number 1\n",
      " 0  1  2  3  4  5  6  7  8  9  10  11  12  13 \n",
      "starting with 850 dimensions, trial number 2\n",
      " 0  1  2  3  4  5  6  7  8  9  10  11  12 \n",
      "starting with 850 dimensions, trial number 3\n",
      " 0  1  2  3  4  5  6  7  8  9  10 \n",
      "starting with 850 dimensions, trial number 4\n",
      " 0  1  2  3  4  5  6  7  8  9 \n",
      "starting with 900 dimensions, trial number 0\n",
      " 0  1  2  3  4  5  6  7  8  9  10  11 \n",
      "starting with 900 dimensions, trial number 1\n",
      " 0  1  2  3  4  5  6  7  8 \n",
      "starting with 900 dimensions, trial number 2\n",
      " 0  1  2  3  4  5  6  7  8  9  10  11  12  13  14  15  16  17  18  19 starting with 900 dimensions, trial number 3\n",
      " 0  1  2  3  4  5  6  7  8  9  10 \n",
      "starting with 900 dimensions, trial number 4\n",
      " 0  1  2  3  4  5  6  7  8  9  10  11  12  13  14  15  16  17  18  19 starting with 950 dimensions, trial number 0\n",
      " 0  1  2  3  4  5  6  7  8  9  10  11  12  13  14  15  16  17  18 \n",
      "starting with 950 dimensions, trial number 1\n",
      " 0  1  2  3  4  5  6  7  8  9  10  11  12 \n",
      "starting with 950 dimensions, trial number 2\n",
      " 0  1  2  3  4  5  6  7  8  9  10 \n",
      "starting with 950 dimensions, trial number 3\n",
      " 0  1  2  3  4  5  6  7  8  9  10  11 \n",
      "starting with 950 dimensions, trial number 4\n",
      " 0  1  2  3  4  5  6  7  8  9  10  11  12  13  14 \n",
      "starting with 1000 dimensions, trial number 0\n",
      " 0  1  2  3  4  5  6  7  8  9  10  11  12  13  14  15  16  17  18  19 starting with 1000 dimensions, trial number 1\n",
      " 0  1  2  3  4  5  6  7  8  9  10  11  12  13  14  15  16  17  18  19 starting with 1000 dimensions, trial number 2\n",
      " 0  1  2  3  4  5  6  7  8  9  10  11  12  13 \n",
      "starting with 1000 dimensions, trial number 3\n",
      " 0  1  2  3  4  5  6  7  8  9  10  11  12  13  14  15  16  17  18  19 starting with 1000 dimensions, trial number 4\n",
      " 0  1  2  3  4  5  6  7  8  9  10 \n",
      "starting with 1050 dimensions, trial number 0\n",
      " 0  1  2  3  4  5  6  7  8  9  10  11  12  13  14 \n",
      "starting with 1050 dimensions, trial number 1\n",
      " 0  1  2  3  4  5  6  7  8  9  10  11  12  13 \n",
      "starting with 1050 dimensions, trial number 2\n",
      " 0  1  2  3  4  5  6  7  8  9  10  11  12 \n",
      "starting with 1050 dimensions, trial number 3\n",
      " 0  1  2  3  4  5  6  7  8  9  10 \n",
      "starting with 1050 dimensions, trial number 4\n",
      " 0  1  2  3  4  5  6  7  8  9  10 \n",
      "starting with 1100 dimensions, trial number 0\n",
      " 0  1  2  3  4  5  6  7  8  9  10  11  12 \n",
      "starting with 1100 dimensions, trial number 1\n",
      " 0  1  2  3  4  5  6  7  8  9  10  11  12  13  14  15  16  17  18  19 starting with 1100 dimensions, trial number 2\n",
      " 0  1  2  3  4  5  6  7  8  9  10  11  12  13  14 \n",
      "starting with 1100 dimensions, trial number 3\n",
      " 0  1  2  3  4  5  6  7  8  9  10 \n",
      "starting with 1100 dimensions, trial number 4\n",
      " 0  1  2  3  4  5  6  7  8  9  10  11  12  13  14  15  16  17  18  19 starting with 1150 dimensions, trial number 0\n",
      " 0  1  2  3  4  5  6  7  8  9  10  11  12  13  14  15  16  17  18  19 \n",
      "starting with 1150 dimensions, trial number 1\n",
      " 0  1  2  3  4  5  6  7  8  9  10  11  12  13  14  15  16 \n",
      "starting with 1150 dimensions, trial number 2\n",
      " 0  1  2  3  4  5  6  7  8  9  10  11  12 \n",
      "starting with 1150 dimensions, trial number 3\n",
      " 0  1  2  3  4  5  6  7  8  9  10  11  12  13  14  15  16  17  18  19 starting with 1150 dimensions, trial number 4\n",
      " 0  1  2  3  4  5  6  7  8  9  10  11  12  13  14  15  16  17  18  19 starting with 1200 dimensions, trial number 0\n",
      " 0  1  2  3  4  5  6  7  8  9  10  11  12  13  14  15 \n",
      "starting with 1200 dimensions, trial number 1\n",
      " 0  1  2  3  4  5  6  7  8  9  10  11  12  13 \n",
      "starting with 1200 dimensions, trial number 2\n",
      " 0  1  2  3  4  5  6  7  8  9  10  11  12  13  14  15  16  17  18  19 starting with 1200 dimensions, trial number 3\n",
      " 0  1  2  3  4  5  6  7  8  9  10  11  12  13  14  15  16  17  18  19 starting with 1200 dimensions, trial number 4\n",
      " 0  1  2  3  4  5  6  7  8  9  10  11  12  13  14  15  16  17  18  19 starting with 1250 dimensions, trial number 0\n",
      " 0  1  2  3  4  5  6  7  8  9  10  11  12  13  14  15  16  17  18  19 starting with 1250 dimensions, trial number 1\n",
      " 0  1  2  3  4  5  6  7  8  9  10  11  12  13  14  15  16  17  18  19 starting with 1250 dimensions, trial number 2\n",
      " 0  1  2  3  4  5  6  7  8  9  10  11  12  13  14  15  16  17  18  19 starting with 1250 dimensions, trial number 3\n",
      " 0  1  2  3  4  5  6  7  8  9  10  11  12  13  14  15  16  17  18  19 starting with 1250 dimensions, trial number 4\n",
      " 0  1  2  3  4  5  6  7  8  9  10  11  12  13  14  15  16  17  18 \n",
      "starting with 1300 dimensions, trial number 0\n",
      " 0  1  2  3  4  5  6  7  8  9  10  11  12  13  14  15  16  17  18  19 starting with 1300 dimensions, trial number 1\n",
      " 0  1  2  3  4  5  6  7  8  9  10  11  12  13  14  15  16  17  18  19 starting with 1300 dimensions, trial number 2\n",
      " 0  1  2  3  4  5  6  7  8  9  10  11  12 \n",
      "starting with 1300 dimensions, trial number 3\n",
      " 0  1  2  3  4  5  6  7  8  9  10  11  12  13  14  15  16  17  18  19 starting with 1300 dimensions, trial number 4\n",
      " 0  1  2  3  4  5  6  7  8  9  10  11  12  13  14  15  16  17  18  19 starting with 1350 dimensions, trial number 0\n",
      " 0  1  2  3  4  5  6  7  8  9  10  11  12  13  14  15  16  17  18 \n",
      "starting with 1350 dimensions, trial number 1\n",
      " 0  1  2  3  4  5  6  7  8  9  10  11  12  13  14  15  16  17  18  19 starting with 1350 dimensions, trial number 2\n",
      " 0  1  2  3  4  5  6  7  8  9  10  11  12  13  14  15  16  17  18  19 starting with 1350 dimensions, trial number 3\n",
      " 0  1  2  3  4  5  6  7  8  9  10  11  12  13  14  15  16  17  18  19 starting with 1350 dimensions, trial number 4\n",
      " 0  1  2  3  4  5  6  7  8  9  10  11  12  13 \n",
      "starting with 1400 dimensions, trial number 0\n",
      " 0  1  2  3  4  5  6  7  8  9  10  11  12  13  14 \n",
      "starting with 1400 dimensions, trial number 1\n",
      " 0  1  2  3  4  5  6  7  8  9  10  11  12  13  14  15  16  17  18  19 starting with 1400 dimensions, trial number 2\n",
      " 0  1  2  3  4  5  6  7  8  9  10  11  12  13  14  15  16  17  18  19 starting with 1400 dimensions, trial number 3\n",
      " 0  1  2  3  4  5  6  7  8  9  10  11  12  13  14  15  16  17  18  19 starting with 1400 dimensions, trial number 4\n",
      " 0  1  2  3  4  5  6  7  8  9  10  11  12  13  14  15  16  17  18  19 starting with 1450 dimensions, trial number 0\n",
      " 0  1  2  3  4  5  6  7  8  9  10  11  12  13  14  15  16  17  18  19 starting with 1450 dimensions, trial number 1\n",
      " 0  1  2  3  4  5  6  7  8  9  10  11  12  13  14  15  16  17  18  19 starting with 1450 dimensions, trial number 2\n",
      " 0  1  2  3  4  5  6  7  8  9  10  11  12  13  14  15  16 \n",
      "starting with 1450 dimensions, trial number 3\n",
      " 0  1  2  3  4  5  6  7  8  9  10  11  12  13  14  15  16  17  18  19 starting with 1450 dimensions, trial number 4\n",
      " 0  1  2  3  4  5  6  7  8  9  10  11  12  13  14  15  16  17 \n",
      "starting with 1500 dimensions, trial number 0\n",
      " 0  1  2  3  4  5  6  7  8  9  10  11  12  13  14  15  16  17  18  19 starting with 1500 dimensions, trial number 1\n",
      " 0  1  2  3  4  5  6  7  8  9  10  11  12  13  14  15  16  17  18  19 starting with 1500 dimensions, trial number 2\n",
      " 0  1  2  3  4  5  6  7  8  9  10  11  12  13  14  15  16  17  18  19 starting with 1500 dimensions, trial number 3\n",
      " 0  1  2  3  4  5  6  7  8  9  10  11  12  13  14  15  16  17  18  19 starting with 1500 dimensions, trial number 4\n",
      " 0  1  2  3  4  5  6  7  8  9  10  11  12  13  14  15  16  17  18  19 starting with 1550 dimensions, trial number 0\n",
      " 0  1  2  3  4  5  6  7  8  9  10  11  12  13  14  15  16  17  18  19 starting with 1550 dimensions, trial number 1\n",
      " 0  1  2  3  4  5  6  7  8  9  10  11  12  13  14  15  16  17  18  19 starting with 1550 dimensions, trial number 2\n",
      " 0  1  2  3  4  5  6  7  8  9  10  11  12  13  14  15  16  17  18  19 starting with 1550 dimensions, trial number 3\n",
      " 0  1  2  3  4  5  6  7  8  9  10  11  12  13  14  15  16  17  18  19 starting with 1550 dimensions, trial number 4\n",
      " 0  1  2  3  4  5  6  7  8  9  10  11  12  13  14  15  16  17  18  19 starting with 1600 dimensions, trial number 0\n",
      " 0  1  2  3  4  5  6  7  8  9  10  11  12  13  14  15  16  17  18  19 starting with 1600 dimensions, trial number 1\n",
      " 0  1  2  3  4  5  6  7  8  9  10  11  12  13  14  15  16  17  18  19 starting with 1600 dimensions, trial number 2\n",
      " 0  1  2  3  4  5  6  7  8  9  10  11  12  13  14  15  16  17  18  19 starting with 1600 dimensions, trial number 3\n",
      " 0  1  2  3  4  5  6  7  8  9  10  11  12  13  14  15  16  17  18  19 starting with 1600 dimensions, trial number 4\n",
      " 0  1  2  3  4  5  6  7  8  9  10  11  12  13  14  15  16  17  18  19 starting with 1650 dimensions, trial number 0\n",
      " 0  1  2  3  4  5  6  7  8  9  10  11  12  13  14  15  16  17  18  19 starting with 1650 dimensions, trial number 1\n",
      " 0  1  2  3  4  5  6  7  8  9  10  11  12  13  14  15  16  17  18  19 starting with 1650 dimensions, trial number 2\n",
      " 0  1  2  3  4  5  6  7  8  9  10  11  12  13  14  15  16  17  18  19 starting with 1650 dimensions, trial number 3\n",
      " 0  1  2  3  4  5  6  7  8  9  10  11  12  13  14  15  16 \n",
      "starting with 1650 dimensions, trial number 4\n",
      " 0  1  2  3  4  5  6  7  8  9  10  11  12  13  14  15  16  17  18  19 starting with 1700 dimensions, trial number 0\n",
      " 0  1  2  3  4  5  6  7  8  9  10  11  12  13  14  15  16  17  18  19 starting with 1700 dimensions, trial number 1\n",
      " 0  1  2  3  4  5  6  7  8  9  10  11  12  13  14  15  16  17  18  19 starting with 1700 dimensions, trial number 2\n",
      " 0  1  2  3  4  5  6  7  8  9  10  11  12  13  14  15  16  17  18  19 starting with 1700 dimensions, trial number 3\n",
      " 0  1  2  3  4  5  6  7  8  9  10  11  12  13  14  15  16  17  18  19 starting with 1700 dimensions, trial number 4\n",
      " 0  1  2  3  4  5  6  7  8  9  10  11  12  13  14  15  16  17  18  19 starting with 1750 dimensions, trial number 0\n",
      " 0  1  2  3  4  5  6  7  8  9  10  11  12  13  14  15  16  17  18  19 starting with 1750 dimensions, trial number 1\n",
      " 0  1  2  3  4  5  6  7  8  9  10  11  12  13  14  15  16  17  18  19 starting with 1750 dimensions, trial number 2\n",
      " 0  1  2  3  4  5  6  7  8  9  10  11  12  13  14  15  16  17  18  19 starting with 1750 dimensions, trial number 3\n",
      " 0  1  2  3  4  5  6  7  8  9  10  11  12  13  14  15  16  17  18  19 starting with 1750 dimensions, trial number 4\n",
      " 0  1  2  3  4  5  6  7  8  9  10  11  12  13  14  15  16  17  18  19 starting with 1800 dimensions, trial number 0\n",
      " 0  1  2  3  4  5  6  7  8  9  10  11  12  13  14  15  16  17  18  19 starting with 1800 dimensions, trial number 1\n",
      " 0  1  2  3  4  5  6  7  8  9  10  11  12  13  14  15  16  17  18  19 starting with 1800 dimensions, trial number 2\n",
      " 0  1  2  3  4  5  6  7  8  9  10  11  12  13  14  15  16  17  18  19 starting with 1800 dimensions, trial number 3\n",
      " 0  1  2  3  4  5  6  7  8  9  10  11  12  13  14  15  16  17  18  19 starting with 1800 dimensions, trial number 4\n",
      " 0  1  2  3  4  5  6  7  8  9  10  11  12  13  14  15  16  17  18  19 starting with 1850 dimensions, trial number 0\n",
      " 0  1  2  3  4  5  6  7  8  9  10  11  12  13  14  15  16  17  18  19 starting with 1850 dimensions, trial number 1\n",
      " 0  1  2  3  4  5  6  7  8  9  10  11  12  13  14  15  16  17  18  19 starting with 1850 dimensions, trial number 2\n",
      " 0  1  2  3  4  5  6  7  8  9  10  11  12  13  14  15  16  17  18  19 starting with 1850 dimensions, trial number 3\n",
      " 0  1  2  3  4  5  6  7  8  9  10  11  12  13  14  15  16  17  18  19 starting with 1850 dimensions, trial number 4\n",
      " 0  1  2  3  4  5  6  7  8  9  10  11  12  13  14  15  16  17  18  19 starting with 1900 dimensions, trial number 0\n",
      " 0  1  2  3  4  5  6  7  8  9  10  11  12  13  14  15  16  17  18  19 starting with 1900 dimensions, trial number 1\n",
      " 0  1  2  3  4  5  6  7  8  9  10  11  12  13  14  15  16  17  18  19 starting with 1900 dimensions, trial number 2\n",
      " 0  1  2  3  4  5  6  7  8  9  10  11  12  13  14  15  16  17  18  19 starting with 1900 dimensions, trial number 3\n",
      " 0  1  2  3  4  5  6  7  8  9  10  11  12  13  14  15  16  17  18  19 starting with 1900 dimensions, trial number 4\n",
      " 0  1  2  3  4  5  6  7  8  9  10  11  12  13  14  15  16  17  18  19 starting with 1950 dimensions, trial number 0\n",
      " 0  1  2  3  4  5  6  7  8  9  10  11  12  13  14  15  16  17  18  19 starting with 1950 dimensions, trial number 1\n",
      " 0  1  2  3  4  5  6  7  8  9  10  11  12  13  14  15  16  17  18  19 starting with 1950 dimensions, trial number 2\n",
      " 0  1  2  3  4  5  6  7  8  9  10  11  12  13  14  15  16  17  18  19 starting with 1950 dimensions, trial number 3\n",
      " 0  1  2  3  4  5  6  7  8  9  10  11  12  13  14  15  16  17  18  19 starting with 1950 dimensions, trial number 4\n",
      " 0  1  2  3  4  5  6  7  8  9  10  11  12  13  14  15  16  17  18  19 starting with 2000 dimensions, trial number 0\n",
      " 0  1  2  3  4  5  6  7  8  9  10  11  12  13  14  15  16  17  18  19 starting with 2000 dimensions, trial number 1\n",
      " 0  1  2  3  4  5  6  7  8  9  10  11  12  13  14  15  16  17  18  19 starting with 2000 dimensions, trial number 2\n",
      " 0  1  2  3  4  5  6  7  8  9  10  11  12  13  14  15  16  17  18  19 starting with 2000 dimensions, trial number 3\n",
      " 0  1  2  3  4  5  6  7  8  9  10  11  12  13  14  15  16  17  18  19 starting with 2000 dimensions, trial number 4\n",
      " 0  1  2  3  4  5  6  7  8  9  10  11  12  13  14  15  16  17  18  19 starting with 2050 dimensions, trial number 0\n",
      " 0 "
     ]
    },
    {
     "ename": "ValueError",
     "evalue": "Error when checking input: expected input_427 to have shape (2050,) but got array with shape (2000,)",
     "output_type": "error",
     "traceback": [
      "\u001b[0;31m---------------------------------------------------------------------------\u001b[0m",
      "\u001b[0;31mValueError\u001b[0m                                Traceback (most recent call last)",
      "\u001b[0;32m<ipython-input-33-4862ba8b1679>\u001b[0m in \u001b[0;36m<module>\u001b[0;34m\u001b[0m\n\u001b[1;32m     31\u001b[0m                   \u001b[0mbatch_size\u001b[0m\u001b[0;34m=\u001b[0m\u001b[0mbatch_size_t3\u001b[0m\u001b[0;34m,\u001b[0m\u001b[0;34m\u001b[0m\u001b[0m\n\u001b[1;32m     32\u001b[0m                   \u001b[0mvalidation_data\u001b[0m\u001b[0;34m=\u001b[0m\u001b[0;34m(\u001b[0m\u001b[0mXval\u001b[0m\u001b[0;34m,\u001b[0m \u001b[0mYval\u001b[0m\u001b[0;34m)\u001b[0m\u001b[0;34m,\u001b[0m\u001b[0;34m\u001b[0m\u001b[0m\n\u001b[0;32m---> 33\u001b[0;31m                   verbose=0)\n\u001b[0m\u001b[1;32m     34\u001b[0m             \u001b[0mtrain_acc\u001b[0m \u001b[0;34m=\u001b[0m \u001b[0mmodel\u001b[0m\u001b[0;34m.\u001b[0m\u001b[0mevaluate\u001b[0m\u001b[0;34m(\u001b[0m\u001b[0mXtrain\u001b[0m\u001b[0;34m,\u001b[0m \u001b[0mYtrain\u001b[0m\u001b[0;34m,\u001b[0m \u001b[0mverbose\u001b[0m \u001b[0;34m=\u001b[0m \u001b[0;36m0\u001b[0m\u001b[0;34m)\u001b[0m\u001b[0;34m[\u001b[0m\u001b[0;36m1\u001b[0m\u001b[0;34m]\u001b[0m\u001b[0;34m\u001b[0m\u001b[0m\n\u001b[1;32m     35\u001b[0m             \u001b[0mval_acc\u001b[0m \u001b[0;34m=\u001b[0m \u001b[0mmodel\u001b[0m\u001b[0;34m.\u001b[0m\u001b[0mevaluate\u001b[0m\u001b[0;34m(\u001b[0m\u001b[0mXval\u001b[0m\u001b[0;34m,\u001b[0m \u001b[0mYval\u001b[0m\u001b[0;34m,\u001b[0m \u001b[0mverbose\u001b[0m \u001b[0;34m=\u001b[0m \u001b[0;36m0\u001b[0m\u001b[0;34m)\u001b[0m\u001b[0;34m[\u001b[0m\u001b[0;36m1\u001b[0m\u001b[0;34m]\u001b[0m\u001b[0;34m\u001b[0m\u001b[0m\n",
      "\u001b[0;32m/opt/anaconda3/envs/shared_env/lib/python3.6/site-packages/tensorflow/python/keras/engine/training.py\u001b[0m in \u001b[0;36mfit\u001b[0;34m(self, x, y, batch_size, epochs, verbose, callbacks, validation_split, validation_data, shuffle, class_weight, sample_weight, initial_epoch, steps_per_epoch, validation_steps, max_queue_size, workers, use_multiprocessing, **kwargs)\u001b[0m\n\u001b[1;32m   1534\u001b[0m         \u001b[0msteps_name\u001b[0m\u001b[0;34m=\u001b[0m\u001b[0;34m'steps_per_epoch'\u001b[0m\u001b[0;34m,\u001b[0m\u001b[0;34m\u001b[0m\u001b[0m\n\u001b[1;32m   1535\u001b[0m         \u001b[0msteps\u001b[0m\u001b[0;34m=\u001b[0m\u001b[0msteps_per_epoch\u001b[0m\u001b[0;34m,\u001b[0m\u001b[0;34m\u001b[0m\u001b[0m\n\u001b[0;32m-> 1536\u001b[0;31m         validation_split=validation_split)\n\u001b[0m\u001b[1;32m   1537\u001b[0m \u001b[0;34m\u001b[0m\u001b[0m\n\u001b[1;32m   1538\u001b[0m     \u001b[0;31m# Prepare validation data.\u001b[0m\u001b[0;34m\u001b[0m\u001b[0;34m\u001b[0m\u001b[0m\n",
      "\u001b[0;32m/opt/anaconda3/envs/shared_env/lib/python3.6/site-packages/tensorflow/python/keras/engine/training.py\u001b[0m in \u001b[0;36m_standardize_user_data\u001b[0;34m(self, x, y, sample_weight, class_weight, batch_size, check_steps, steps_name, steps, validation_split)\u001b[0m\n\u001b[1;32m    990\u001b[0m         \u001b[0mx\u001b[0m\u001b[0;34m,\u001b[0m \u001b[0my\u001b[0m\u001b[0;34m,\u001b[0m \u001b[0msample_weight\u001b[0m \u001b[0;34m=\u001b[0m \u001b[0mnext_element\u001b[0m\u001b[0;34m\u001b[0m\u001b[0m\n\u001b[1;32m    991\u001b[0m     x, y, sample_weights = self._standardize_weights(x, y, sample_weight,\n\u001b[0;32m--> 992\u001b[0;31m                                                      class_weight, batch_size)\n\u001b[0m\u001b[1;32m    993\u001b[0m     \u001b[0;32mreturn\u001b[0m \u001b[0mx\u001b[0m\u001b[0;34m,\u001b[0m \u001b[0my\u001b[0m\u001b[0;34m,\u001b[0m \u001b[0msample_weights\u001b[0m\u001b[0;34m\u001b[0m\u001b[0m\n\u001b[1;32m    994\u001b[0m \u001b[0;34m\u001b[0m\u001b[0m\n",
      "\u001b[0;32m/opt/anaconda3/envs/shared_env/lib/python3.6/site-packages/tensorflow/python/keras/engine/training.py\u001b[0m in \u001b[0;36m_standardize_weights\u001b[0;34m(self, x, y, sample_weight, class_weight, batch_size)\u001b[0m\n\u001b[1;32m   1115\u001b[0m         \u001b[0mfeed_input_shapes\u001b[0m\u001b[0;34m,\u001b[0m\u001b[0;34m\u001b[0m\u001b[0m\n\u001b[1;32m   1116\u001b[0m         \u001b[0mcheck_batch_axis\u001b[0m\u001b[0;34m=\u001b[0m\u001b[0;32mFalse\u001b[0m\u001b[0;34m,\u001b[0m  \u001b[0;31m# Don't enforce the batch size.\u001b[0m\u001b[0;34m\u001b[0m\u001b[0m\n\u001b[0;32m-> 1117\u001b[0;31m         exception_prefix='input')\n\u001b[0m\u001b[1;32m   1118\u001b[0m \u001b[0;34m\u001b[0m\u001b[0m\n\u001b[1;32m   1119\u001b[0m     \u001b[0;32mif\u001b[0m \u001b[0my\u001b[0m \u001b[0;32mis\u001b[0m \u001b[0;32mnot\u001b[0m \u001b[0;32mNone\u001b[0m\u001b[0;34m:\u001b[0m\u001b[0;34m\u001b[0m\u001b[0m\n",
      "\u001b[0;32m/opt/anaconda3/envs/shared_env/lib/python3.6/site-packages/tensorflow/python/keras/engine/training_utils.py\u001b[0m in \u001b[0;36mstandardize_input_data\u001b[0;34m(data, names, shapes, check_batch_axis, exception_prefix)\u001b[0m\n\u001b[1;32m    330\u001b[0m                 \u001b[0;34m'Error when checking '\u001b[0m \u001b[0;34m+\u001b[0m \u001b[0mexception_prefix\u001b[0m \u001b[0;34m+\u001b[0m \u001b[0;34m': expected '\u001b[0m \u001b[0;34m+\u001b[0m\u001b[0;34m\u001b[0m\u001b[0m\n\u001b[1;32m    331\u001b[0m                 \u001b[0mnames\u001b[0m\u001b[0;34m[\u001b[0m\u001b[0mi\u001b[0m\u001b[0;34m]\u001b[0m \u001b[0;34m+\u001b[0m \u001b[0;34m' to have shape '\u001b[0m \u001b[0;34m+\u001b[0m \u001b[0mstr\u001b[0m\u001b[0;34m(\u001b[0m\u001b[0mshape\u001b[0m\u001b[0;34m)\u001b[0m \u001b[0;34m+\u001b[0m\u001b[0;34m\u001b[0m\u001b[0m\n\u001b[0;32m--> 332\u001b[0;31m                 ' but got array with shape ' + str(data_shape))\n\u001b[0m\u001b[1;32m    333\u001b[0m   \u001b[0;32mreturn\u001b[0m \u001b[0mdata\u001b[0m\u001b[0;34m\u001b[0m\u001b[0m\n\u001b[1;32m    334\u001b[0m \u001b[0;34m\u001b[0m\u001b[0m\n",
      "\u001b[0;31mValueError\u001b[0m: Error when checking input: expected input_427 to have shape (2050,) but got array with shape (2000,)"
     ]
    }
   ],
   "source": [
    "results5 = []\n",
    "for dimension in range(500, 2500, 50):\n",
    "    \n",
    "    for trial in range(5):\n",
    "        \n",
    "        print(f'starting with {dimension} dimensions, trial number {trial}')\n",
    "\n",
    "        Xtrain, Xval = X_train_t3[:,:dimension], X_val_t3[:,:dimension]\n",
    "        Ytrain, Yval = Y_train_t3,Y_val_t3\n",
    "\n",
    "        inputs = tf.keras.Input(shape=(dimension,))\n",
    "        x = inputs\n",
    "        for size in hidden_sizes_t3:\n",
    "            x = tf.keras.layers.Dense(size, activation=tf.nn.relu)(x)\n",
    "\n",
    "        outputs = tf.keras.layers.Dense(2, activation=tf.nn.softmax)(x)\n",
    "\n",
    "        model = tf.keras.Model(inputs=inputs, outputs=outputs)\n",
    "\n",
    "        model.compile(optimizer=tf.keras.optimizers.Adam(lr = 0.0005),\n",
    "                  loss=tf.losses.softmax_cross_entropy,\n",
    "                  metrics=['accuracy'])\n",
    "\n",
    "        train_acc = 0\n",
    "        val_acc = 0\n",
    "        success = 0\n",
    "        for epoch in range(MAX_EPOCHS):\n",
    "            print(f\" {epoch} \", end='')\n",
    "            history = model.fit(Xtrain, Ytrain,\n",
    "                  epochs=1,\n",
    "                  batch_size=batch_size_t3,\n",
    "                  validation_data=(Xval, Yval),\n",
    "                  verbose=0)\n",
    "            train_acc = model.evaluate(Xtrain, Ytrain, verbose = 0)[1]\n",
    "            val_acc = model.evaluate(Xval, Yval, verbose = 0)[1]\n",
    "            if (train_acc >= 0.80 and val_acc >= 0.80):\n",
    "                success = 1\n",
    "                print('')\n",
    "                results5.append([dimension,epoch])\n",
    "                break\n",
    "        if success:\n",
    "            pass\n",
    "        else:\n",
    "            results5.append([dimension,-1])"
   ]
  },
  {
   "cell_type": "code",
   "execution_count": 34,
   "metadata": {
    "ExecuteTime": {
     "end_time": "2021-11-29T22:05:44.275590Z",
     "start_time": "2021-11-29T22:05:44.258732Z"
    },
    "hidden": true
   },
   "outputs": [
    {
     "data": {
      "text/plain": [
       "[[500, 5],\n",
       " [500, 5],\n",
       " [500, 9],\n",
       " [500, 5],\n",
       " [500, 6],\n",
       " [550, 5],\n",
       " [550, 6],\n",
       " [550, 5],\n",
       " [550, 5],\n",
       " [550, 5],\n",
       " [600, 7],\n",
       " [600, 3],\n",
       " [600, 5],\n",
       " [600, 4],\n",
       " [600, 5],\n",
       " [650, 7],\n",
       " [650, 6],\n",
       " [650, 13],\n",
       " [650, 4],\n",
       " [650, 4],\n",
       " [700, 7],\n",
       " [700, 7],\n",
       " [700, 9],\n",
       " [700, 12],\n",
       " [700, 7],\n",
       " [750, 5],\n",
       " [750, 10],\n",
       " [750, 14],\n",
       " [750, -1],\n",
       " [750, 11],\n",
       " [800, 11],\n",
       " [800, 11],\n",
       " [800, 7],\n",
       " [800, 9],\n",
       " [800, 8],\n",
       " [850, 11],\n",
       " [850, 13],\n",
       " [850, 12],\n",
       " [850, 10],\n",
       " [850, 9],\n",
       " [900, 11],\n",
       " [900, 8],\n",
       " [900, -1],\n",
       " [900, 10],\n",
       " [900, -1],\n",
       " [950, 18],\n",
       " [950, 12],\n",
       " [950, 10],\n",
       " [950, 11],\n",
       " [950, 14],\n",
       " [1000, -1],\n",
       " [1000, -1],\n",
       " [1000, 13],\n",
       " [1000, -1],\n",
       " [1000, 10],\n",
       " [1050, 14],\n",
       " [1050, 13],\n",
       " [1050, 12],\n",
       " [1050, 10],\n",
       " [1050, 10],\n",
       " [1100, 12],\n",
       " [1100, -1],\n",
       " [1100, 14],\n",
       " [1100, 10],\n",
       " [1100, -1],\n",
       " [1150, 19],\n",
       " [1150, 16],\n",
       " [1150, 12],\n",
       " [1150, -1],\n",
       " [1150, -1],\n",
       " [1200, 15],\n",
       " [1200, 13],\n",
       " [1200, -1],\n",
       " [1200, -1],\n",
       " [1200, -1],\n",
       " [1250, -1],\n",
       " [1250, -1],\n",
       " [1250, -1],\n",
       " [1250, -1],\n",
       " [1250, 18],\n",
       " [1300, -1],\n",
       " [1300, -1],\n",
       " [1300, 12],\n",
       " [1300, -1],\n",
       " [1300, -1],\n",
       " [1350, 18],\n",
       " [1350, -1],\n",
       " [1350, -1],\n",
       " [1350, -1],\n",
       " [1350, 13],\n",
       " [1400, 14],\n",
       " [1400, -1],\n",
       " [1400, -1],\n",
       " [1400, -1],\n",
       " [1400, -1],\n",
       " [1450, -1],\n",
       " [1450, -1],\n",
       " [1450, 16],\n",
       " [1450, -1],\n",
       " [1450, 17],\n",
       " [1500, -1],\n",
       " [1500, -1],\n",
       " [1500, -1],\n",
       " [1500, -1],\n",
       " [1500, -1],\n",
       " [1550, -1],\n",
       " [1550, -1],\n",
       " [1550, -1],\n",
       " [1550, -1],\n",
       " [1550, -1],\n",
       " [1600, -1],\n",
       " [1600, -1],\n",
       " [1600, -1],\n",
       " [1600, -1],\n",
       " [1600, -1],\n",
       " [1650, -1],\n",
       " [1650, -1],\n",
       " [1650, -1],\n",
       " [1650, 16],\n",
       " [1650, -1],\n",
       " [1700, -1],\n",
       " [1700, -1],\n",
       " [1700, -1],\n",
       " [1700, -1],\n",
       " [1700, -1],\n",
       " [1750, -1],\n",
       " [1750, -1],\n",
       " [1750, -1],\n",
       " [1750, -1],\n",
       " [1750, -1],\n",
       " [1800, -1],\n",
       " [1800, -1],\n",
       " [1800, -1],\n",
       " [1800, -1],\n",
       " [1800, -1],\n",
       " [1850, -1],\n",
       " [1850, -1],\n",
       " [1850, -1],\n",
       " [1850, -1],\n",
       " [1850, -1],\n",
       " [1900, -1],\n",
       " [1900, -1],\n",
       " [1900, -1],\n",
       " [1900, -1],\n",
       " [1900, -1],\n",
       " [1950, -1],\n",
       " [1950, -1],\n",
       " [1950, -1],\n",
       " [1950, -1],\n",
       " [1950, -1],\n",
       " [2000, -1],\n",
       " [2000, -1],\n",
       " [2000, -1],\n",
       " [2000, -1],\n",
       " [2000, -1]]"
      ]
     },
     "execution_count": 34,
     "metadata": {},
     "output_type": "execute_result"
    }
   ],
   "source": [
    "results5"
   ]
  },
  {
   "cell_type": "code",
   "execution_count": 38,
   "metadata": {
    "ExecuteTime": {
     "end_time": "2021-12-05T09:52:06.498234Z",
     "start_time": "2021-12-05T09:52:06.275391Z"
    },
    "hidden": true
   },
   "outputs": [
    {
     "data": {
      "image/png": "[encoded data removed]",
      "text/plain": [
       "<Figure size 720x576 with 1 Axes>"
      ]
     },
     "metadata": {
      "needs_background": "light"
     },
     "output_type": "display_data"
    }
   ],
   "source": [
    "fig, ax = plt.subplots(figsize = (10,8))\n",
    "\n",
    "ax.scatter(*zip(*(results5)), color = 'blue', label = 'successful training', alpha = 0.3)\n",
    "\n",
    "ax.legend(loc='upper left')\n",
    "ax.set_title('Epochs until convergence  - bigger network')\n",
    "ax.set_xlabel('columns')\n",
    "ax.set_ylabel('epochs to converge')\n",
    "ax.set_xlim((-20,1620))\n",
    "ax.grid(axis=\"x\", which = 'both')\n",
    "plt.show()"
   ]
  },
  {
   "cell_type": "code",
   "execution_count": null,
   "metadata": {
    "hidden": true
   },
   "outputs": [],
   "source": []
  },
  {
   "cell_type": "markdown",
   "metadata": {
    "heading_collapsed": true
   },
   "source": [
    "# Task 6"
   ]
  },
  {
   "cell_type": "code",
   "execution_count": 2,
   "metadata": {
    "ExecuteTime": {
     "end_time": "2021-12-13T20:58:38.208826Z",
     "start_time": "2021-12-13T20:58:38.202609Z"
    },
    "hidden": true
   },
   "outputs": [],
   "source": [
    "# copied from t3\n",
    "def get_random_datapoint_t6(sig, size = 2000):\n",
    "    pts = np.random.normal(0.5, 0.05, size)\n",
    "    if sig:\n",
    "        pts[0] = np.random.normal(0.6, 0.05, 1)\n",
    "    return pts"
   ]
  },
  {
   "cell_type": "code",
   "execution_count": 3,
   "metadata": {
    "ExecuteTime": {
     "end_time": "2021-12-13T20:59:43.847755Z",
     "start_time": "2021-12-13T20:59:26.573854Z"
    },
    "hidden": true
   },
   "outputs": [],
   "source": [
    "# 5x from before\n",
    "mock_signal_t6 = np.array([get_random_datapoint_t6(True) for _ in range(100000)])\n",
    "mock_bg_t6 = np.array([get_random_datapoint_t6(False) for _ in range(100000)])\n",
    "\n",
    "mock_signal_t6.shape"
   ]
  },
  {
   "cell_type": "code",
   "execution_count": 6,
   "metadata": {
    "ExecuteTime": {
     "end_time": "2021-12-13T21:00:11.636997Z",
     "start_time": "2021-12-13T21:00:11.623814Z"
    },
    "hidden": true
   },
   "outputs": [],
   "source": [
    "def prep_data_t6(sig, bg):\n",
    "    \n",
    "    this_y_bg = np.zeros(len(bg))\n",
    "    \n",
    "    this_y_sig = np.ones(len(sig))\n",
    "    \n",
    "    \"\"\"\n",
    "    Shuffle + Train-Val-Test Split \n",
    "    \"\"\"\n",
    "    # Combine both data sets\n",
    "    this_X = np.concatenate([bg, sig])\n",
    "    this_y = np.concatenate([this_y_bg, this_y_sig])\n",
    "    \n",
    "    # Shuffle before we split\n",
    "    this_X, this_y = shuffle(this_X, this_y)\n",
    "    \n",
    "    \n",
    "    (X_train, X_val, _,\n",
    "     y_train, y_val, _) = data_split(this_X, this_y, val=0.2, test=0)\n",
    "        \n",
    "            \n",
    "    # change Y to categorical Matrix\n",
    "    Y_train = to_categorical(y_train, num_classes=2)\n",
    "    Y_val = to_categorical(y_val, num_classes=2)\n",
    "    \n",
    "    print('Training set size, distribution:')\n",
    "    print(X_train.shape)\n",
    "    print(np.unique(y_train,return_counts = True))\n",
    "    print('Validations set size, distribution:')\n",
    "    print(X_val.shape)\n",
    "    print(np.unique(y_val,return_counts = True))\n",
    "    \n",
    "    return X_train, X_val, Y_train,Y_val\n",
    "\n",
    "X_train_t6, X_val_t6, Y_train_t6,Y_val_t6 = prep_data_t6(mock_signal_t6, mock_bg_t6)"
   ]
  },
  {
   "cell_type": "code",
   "execution_count": 15,
   "metadata": {
    "ExecuteTime": {
     "end_time": "2021-12-13T21:23:23.842722Z",
     "start_time": "2021-12-13T21:23:23.838249Z"
    },
    "hidden": true
   },
   "outputs": [],
   "source": [
    "hidden_sizes_t6 = [100, 50]\n",
    "batch_size_t6 = 100\n",
    "MAX_EPOCHS = 10"
   ]
  },
  {
   "cell_type": "code",
   "execution_count": 20,
   "metadata": {
    "ExecuteTime": {
     "end_time": "2021-12-13T22:47:38.582749Z",
     "start_time": "2021-12-13T21:24:57.917172Z"
    },
    "hidden": true
   },
   "outputs": [
    {
     "name": "stdout",
     "output_type": "stream",
     "text": [
      "starting with 1000 dimensions, trial number 0\n"
     ]
    },
    {
     "name": "stderr",
     "output_type": "stream",
     "text": [
      " 10%|█         | 1/10 [00:36<05:26, 36.28s/it]\n"
     ]
    },
    {
     "name": "stdout",
     "output_type": "stream",
     "text": [
      "done\n",
      "starting with 1000 dimensions, trial number 1\n"
     ]
    },
    {
     "name": "stderr",
     "output_type": "stream",
     "text": [
      "100%|██████████| 10/10 [03:00<00:00, 18.07s/it]\n"
     ]
    },
    {
     "name": "stdout",
     "output_type": "stream",
     "text": [
      "failed\n",
      "starting with 1000 dimensions, trial number 2\n"
     ]
    },
    {
     "name": "stderr",
     "output_type": "stream",
     "text": [
      " 10%|█         | 1/10 [00:36<05:32, 36.98s/it]\n"
     ]
    },
    {
     "name": "stdout",
     "output_type": "stream",
     "text": [
      "done\n",
      "starting with 1100 dimensions, trial number 0\n"
     ]
    },
    {
     "name": "stderr",
     "output_type": "stream",
     "text": [
      "100%|██████████| 10/10 [03:04<00:00, 18.42s/it]\n"
     ]
    },
    {
     "name": "stdout",
     "output_type": "stream",
     "text": [
      "failed\n",
      "starting with 1100 dimensions, trial number 1\n"
     ]
    },
    {
     "name": "stderr",
     "output_type": "stream",
     "text": [
      "100%|██████████| 10/10 [03:06<00:00, 18.62s/it]\n"
     ]
    },
    {
     "name": "stdout",
     "output_type": "stream",
     "text": [
      "failed\n",
      "starting with 1100 dimensions, trial number 2\n"
     ]
    },
    {
     "name": "stderr",
     "output_type": "stream",
     "text": [
      " 20%|██        | 2/10 [00:57<03:48, 28.51s/it]\n"
     ]
    },
    {
     "name": "stdout",
     "output_type": "stream",
     "text": [
      "done\n",
      "starting with 1200 dimensions, trial number 0\n"
     ]
    },
    {
     "name": "stderr",
     "output_type": "stream",
     "text": [
      " 10%|█         | 1/10 [00:38<05:49, 38.86s/it]\n"
     ]
    },
    {
     "name": "stdout",
     "output_type": "stream",
     "text": [
      "done\n",
      "starting with 1200 dimensions, trial number 1\n"
     ]
    },
    {
     "name": "stderr",
     "output_type": "stream",
     "text": [
      " 20%|██        | 2/10 [00:57<03:50, 28.84s/it]\n"
     ]
    },
    {
     "name": "stdout",
     "output_type": "stream",
     "text": [
      "done\n",
      "starting with 1200 dimensions, trial number 2\n"
     ]
    },
    {
     "name": "stderr",
     "output_type": "stream",
     "text": [
      "100%|██████████| 10/10 [03:13<00:00, 19.37s/it]\n"
     ]
    },
    {
     "name": "stdout",
     "output_type": "stream",
     "text": [
      "failed\n",
      "starting with 1300 dimensions, trial number 0\n"
     ]
    },
    {
     "name": "stderr",
     "output_type": "stream",
     "text": [
      "100%|██████████| 10/10 [03:14<00:00, 19.49s/it]\n"
     ]
    },
    {
     "name": "stdout",
     "output_type": "stream",
     "text": [
      "failed\n",
      "starting with 1300 dimensions, trial number 1\n"
     ]
    },
    {
     "name": "stderr",
     "output_type": "stream",
     "text": [
      " 10%|█         | 1/10 [00:39<05:58, 39.87s/it]"
     ]
    },
    {
     "name": "stdout",
     "output_type": "stream",
     "text": [
      "done\n",
      "starting with 1300 dimensions, trial number 2\n"
     ]
    },
    {
     "name": "stderr",
     "output_type": "stream",
     "text": [
      "\n",
      "100%|██████████| 10/10 [03:17<00:00, 19.74s/it]\n"
     ]
    },
    {
     "name": "stdout",
     "output_type": "stream",
     "text": [
      "failed\n",
      "starting with 1400 dimensions, trial number 0\n"
     ]
    },
    {
     "name": "stderr",
     "output_type": "stream",
     "text": [
      "100%|██████████| 10/10 [03:18<00:00, 19.81s/it]\n"
     ]
    },
    {
     "name": "stdout",
     "output_type": "stream",
     "text": [
      "failed\n",
      "starting with 1400 dimensions, trial number 1\n"
     ]
    },
    {
     "name": "stderr",
     "output_type": "stream",
     "text": [
      "100%|██████████| 10/10 [03:21<00:00, 20.19s/it]\n"
     ]
    },
    {
     "name": "stdout",
     "output_type": "stream",
     "text": [
      "failed\n",
      "starting with 1400 dimensions, trial number 2\n"
     ]
    },
    {
     "name": "stderr",
     "output_type": "stream",
     "text": [
      " 10%|█         | 1/10 [00:41<06:12, 41.39s/it]\n"
     ]
    },
    {
     "name": "stdout",
     "output_type": "stream",
     "text": [
      "done\n",
      "starting with 1500 dimensions, trial number 0\n"
     ]
    },
    {
     "name": "stderr",
     "output_type": "stream",
     "text": [
      "100%|██████████| 10/10 [03:26<00:00, 20.64s/it]\n"
     ]
    },
    {
     "name": "stdout",
     "output_type": "stream",
     "text": [
      "failed\n",
      "starting with 1500 dimensions, trial number 1\n"
     ]
    },
    {
     "name": "stderr",
     "output_type": "stream",
     "text": [
      "100%|██████████| 10/10 [03:26<00:00, 20.61s/it]\n"
     ]
    },
    {
     "name": "stdout",
     "output_type": "stream",
     "text": [
      "failed\n",
      "starting with 1500 dimensions, trial number 2\n"
     ]
    },
    {
     "name": "stderr",
     "output_type": "stream",
     "text": [
      "100%|██████████| 10/10 [03:24<00:00, 20.46s/it]\n"
     ]
    },
    {
     "name": "stdout",
     "output_type": "stream",
     "text": [
      "failed\n",
      "starting with 1600 dimensions, trial number 0\n"
     ]
    },
    {
     "name": "stderr",
     "output_type": "stream",
     "text": [
      "100%|██████████| 10/10 [03:31<00:00, 21.14s/it]\n"
     ]
    },
    {
     "name": "stdout",
     "output_type": "stream",
     "text": [
      "failed\n",
      "starting with 1600 dimensions, trial number 1\n"
     ]
    },
    {
     "name": "stderr",
     "output_type": "stream",
     "text": [
      " 30%|███       | 3/10 [01:26<03:20, 28.70s/it]\n"
     ]
    },
    {
     "name": "stdout",
     "output_type": "stream",
     "text": [
      "done\n",
      "starting with 1600 dimensions, trial number 2\n"
     ]
    },
    {
     "name": "stderr",
     "output_type": "stream",
     "text": [
      "100%|██████████| 10/10 [03:32<00:00, 21.22s/it]\n"
     ]
    },
    {
     "name": "stdout",
     "output_type": "stream",
     "text": [
      "failed\n",
      "starting with 1700 dimensions, trial number 0\n"
     ]
    },
    {
     "name": "stderr",
     "output_type": "stream",
     "text": [
      "100%|██████████| 10/10 [03:35<00:00, 21.50s/it]\n"
     ]
    },
    {
     "name": "stdout",
     "output_type": "stream",
     "text": [
      "failed\n",
      "starting with 1700 dimensions, trial number 1\n"
     ]
    },
    {
     "name": "stderr",
     "output_type": "stream",
     "text": [
      "100%|██████████| 10/10 [03:36<00:00, 21.62s/it]\n"
     ]
    },
    {
     "name": "stdout",
     "output_type": "stream",
     "text": [
      "failed\n",
      "starting with 1700 dimensions, trial number 2\n"
     ]
    },
    {
     "name": "stderr",
     "output_type": "stream",
     "text": [
      "100%|██████████| 10/10 [03:36<00:00, 21.67s/it]\n"
     ]
    },
    {
     "name": "stdout",
     "output_type": "stream",
     "text": [
      "failed\n",
      "starting with 1800 dimensions, trial number 0\n"
     ]
    },
    {
     "name": "stderr",
     "output_type": "stream",
     "text": [
      "100%|██████████| 10/10 [03:40<00:00, 22.08s/it]\n"
     ]
    },
    {
     "name": "stdout",
     "output_type": "stream",
     "text": [
      "failed\n",
      "starting with 1800 dimensions, trial number 1\n"
     ]
    },
    {
     "name": "stderr",
     "output_type": "stream",
     "text": [
      "100%|██████████| 10/10 [03:41<00:00, 22.10s/it]\n"
     ]
    },
    {
     "name": "stdout",
     "output_type": "stream",
     "text": [
      "failed\n",
      "starting with 1800 dimensions, trial number 2\n"
     ]
    },
    {
     "name": "stderr",
     "output_type": "stream",
     "text": [
      "100%|██████████| 10/10 [03:40<00:00, 22.07s/it]\n"
     ]
    },
    {
     "name": "stdout",
     "output_type": "stream",
     "text": [
      "failed\n",
      "starting with 1900 dimensions, trial number 0\n"
     ]
    },
    {
     "name": "stderr",
     "output_type": "stream",
     "text": [
      "100%|██████████| 10/10 [03:43<00:00, 22.39s/it]\n"
     ]
    },
    {
     "name": "stdout",
     "output_type": "stream",
     "text": [
      "failed\n",
      "starting with 1900 dimensions, trial number 1\n"
     ]
    },
    {
     "name": "stderr",
     "output_type": "stream",
     "text": [
      "100%|██████████| 10/10 [03:43<00:00, 22.37s/it]\n"
     ]
    },
    {
     "name": "stdout",
     "output_type": "stream",
     "text": [
      "failed\n",
      "starting with 1900 dimensions, trial number 2\n"
     ]
    },
    {
     "name": "stderr",
     "output_type": "stream",
     "text": [
      "100%|██████████| 10/10 [03:45<00:00, 22.52s/it]"
     ]
    },
    {
     "name": "stdout",
     "output_type": "stream",
     "text": [
      "failed\n"
     ]
    },
    {
     "name": "stderr",
     "output_type": "stream",
     "text": [
      "\n"
     ]
    }
   ],
   "source": [
    "results6 = []\n",
    "for dimension in range(1000, 2000, 100):\n",
    "    \n",
    "    for trial in range(3):\n",
    "        \n",
    "        print(f'starting with {dimension} dimensions, trial number {trial}')\n",
    "\n",
    "        Xtrain, Xval = X_train_t6[:,:dimension], X_val_t6[:,:dimension]\n",
    "        Ytrain, Yval = Y_train_t6,Y_val_t6\n",
    "\n",
    "        inputs = tf.keras.Input(shape=(dimension,))\n",
    "        x = inputs\n",
    "        for size in hidden_sizes_t6:\n",
    "            x = tf.keras.layers.Dense(size, activation=tf.nn.relu)(x)\n",
    "\n",
    "        outputs = tf.keras.layers.Dense(2, activation=tf.nn.softmax)(x)\n",
    "\n",
    "        model = tf.keras.Model(inputs=inputs, outputs=outputs)\n",
    "\n",
    "        model.compile(optimizer=tf.keras.optimizers.Adam(lr = 0.0005),\n",
    "                  loss=tf.losses.softmax_cross_entropy,\n",
    "                  metrics=['accuracy'])\n",
    "\n",
    "        train_acc = 0\n",
    "        val_acc = 0\n",
    "        success = 0\n",
    "        for epoch in tqdm(range(MAX_EPOCHS)):\n",
    "#             print(f\" {epoch} \", end='')\n",
    "            history = model.fit(Xtrain, Ytrain,\n",
    "                  epochs=1,\n",
    "                  batch_size=batch_size_t6,\n",
    "                  validation_data=(Xval, Yval),\n",
    "                  verbose=0)\n",
    "            train_acc = model.evaluate(Xtrain, Ytrain, verbose = 0)[1]\n",
    "            val_acc = model.evaluate(Xval, Yval, verbose = 0)[1]\n",
    "            if (train_acc >= 0.70 and val_acc >= 0.70):\n",
    "                success = 1\n",
    "                print('done')\n",
    "                results6.append([dimension,epoch])\n",
    "                break\n",
    "        if success:\n",
    "            pass\n",
    "        else:\n",
    "            print('failed')\n",
    "            results6.append([dimension,-1])"
   ]
  },
  {
   "cell_type": "code",
   "execution_count": 21,
   "metadata": {
    "ExecuteTime": {
     "end_time": "2021-12-13T22:48:10.076257Z",
     "start_time": "2021-12-13T22:48:09.788957Z"
    },
    "hidden": true
   },
   "outputs": [
    {
     "data": {
      "image/png": "[encoded data removed]",
      "text/plain": [
       "<Figure size 720x576 with 1 Axes>"
      ]
     },
     "metadata": {
      "needs_background": "light"
     },
     "output_type": "display_data"
    }
   ],
   "source": [
    "fig, ax = plt.subplots(figsize = (10,8))\n",
    "\n",
    "ax.scatter(*zip(*(results6)), color = 'blue', label = 'successful training', alpha = 0.3)\n",
    "\n",
    "ax.legend(loc='upper left')\n",
    "ax.set_title('Epochs until convergence  - 5x data')\n",
    "ax.set_xlabel('columns')\n",
    "ax.set_ylabel('epochs to converge')\n",
    "ax.set_xlim((-20,1620))\n",
    "ax.grid(axis=\"x\", which = 'both')\n",
    "plt.show()"
   ]
  },
  {
   "cell_type": "markdown",
   "metadata": {
    "heading_collapsed": true
   },
   "source": [
    "# Task 7"
   ]
  },
  {
   "cell_type": "code",
   "execution_count": 3,
   "metadata": {
    "ExecuteTime": {
     "end_time": "2021-12-14T05:52:54.761888Z",
     "start_time": "2021-12-14T05:52:54.757723Z"
    },
    "hidden": true
   },
   "outputs": [],
   "source": [
    "from random import random"
   ]
  },
  {
   "cell_type": "code",
   "execution_count": null,
   "metadata": {
    "ExecuteTime": {
     "end_time": "2021-12-13T23:07:07.318963Z",
     "start_time": "2021-12-13T23:07:07.313372Z"
    },
    "hidden": true
   },
   "outputs": [],
   "source": []
  },
  {
   "cell_type": "code",
   "execution_count": 4,
   "metadata": {
    "ExecuteTime": {
     "end_time": "2021-12-14T05:52:56.140166Z",
     "start_time": "2021-12-14T05:52:56.133541Z"
    },
    "hidden": true
   },
   "outputs": [],
   "source": [
    "def get_random_datapoint_t7(sig, size = 2000):\n",
    "    pts = np.random.normal(0.5, 0.05, size)\n",
    "    if sig and (random() < 0.1):\n",
    "        pts[0] = np.random.normal(0.6, 0.05, 1)\n",
    "    return pts\n",
    "\n",
    "mock_signal_t7 = np.array([get_random_datapoint_t7(True) for _ in range(20000)])\n",
    "mock_bg_t7 = np.array([get_random_datapoint_t7(False) for _ in range(20000)])\n",
    "\n",
    "mock_signal_t7.shape"
   ]
  },
  {
   "cell_type": "code",
   "execution_count": 6,
   "metadata": {
    "ExecuteTime": {
     "end_time": "2021-12-14T05:53:01.857443Z",
     "start_time": "2021-12-14T05:53:01.363931Z"
    },
    "hidden": true
   },
   "outputs": [
    {
     "name": "stdout",
     "output_type": "stream",
     "text": [
      "Training set size, distribution:\n",
      "(32000, 2000)\n",
      "(array([0., 1.]), array([16012, 15988]))\n",
      "Validations set size, distribution:\n",
      "(8000, 2000)\n",
      "(array([0., 1.]), array([3988, 4012]))\n"
     ]
    }
   ],
   "source": [
    "def prep_data_t7(sig, bg):\n",
    "    \n",
    "    this_y_bg = np.zeros(len(bg))\n",
    "    \n",
    "    this_y_sig = np.ones(len(sig))\n",
    "    \n",
    "    \"\"\"\n",
    "    Shuffle + Train-Val-Test Split \n",
    "    \"\"\"\n",
    "    # Combine both data sets\n",
    "    this_X = np.concatenate([bg, sig])\n",
    "    this_y = np.concatenate([this_y_bg, this_y_sig])\n",
    "    \n",
    "    # Shuffle before we split\n",
    "    this_X, this_y = shuffle(this_X, this_y)\n",
    "    \n",
    "    \n",
    "    (X_train, X_val, _,\n",
    "     y_train, y_val, _) = data_split(this_X, this_y, val=0.2, test=0)\n",
    "        \n",
    "    X_val = np.ones(X_val.shape) * 0.5\n",
    "    X_val[:,0] = 0.5 + 0.1*y_val\n",
    "    \n",
    "    # change Y to categorical Matrix\n",
    "    Y_train = to_categorical(y_train, num_classes=2)\n",
    "    Y_val = to_categorical(y_val, num_classes=2)\n",
    "    \n",
    "    print('Training set size, distribution:')\n",
    "    print(X_train.shape)\n",
    "    print(np.unique(y_train,return_counts = True))\n",
    "    print('Validations set size, distribution:')\n",
    "    print(X_val.shape)\n",
    "    print(np.unique(y_val,return_counts = True))\n",
    "    \n",
    "    return X_train, X_val, Y_train,Y_val\n",
    "\n",
    "X_train_t7, X_val_t7, Y_train_t7,Y_val_t7 = prep_data_t7(mock_signal_t7, mock_bg_t7)"
   ]
  },
  {
   "cell_type": "code",
   "execution_count": 15,
   "metadata": {
    "ExecuteTime": {
     "end_time": "2021-12-14T12:39:12.584527Z",
     "start_time": "2021-12-14T07:53:21.355020Z"
    },
    "hidden": true,
    "scrolled": false
   },
   "outputs": [
    {
     "name": "stdout",
     "output_type": "stream",
     "text": [
      "starting with 2 dimensions, trial number 0\n"
     ]
    },
    {
     "name": "stderr",
     "output_type": "stream",
     "text": [
      "  2%|▏         | 1/60 [00:09<09:43,  9.90s/it]\n"
     ]
    },
    {
     "name": "stdout",
     "output_type": "stream",
     "text": [
      "done\n",
      "starting with 2 dimensions, trial number 1\n"
     ]
    },
    {
     "name": "stderr",
     "output_type": "stream",
     "text": [
      "  2%|▏         | 1/60 [00:10<10:15, 10.43s/it]\n"
     ]
    },
    {
     "name": "stdout",
     "output_type": "stream",
     "text": [
      "done\n",
      "starting with 2 dimensions, trial number 2\n"
     ]
    },
    {
     "name": "stderr",
     "output_type": "stream",
     "text": [
      "  2%|▏         | 1/60 [00:10<10:11, 10.37s/it]\n"
     ]
    },
    {
     "name": "stdout",
     "output_type": "stream",
     "text": [
      "done\n",
      "starting with 22 dimensions, trial number 0\n"
     ]
    },
    {
     "name": "stderr",
     "output_type": "stream",
     "text": [
      "  2%|▏         | 1/60 [00:10<10:24, 10.59s/it]\n"
     ]
    },
    {
     "name": "stdout",
     "output_type": "stream",
     "text": [
      "done\n",
      "starting with 22 dimensions, trial number 1\n"
     ]
    },
    {
     "name": "stderr",
     "output_type": "stream",
     "text": [
      "  3%|▎         | 2/60 [00:14<07:00,  7.24s/it]\n"
     ]
    },
    {
     "name": "stdout",
     "output_type": "stream",
     "text": [
      "done\n",
      "starting with 22 dimensions, trial number 2\n"
     ]
    },
    {
     "name": "stderr",
     "output_type": "stream",
     "text": [
      "  3%|▎         | 2/60 [00:14<07:14,  7.49s/it]\n"
     ]
    },
    {
     "name": "stdout",
     "output_type": "stream",
     "text": [
      "done\n",
      "starting with 42 dimensions, trial number 0\n"
     ]
    },
    {
     "name": "stderr",
     "output_type": "stream",
     "text": [
      " 13%|█▎        | 8/60 [00:38<04:10,  4.83s/it]\n"
     ]
    },
    {
     "name": "stdout",
     "output_type": "stream",
     "text": [
      "done\n",
      "starting with 42 dimensions, trial number 1\n"
     ]
    },
    {
     "name": "stderr",
     "output_type": "stream",
     "text": [
      "  2%|▏         | 1/60 [00:11<11:10, 11.36s/it]\n"
     ]
    },
    {
     "name": "stdout",
     "output_type": "stream",
     "text": [
      "done\n",
      "starting with 42 dimensions, trial number 2\n"
     ]
    },
    {
     "name": "stderr",
     "output_type": "stream",
     "text": [
      " 18%|█▊        | 11/60 [00:49<03:42,  4.54s/it]\n"
     ]
    },
    {
     "name": "stdout",
     "output_type": "stream",
     "text": [
      "done\n",
      "starting with 62 dimensions, trial number 0\n"
     ]
    },
    {
     "name": "stderr",
     "output_type": "stream",
     "text": [
      "  7%|▋         | 4/60 [00:23<05:28,  5.86s/it]\n"
     ]
    },
    {
     "name": "stdout",
     "output_type": "stream",
     "text": [
      "done\n",
      "starting with 62 dimensions, trial number 1\n"
     ]
    },
    {
     "name": "stderr",
     "output_type": "stream",
     "text": [
      "  5%|▌         | 3/60 [00:19<06:14,  6.57s/it]\n"
     ]
    },
    {
     "name": "stdout",
     "output_type": "stream",
     "text": [
      "done\n",
      "starting with 62 dimensions, trial number 2\n"
     ]
    },
    {
     "name": "stderr",
     "output_type": "stream",
     "text": [
      "  2%|▏         | 1/60 [00:11<11:43, 11.93s/it]\n"
     ]
    },
    {
     "name": "stdout",
     "output_type": "stream",
     "text": [
      "done\n",
      "starting with 82 dimensions, trial number 0\n"
     ]
    },
    {
     "name": "stderr",
     "output_type": "stream",
     "text": [
      "  0%|          | 0/60 [00:07<?, ?it/s]\n"
     ]
    },
    {
     "name": "stdout",
     "output_type": "stream",
     "text": [
      "done\n",
      "starting with 82 dimensions, trial number 1\n"
     ]
    },
    {
     "name": "stderr",
     "output_type": "stream",
     "text": [
      "100%|██████████| 60/60 [04:05<00:00,  4.09s/it]\n"
     ]
    },
    {
     "name": "stdout",
     "output_type": "stream",
     "text": [
      "failed 0.5015\n",
      "starting with 82 dimensions, trial number 2\n"
     ]
    },
    {
     "name": "stderr",
     "output_type": "stream",
     "text": [
      "100%|██████████| 60/60 [04:06<00:00,  4.11s/it]\n"
     ]
    },
    {
     "name": "stdout",
     "output_type": "stream",
     "text": [
      "failed 0.4985\n",
      "starting with 102 dimensions, trial number 0\n"
     ]
    },
    {
     "name": "stderr",
     "output_type": "stream",
     "text": [
      "100%|██████████| 60/60 [04:07<00:00,  4.13s/it]\n"
     ]
    },
    {
     "name": "stdout",
     "output_type": "stream",
     "text": [
      "failed 0.4985\n",
      "starting with 102 dimensions, trial number 1\n"
     ]
    },
    {
     "name": "stderr",
     "output_type": "stream",
     "text": [
      "100%|██████████| 60/60 [04:08<00:00,  4.13s/it]\n"
     ]
    },
    {
     "name": "stdout",
     "output_type": "stream",
     "text": [
      "failed 0.5015\n",
      "starting with 102 dimensions, trial number 2\n"
     ]
    },
    {
     "name": "stderr",
     "output_type": "stream",
     "text": [
      " 12%|█▏        | 7/60 [00:37<04:42,  5.33s/it]\n"
     ]
    },
    {
     "name": "stdout",
     "output_type": "stream",
     "text": [
      "done\n",
      "starting with 122 dimensions, trial number 0\n"
     ]
    },
    {
     "name": "stderr",
     "output_type": "stream",
     "text": [
      "100%|██████████| 60/60 [04:10<00:00,  4.17s/it]\n"
     ]
    },
    {
     "name": "stdout",
     "output_type": "stream",
     "text": [
      "failed 0.4985\n",
      "starting with 122 dimensions, trial number 1\n"
     ]
    },
    {
     "name": "stderr",
     "output_type": "stream",
     "text": [
      "100%|██████████| 60/60 [04:13<00:00,  4.22s/it]\n"
     ]
    },
    {
     "name": "stdout",
     "output_type": "stream",
     "text": [
      "failed 0.4985\n",
      "starting with 122 dimensions, trial number 2\n"
     ]
    },
    {
     "name": "stderr",
     "output_type": "stream",
     "text": [
      "100%|██████████| 60/60 [04:13<00:00,  4.22s/it]\n"
     ]
    },
    {
     "name": "stdout",
     "output_type": "stream",
     "text": [
      "failed 0.4985\n",
      "starting with 142 dimensions, trial number 0\n"
     ]
    },
    {
     "name": "stderr",
     "output_type": "stream",
     "text": [
      "100%|██████████| 60/60 [04:16<00:00,  4.27s/it]\n"
     ]
    },
    {
     "name": "stdout",
     "output_type": "stream",
     "text": [
      "failed 0.5015\n",
      "starting with 142 dimensions, trial number 1\n"
     ]
    },
    {
     "name": "stderr",
     "output_type": "stream",
     "text": [
      "100%|██████████| 60/60 [04:16<00:00,  4.28s/it]\n"
     ]
    },
    {
     "name": "stdout",
     "output_type": "stream",
     "text": [
      "failed 0.5015\n",
      "starting with 142 dimensions, trial number 2\n"
     ]
    },
    {
     "name": "stderr",
     "output_type": "stream",
     "text": [
      "100%|██████████| 60/60 [04:16<00:00,  4.28s/it]\n"
     ]
    },
    {
     "name": "stdout",
     "output_type": "stream",
     "text": [
      "failed 0.4985\n",
      "starting with 162 dimensions, trial number 0\n"
     ]
    },
    {
     "name": "stderr",
     "output_type": "stream",
     "text": [
      "100%|██████████| 60/60 [04:18<00:00,  4.31s/it]\n"
     ]
    },
    {
     "name": "stdout",
     "output_type": "stream",
     "text": [
      "failed 0.4985\n",
      "starting with 162 dimensions, trial number 1\n"
     ]
    },
    {
     "name": "stderr",
     "output_type": "stream",
     "text": [
      "100%|██████████| 60/60 [04:19<00:00,  4.32s/it]\n"
     ]
    },
    {
     "name": "stdout",
     "output_type": "stream",
     "text": [
      "failed 0.4985\n",
      "starting with 162 dimensions, trial number 2\n"
     ]
    },
    {
     "name": "stderr",
     "output_type": "stream",
     "text": [
      "100%|██████████| 60/60 [04:21<00:00,  4.35s/it]\n"
     ]
    },
    {
     "name": "stdout",
     "output_type": "stream",
     "text": [
      "failed 0.4985\n",
      "starting with 182 dimensions, trial number 0\n"
     ]
    },
    {
     "name": "stderr",
     "output_type": "stream",
     "text": [
      "100%|██████████| 60/60 [04:20<00:00,  4.33s/it]\n"
     ]
    },
    {
     "name": "stdout",
     "output_type": "stream",
     "text": [
      "failed 0.4985\n",
      "starting with 182 dimensions, trial number 1\n"
     ]
    },
    {
     "name": "stderr",
     "output_type": "stream",
     "text": [
      "100%|██████████| 60/60 [04:21<00:00,  4.36s/it]\n"
     ]
    },
    {
     "name": "stdout",
     "output_type": "stream",
     "text": [
      "failed 0.4985\n",
      "starting with 182 dimensions, trial number 2\n"
     ]
    },
    {
     "name": "stderr",
     "output_type": "stream",
     "text": [
      "100%|██████████| 60/60 [04:26<00:00,  4.44s/it]\n"
     ]
    },
    {
     "name": "stdout",
     "output_type": "stream",
     "text": [
      "failed 0.4985\n",
      "starting with 202 dimensions, trial number 0\n"
     ]
    },
    {
     "name": "stderr",
     "output_type": "stream",
     "text": [
      "100%|██████████| 60/60 [04:25<00:00,  4.43s/it]\n"
     ]
    },
    {
     "name": "stdout",
     "output_type": "stream",
     "text": [
      "failed 0.5015\n",
      "starting with 202 dimensions, trial number 1\n"
     ]
    },
    {
     "name": "stderr",
     "output_type": "stream",
     "text": [
      "100%|██████████| 60/60 [04:25<00:00,  4.43s/it]\n"
     ]
    },
    {
     "name": "stdout",
     "output_type": "stream",
     "text": [
      "failed 0.4985\n",
      "starting with 202 dimensions, trial number 2\n"
     ]
    },
    {
     "name": "stderr",
     "output_type": "stream",
     "text": [
      "100%|██████████| 60/60 [04:25<00:00,  4.42s/it]\n"
     ]
    },
    {
     "name": "stdout",
     "output_type": "stream",
     "text": [
      "failed 0.4985\n",
      "starting with 222 dimensions, trial number 0\n"
     ]
    },
    {
     "name": "stderr",
     "output_type": "stream",
     "text": [
      "100%|██████████| 60/60 [04:27<00:00,  4.46s/it]\n"
     ]
    },
    {
     "name": "stdout",
     "output_type": "stream",
     "text": [
      "failed 0.4985\n",
      "starting with 222 dimensions, trial number 1\n"
     ]
    },
    {
     "name": "stderr",
     "output_type": "stream",
     "text": [
      "100%|██████████| 60/60 [04:27<00:00,  4.46s/it]\n"
     ]
    },
    {
     "name": "stdout",
     "output_type": "stream",
     "text": [
      "failed 0.4985\n",
      "starting with 222 dimensions, trial number 2\n"
     ]
    },
    {
     "name": "stderr",
     "output_type": "stream",
     "text": [
      "100%|██████████| 60/60 [04:29<00:00,  4.49s/it]\n"
     ]
    },
    {
     "name": "stdout",
     "output_type": "stream",
     "text": [
      "failed 0.5015\n",
      "starting with 242 dimensions, trial number 0\n"
     ]
    },
    {
     "name": "stderr",
     "output_type": "stream",
     "text": [
      "100%|██████████| 60/60 [04:31<00:00,  4.52s/it]\n"
     ]
    },
    {
     "name": "stdout",
     "output_type": "stream",
     "text": [
      "failed 0.4985\n",
      "starting with 242 dimensions, trial number 1\n"
     ]
    },
    {
     "name": "stderr",
     "output_type": "stream",
     "text": [
      "100%|██████████| 60/60 [04:27<00:00,  4.47s/it]\n"
     ]
    },
    {
     "name": "stdout",
     "output_type": "stream",
     "text": [
      "failed 0.4985\n",
      "starting with 242 dimensions, trial number 2\n"
     ]
    },
    {
     "name": "stderr",
     "output_type": "stream",
     "text": [
      "100%|██████████| 60/60 [04:29<00:00,  4.50s/it]\n"
     ]
    },
    {
     "name": "stdout",
     "output_type": "stream",
     "text": [
      "failed 0.4985\n",
      "starting with 262 dimensions, trial number 0\n"
     ]
    },
    {
     "name": "stderr",
     "output_type": "stream",
     "text": [
      "100%|██████████| 60/60 [04:30<00:00,  4.50s/it]\n"
     ]
    },
    {
     "name": "stdout",
     "output_type": "stream",
     "text": [
      "failed 0.4985\n",
      "starting with 262 dimensions, trial number 1\n"
     ]
    },
    {
     "name": "stderr",
     "output_type": "stream",
     "text": [
      "100%|██████████| 60/60 [04:30<00:00,  4.51s/it]\n"
     ]
    },
    {
     "name": "stdout",
     "output_type": "stream",
     "text": [
      "failed 0.4985\n",
      "starting with 262 dimensions, trial number 2\n"
     ]
    },
    {
     "name": "stderr",
     "output_type": "stream",
     "text": [
      "100%|██████████| 60/60 [04:30<00:00,  4.50s/it]\n"
     ]
    },
    {
     "name": "stdout",
     "output_type": "stream",
     "text": [
      "failed 0.5015\n",
      "starting with 282 dimensions, trial number 0\n"
     ]
    },
    {
     "name": "stderr",
     "output_type": "stream",
     "text": [
      "100%|██████████| 60/60 [04:31<00:00,  4.53s/it]\n"
     ]
    },
    {
     "name": "stdout",
     "output_type": "stream",
     "text": [
      "failed 0.4985\n",
      "starting with 282 dimensions, trial number 1\n"
     ]
    },
    {
     "name": "stderr",
     "output_type": "stream",
     "text": [
      "100%|██████████| 60/60 [04:30<00:00,  4.51s/it]\n"
     ]
    },
    {
     "name": "stdout",
     "output_type": "stream",
     "text": [
      "failed 0.5015\n",
      "starting with 282 dimensions, trial number 2\n"
     ]
    },
    {
     "name": "stderr",
     "output_type": "stream",
     "text": [
      "100%|██████████| 60/60 [04:33<00:00,  4.57s/it]\n"
     ]
    },
    {
     "name": "stdout",
     "output_type": "stream",
     "text": [
      "failed 0.5015\n",
      "starting with 302 dimensions, trial number 0\n"
     ]
    },
    {
     "name": "stderr",
     "output_type": "stream",
     "text": [
      "100%|██████████| 60/60 [04:34<00:00,  4.57s/it]\n"
     ]
    },
    {
     "name": "stdout",
     "output_type": "stream",
     "text": [
      "failed 0.5015\n",
      "starting with 302 dimensions, trial number 1\n"
     ]
    },
    {
     "name": "stderr",
     "output_type": "stream",
     "text": [
      "100%|██████████| 60/60 [04:35<00:00,  4.60s/it]\n"
     ]
    },
    {
     "name": "stdout",
     "output_type": "stream",
     "text": [
      "failed 0.5015\n",
      "starting with 302 dimensions, trial number 2\n"
     ]
    },
    {
     "name": "stderr",
     "output_type": "stream",
     "text": [
      "100%|██████████| 60/60 [04:36<00:00,  4.62s/it]\n"
     ]
    },
    {
     "name": "stdout",
     "output_type": "stream",
     "text": [
      "failed 0.4985\n",
      "starting with 322 dimensions, trial number 0\n"
     ]
    },
    {
     "name": "stderr",
     "output_type": "stream",
     "text": [
      "100%|██████████| 60/60 [04:36<00:00,  4.62s/it]\n"
     ]
    },
    {
     "name": "stdout",
     "output_type": "stream",
     "text": [
      "failed 0.5015\n",
      "starting with 322 dimensions, trial number 1\n"
     ]
    },
    {
     "name": "stderr",
     "output_type": "stream",
     "text": [
      "100%|██████████| 60/60 [04:39<00:00,  4.65s/it]\n"
     ]
    },
    {
     "name": "stdout",
     "output_type": "stream",
     "text": [
      "failed 0.4985\n",
      "starting with 322 dimensions, trial number 2\n"
     ]
    },
    {
     "name": "stderr",
     "output_type": "stream",
     "text": [
      "100%|██████████| 60/60 [04:39<00:00,  4.66s/it]\n"
     ]
    },
    {
     "name": "stdout",
     "output_type": "stream",
     "text": [
      "failed 0.4985\n",
      "starting with 342 dimensions, trial number 0\n"
     ]
    },
    {
     "name": "stderr",
     "output_type": "stream",
     "text": [
      "100%|██████████| 60/60 [04:41<00:00,  4.69s/it]\n"
     ]
    },
    {
     "name": "stdout",
     "output_type": "stream",
     "text": [
      "failed 0.4985\n",
      "starting with 342 dimensions, trial number 1\n"
     ]
    },
    {
     "name": "stderr",
     "output_type": "stream",
     "text": [
      "100%|██████████| 60/60 [04:41<00:00,  4.69s/it]\n"
     ]
    },
    {
     "name": "stdout",
     "output_type": "stream",
     "text": [
      "failed 0.5015\n",
      "starting with 342 dimensions, trial number 2\n"
     ]
    },
    {
     "name": "stderr",
     "output_type": "stream",
     "text": [
      "100%|██████████| 60/60 [04:45<00:00,  4.76s/it]\n"
     ]
    },
    {
     "name": "stdout",
     "output_type": "stream",
     "text": [
      "failed 0.4985\n",
      "starting with 362 dimensions, trial number 0\n"
     ]
    },
    {
     "name": "stderr",
     "output_type": "stream",
     "text": [
      "100%|██████████| 60/60 [04:43<00:00,  4.73s/it]\n"
     ]
    },
    {
     "name": "stdout",
     "output_type": "stream",
     "text": [
      "failed 0.4985\n",
      "starting with 362 dimensions, trial number 1\n"
     ]
    },
    {
     "name": "stderr",
     "output_type": "stream",
     "text": [
      "100%|██████████| 60/60 [04:44<00:00,  4.74s/it]\n"
     ]
    },
    {
     "name": "stdout",
     "output_type": "stream",
     "text": [
      "failed 0.5015\n",
      "starting with 362 dimensions, trial number 2\n"
     ]
    },
    {
     "name": "stderr",
     "output_type": "stream",
     "text": [
      "100%|██████████| 60/60 [04:47<00:00,  4.78s/it]\n"
     ]
    },
    {
     "name": "stdout",
     "output_type": "stream",
     "text": [
      "failed 0.4985\n",
      "starting with 382 dimensions, trial number 0\n"
     ]
    },
    {
     "name": "stderr",
     "output_type": "stream",
     "text": [
      "100%|██████████| 60/60 [04:50<00:00,  4.84s/it]\n"
     ]
    },
    {
     "name": "stdout",
     "output_type": "stream",
     "text": [
      "failed 0.4985\n",
      "starting with 382 dimensions, trial number 1\n"
     ]
    },
    {
     "name": "stderr",
     "output_type": "stream",
     "text": [
      "100%|██████████| 60/60 [04:49<00:00,  4.82s/it]\n"
     ]
    },
    {
     "name": "stdout",
     "output_type": "stream",
     "text": [
      "failed 0.4985\n",
      "starting with 382 dimensions, trial number 2\n"
     ]
    },
    {
     "name": "stderr",
     "output_type": "stream",
     "text": [
      "100%|██████████| 60/60 [04:51<00:00,  4.86s/it]\n"
     ]
    },
    {
     "name": "stdout",
     "output_type": "stream",
     "text": [
      "failed 0.4985\n",
      "starting with 402 dimensions, trial number 0\n"
     ]
    },
    {
     "name": "stderr",
     "output_type": "stream",
     "text": [
      "100%|██████████| 60/60 [04:51<00:00,  4.85s/it]\n"
     ]
    },
    {
     "name": "stdout",
     "output_type": "stream",
     "text": [
      "failed 0.5015\n",
      "starting with 402 dimensions, trial number 1\n"
     ]
    },
    {
     "name": "stderr",
     "output_type": "stream",
     "text": [
      "100%|██████████| 60/60 [04:53<00:00,  4.89s/it]\n"
     ]
    },
    {
     "name": "stdout",
     "output_type": "stream",
     "text": [
      "failed 0.4985\n",
      "starting with 402 dimensions, trial number 2\n"
     ]
    },
    {
     "name": "stderr",
     "output_type": "stream",
     "text": [
      "100%|██████████| 60/60 [04:56<00:00,  4.93s/it]\n"
     ]
    },
    {
     "name": "stdout",
     "output_type": "stream",
     "text": [
      "failed 0.5015\n",
      "starting with 422 dimensions, trial number 0\n"
     ]
    },
    {
     "name": "stderr",
     "output_type": "stream",
     "text": [
      "100%|██████████| 60/60 [04:55<00:00,  4.92s/it]\n"
     ]
    },
    {
     "name": "stdout",
     "output_type": "stream",
     "text": [
      "failed 0.4985\n",
      "starting with 422 dimensions, trial number 1\n"
     ]
    },
    {
     "name": "stderr",
     "output_type": "stream",
     "text": [
      "100%|██████████| 60/60 [04:55<00:00,  4.92s/it]\n"
     ]
    },
    {
     "name": "stdout",
     "output_type": "stream",
     "text": [
      "failed 0.4985\n",
      "starting with 422 dimensions, trial number 2\n"
     ]
    },
    {
     "name": "stderr",
     "output_type": "stream",
     "text": [
      "100%|██████████| 60/60 [04:58<00:00,  4.98s/it]\n"
     ]
    },
    {
     "name": "stdout",
     "output_type": "stream",
     "text": [
      "failed 0.5015\n",
      "starting with 442 dimensions, trial number 0\n"
     ]
    },
    {
     "name": "stderr",
     "output_type": "stream",
     "text": [
      "100%|██████████| 60/60 [05:01<00:00,  5.02s/it]\n"
     ]
    },
    {
     "name": "stdout",
     "output_type": "stream",
     "text": [
      "failed 0.5015\n",
      "starting with 442 dimensions, trial number 1\n"
     ]
    },
    {
     "name": "stderr",
     "output_type": "stream",
     "text": [
      "100%|██████████| 60/60 [05:01<00:00,  5.03s/it]\n"
     ]
    },
    {
     "name": "stdout",
     "output_type": "stream",
     "text": [
      "failed 0.4985\n",
      "starting with 442 dimensions, trial number 2\n"
     ]
    },
    {
     "name": "stderr",
     "output_type": "stream",
     "text": [
      "100%|██████████| 60/60 [05:00<00:00,  5.00s/it]\n"
     ]
    },
    {
     "name": "stdout",
     "output_type": "stream",
     "text": [
      "failed 0.5015\n",
      "starting with 462 dimensions, trial number 0\n"
     ]
    },
    {
     "name": "stderr",
     "output_type": "stream",
     "text": [
      "100%|██████████| 60/60 [05:03<00:00,  5.05s/it]\n"
     ]
    },
    {
     "name": "stdout",
     "output_type": "stream",
     "text": [
      "failed 0.4985\n",
      "starting with 462 dimensions, trial number 1\n"
     ]
    },
    {
     "name": "stderr",
     "output_type": "stream",
     "text": [
      "100%|██████████| 60/60 [05:04<00:00,  5.08s/it]\n"
     ]
    },
    {
     "name": "stdout",
     "output_type": "stream",
     "text": [
      "failed 0.4985\n",
      "starting with 462 dimensions, trial number 2\n"
     ]
    },
    {
     "name": "stderr",
     "output_type": "stream",
     "text": [
      "100%|██████████| 60/60 [05:05<00:00,  5.10s/it]\n"
     ]
    },
    {
     "name": "stdout",
     "output_type": "stream",
     "text": [
      "failed 0.4985\n",
      "starting with 482 dimensions, trial number 0\n"
     ]
    },
    {
     "name": "stderr",
     "output_type": "stream",
     "text": [
      "100%|██████████| 60/60 [05:07<00:00,  5.12s/it]\n"
     ]
    },
    {
     "name": "stdout",
     "output_type": "stream",
     "text": [
      "failed 0.5015\n",
      "starting with 482 dimensions, trial number 1\n"
     ]
    },
    {
     "name": "stderr",
     "output_type": "stream",
     "text": [
      "100%|██████████| 60/60 [05:09<00:00,  5.15s/it]\n"
     ]
    },
    {
     "name": "stdout",
     "output_type": "stream",
     "text": [
      "failed 0.4985\n",
      "starting with 482 dimensions, trial number 2\n"
     ]
    },
    {
     "name": "stderr",
     "output_type": "stream",
     "text": [
      "100%|██████████| 60/60 [05:09<00:00,  5.15s/it]"
     ]
    },
    {
     "name": "stdout",
     "output_type": "stream",
     "text": [
      "failed 0.4985\n"
     ]
    },
    {
     "name": "stderr",
     "output_type": "stream",
     "text": [
      "\n"
     ]
    }
   ],
   "source": [
    "hidden_sizes_t7 = [100, 50]\n",
    "batch_size_t7 = 100\n",
    "MAX_EPOCHS = 60\n",
    "\n",
    "results7 = []\n",
    "for dimension in range(2, 500, 20):\n",
    "    \n",
    "    for trial in range(3):\n",
    "        \n",
    "        print(f'starting with {dimension} dimensions, trial number {trial}')\n",
    "\n",
    "        Xtrain, Xval = X_train_t7[:,:dimension], X_val_t7[:,:dimension]\n",
    "        Ytrain, Yval = Y_train_t7,Y_val_t7\n",
    "\n",
    "        inputs = tf.keras.Input(shape=(dimension,))\n",
    "        x = inputs\n",
    "        for size in hidden_sizes_t7:\n",
    "            x = tf.keras.layers.Dense(size, activation=tf.nn.relu)(x)\n",
    "\n",
    "        outputs = tf.keras.layers.Dense(2, activation=tf.nn.softmax)(x)\n",
    "\n",
    "        model = tf.keras.Model(inputs=inputs, outputs=outputs)\n",
    "\n",
    "        model.compile(optimizer=tf.keras.optimizers.Adam(lr = 0.001),\n",
    "                  loss=tf.losses.softmax_cross_entropy,\n",
    "                  metrics=['accuracy'])\n",
    "\n",
    "        train_acc = 0\n",
    "        val_acc = 0\n",
    "        success = 0\n",
    "        for epoch in tqdm(range(MAX_EPOCHS)):\n",
    "#             print(f\" {epoch} \", end='')\n",
    "            history = model.fit(Xtrain, Ytrain,\n",
    "                  epochs=1,\n",
    "                  batch_size=batch_size_t7,\n",
    "                  validation_data=(Xval, Yval),\n",
    "                  verbose=0)\n",
    "            train_acc = model.evaluate(Xtrain, Ytrain, verbose = 0)[1]\n",
    "            val_acc = model.evaluate(Xval, Yval, verbose = 0)[1]\n",
    "            if (val_acc >= 0.70):\n",
    "                success = 1\n",
    "                print('done')\n",
    "                results7.append([dimension,epoch])\n",
    "                break\n",
    "        if success:\n",
    "            pass\n",
    "        else:\n",
    "            print(f'failed {val_acc}')\n",
    "            results7.append([dimension,-1])"
   ]
  },
  {
   "cell_type": "code",
   "execution_count": 18,
   "metadata": {
    "ExecuteTime": {
     "end_time": "2021-12-15T19:58:35.849708Z",
     "start_time": "2021-12-15T19:58:35.655529Z"
    },
    "hidden": true
   },
   "outputs": [
    {
     "data": {
      "image/png": "[encoded data removed]",
      "text/plain": [
       "<Figure size 720x576 with 1 Axes>"
      ]
     },
     "metadata": {
      "needs_background": "light"
     },
     "output_type": "display_data"
    }
   ],
   "source": [
    "fig, ax = plt.subplots(figsize = (10,8))\n",
    "\n",
    "ax.scatter(*zip(*(results7)), color = 'blue', label = 'successful training', alpha = 0.3)\n",
    "\n",
    "ax.legend(loc='upper left')\n",
    "ax.set_title('Epochs until convergence  - 10% signal')\n",
    "ax.set_xlabel('columns')\n",
    "ax.set_ylabel('epochs to converge')\n",
    "ax.set_xlim((-20,240))\n",
    "ax.grid(axis=\"x\", which = 'both')\n",
    "plt.show()"
   ]
  },
  {
   "cell_type": "code",
   "execution_count": 20,
   "metadata": {
    "ExecuteTime": {
     "end_time": "2021-12-20T23:28:42.043846Z",
     "start_time": "2021-12-20T20:51:50.075998Z"
    },
    "hidden": true,
    "scrolled": false
   },
   "outputs": [
    {
     "name": "stdout",
     "output_type": "stream",
     "text": [
      "starting with 2 dimensions, trial number 0\n"
     ]
    },
    {
     "name": "stderr",
     "output_type": "stream",
     "text": [
      "  0%|          | 0/10 [01:23<?, ?it/s]"
     ]
    },
    {
     "name": "stdout",
     "output_type": "stream",
     "text": [
      "done\n",
      "starting with 2 dimensions, trial number 1\n"
     ]
    },
    {
     "name": "stderr",
     "output_type": "stream",
     "text": [
      "\n",
      " 10%|█         | 1/10 [01:19<11:59, 79.89s/it]"
     ]
    },
    {
     "name": "stdout",
     "output_type": "stream",
     "text": [
      "done\n",
      "starting with 2 dimensions, trial number 2\n"
     ]
    },
    {
     "name": "stderr",
     "output_type": "stream",
     "text": [
      "\n",
      " 10%|█         | 1/10 [01:20<12:01, 80.22s/it]"
     ]
    },
    {
     "name": "stdout",
     "output_type": "stream",
     "text": [
      "done\n",
      "starting with 2 dimensions, trial number 3\n"
     ]
    },
    {
     "name": "stderr",
     "output_type": "stream",
     "text": [
      "\n",
      " 10%|█         | 1/10 [01:20<12:03, 80.41s/it]"
     ]
    },
    {
     "name": "stdout",
     "output_type": "stream",
     "text": [
      "done\n",
      "starting with 2 dimensions, trial number 4\n"
     ]
    },
    {
     "name": "stderr",
     "output_type": "stream",
     "text": [
      "\n",
      " 20%|██        | 2/10 [01:49<07:19, 54.97s/it]"
     ]
    },
    {
     "name": "stdout",
     "output_type": "stream",
     "text": [
      "done\n",
      "starting with 2 dimensions, trial number 5\n"
     ]
    },
    {
     "name": "stderr",
     "output_type": "stream",
     "text": [
      "\n",
      "  0%|          | 0/10 [00:55<?, ?it/s]"
     ]
    },
    {
     "name": "stdout",
     "output_type": "stream",
     "text": [
      "done\n",
      "starting with 12 dimensions, trial number 0\n"
     ]
    },
    {
     "name": "stderr",
     "output_type": "stream",
     "text": [
      "\n",
      "  0%|          | 0/10 [00:52<?, ?it/s]"
     ]
    },
    {
     "name": "stdout",
     "output_type": "stream",
     "text": [
      "done\n",
      "starting with 12 dimensions, trial number 1\n"
     ]
    },
    {
     "name": "stderr",
     "output_type": "stream",
     "text": [
      "\n",
      " 20%|██        | 2/10 [02:08<08:35, 64.38s/it]"
     ]
    },
    {
     "name": "stdout",
     "output_type": "stream",
     "text": [
      "done\n",
      "starting with 12 dimensions, trial number 2\n"
     ]
    },
    {
     "name": "stderr",
     "output_type": "stream",
     "text": [
      "\n",
      " 20%|██        | 2/10 [01:52<07:30, 56.31s/it]"
     ]
    },
    {
     "name": "stdout",
     "output_type": "stream",
     "text": [
      "done\n",
      "starting with 12 dimensions, trial number 3\n"
     ]
    },
    {
     "name": "stderr",
     "output_type": "stream",
     "text": [
      "\n",
      " 20%|██        | 2/10 [01:53<07:33, 56.68s/it]"
     ]
    },
    {
     "name": "stdout",
     "output_type": "stream",
     "text": [
      "done\n",
      "starting with 12 dimensions, trial number 4\n"
     ]
    },
    {
     "name": "stderr",
     "output_type": "stream",
     "text": [
      "\n",
      "  0%|          | 0/10 [00:57<?, ?it/s]"
     ]
    },
    {
     "name": "stdout",
     "output_type": "stream",
     "text": [
      "done\n",
      "starting with 12 dimensions, trial number 5\n"
     ]
    },
    {
     "name": "stderr",
     "output_type": "stream",
     "text": [
      "\n",
      "  0%|          | 0/10 [00:58<?, ?it/s]"
     ]
    },
    {
     "name": "stdout",
     "output_type": "stream",
     "text": [
      "done\n",
      "starting with 22 dimensions, trial number 0\n"
     ]
    },
    {
     "name": "stderr",
     "output_type": "stream",
     "text": [
      "\n",
      " 60%|██████    | 6/10 [03:52<02:34, 38.67s/it]"
     ]
    },
    {
     "name": "stdout",
     "output_type": "stream",
     "text": [
      "done\n",
      "starting with 22 dimensions, trial number 1\n"
     ]
    },
    {
     "name": "stderr",
     "output_type": "stream",
     "text": [
      "\n",
      " 30%|███       | 3/10 [02:25<05:38, 48.40s/it]"
     ]
    },
    {
     "name": "stdout",
     "output_type": "stream",
     "text": [
      "done\n",
      "starting with 22 dimensions, trial number 2\n"
     ]
    },
    {
     "name": "stderr",
     "output_type": "stream",
     "text": [
      "\n",
      " 50%|█████     | 5/10 [03:20<03:20, 40.18s/it]"
     ]
    },
    {
     "name": "stdout",
     "output_type": "stream",
     "text": [
      "done\n",
      "starting with 22 dimensions, trial number 3\n"
     ]
    },
    {
     "name": "stderr",
     "output_type": "stream",
     "text": [
      "\n",
      " 30%|███       | 3/10 [02:26<05:42, 48.91s/it]"
     ]
    },
    {
     "name": "stdout",
     "output_type": "stream",
     "text": [
      "done\n",
      "starting with 22 dimensions, trial number 4\n"
     ]
    },
    {
     "name": "stderr",
     "output_type": "stream",
     "text": [
      "\n",
      " 40%|████      | 4/10 [03:05<04:38, 46.36s/it]"
     ]
    },
    {
     "name": "stdout",
     "output_type": "stream",
     "text": [
      "done\n",
      "starting with 22 dimensions, trial number 5\n"
     ]
    },
    {
     "name": "stderr",
     "output_type": "stream",
     "text": [
      "\n",
      " 40%|████      | 4/10 [02:53<04:19, 43.30s/it]"
     ]
    },
    {
     "name": "stdout",
     "output_type": "stream",
     "text": [
      "done\n",
      "starting with 32 dimensions, trial number 0\n"
     ]
    },
    {
     "name": "stderr",
     "output_type": "stream",
     "text": [
      "\n",
      " 70%|███████   | 7/10 [04:28<01:55, 38.34s/it]"
     ]
    },
    {
     "name": "stdout",
     "output_type": "stream",
     "text": [
      "done\n",
      "starting with 32 dimensions, trial number 1\n"
     ]
    },
    {
     "name": "stderr",
     "output_type": "stream",
     "text": [
      "\n",
      " 10%|█         | 1/10 [01:27<13:11, 87.96s/it]"
     ]
    },
    {
     "name": "stdout",
     "output_type": "stream",
     "text": [
      "done\n",
      "starting with 32 dimensions, trial number 2\n"
     ]
    },
    {
     "name": "stderr",
     "output_type": "stream",
     "text": [
      "\n",
      " 60%|██████    | 6/10 [04:03<02:42, 40.63s/it]"
     ]
    },
    {
     "name": "stdout",
     "output_type": "stream",
     "text": [
      "done\n",
      "starting with 32 dimensions, trial number 3\n"
     ]
    },
    {
     "name": "stderr",
     "output_type": "stream",
     "text": [
      "\n",
      " 30%|███       | 3/10 [02:29<05:48, 49.81s/it]"
     ]
    },
    {
     "name": "stdout",
     "output_type": "stream",
     "text": [
      "done\n",
      "starting with 32 dimensions, trial number 4\n"
     ]
    },
    {
     "name": "stderr",
     "output_type": "stream",
     "text": [
      "\n",
      " 20%|██        | 2/10 [01:59<07:57, 59.71s/it]"
     ]
    },
    {
     "name": "stdout",
     "output_type": "stream",
     "text": [
      "done\n",
      "starting with 32 dimensions, trial number 5\n"
     ]
    },
    {
     "name": "stderr",
     "output_type": "stream",
     "text": [
      "\n",
      " 10%|█         | 1/10 [01:32<13:51, 92.35s/it]"
     ]
    },
    {
     "name": "stdout",
     "output_type": "stream",
     "text": [
      "done\n",
      "starting with 42 dimensions, trial number 0\n"
     ]
    },
    {
     "name": "stderr",
     "output_type": "stream",
     "text": [
      "\n",
      " 20%|██        | 2/10 [02:06<08:24, 63.10s/it]"
     ]
    },
    {
     "name": "stdout",
     "output_type": "stream",
     "text": [
      "done\n",
      "starting with 42 dimensions, trial number 1\n"
     ]
    },
    {
     "name": "stderr",
     "output_type": "stream",
     "text": [
      "\n",
      "  0%|          | 0/10 [01:11<?, ?it/s]"
     ]
    },
    {
     "name": "stdout",
     "output_type": "stream",
     "text": [
      "done\n",
      "starting with 42 dimensions, trial number 2\n"
     ]
    },
    {
     "name": "stderr",
     "output_type": "stream",
     "text": [
      "\n",
      " 40%|████      | 4/10 [03:24<05:07, 51.22s/it]"
     ]
    },
    {
     "name": "stdout",
     "output_type": "stream",
     "text": [
      "done\n",
      "starting with 42 dimensions, trial number 3\n"
     ]
    },
    {
     "name": "stderr",
     "output_type": "stream",
     "text": [
      "\n",
      " 50%|█████     | 5/10 [03:37<03:37, 43.56s/it]"
     ]
    },
    {
     "name": "stdout",
     "output_type": "stream",
     "text": [
      "done\n",
      "starting with 42 dimensions, trial number 4\n"
     ]
    },
    {
     "name": "stderr",
     "output_type": "stream",
     "text": [
      "\n",
      " 30%|███       | 3/10 [02:36<06:06, 52.32s/it]"
     ]
    },
    {
     "name": "stdout",
     "output_type": "stream",
     "text": [
      "done\n",
      "starting with 42 dimensions, trial number 5\n"
     ]
    },
    {
     "name": "stderr",
     "output_type": "stream",
     "text": [
      "\n",
      " 70%|███████   | 7/10 [04:40<02:00, 40.12s/it]"
     ]
    },
    {
     "name": "stdout",
     "output_type": "stream",
     "text": [
      "done\n",
      "starting with 52 dimensions, trial number 0\n"
     ]
    },
    {
     "name": "stderr",
     "output_type": "stream",
     "text": [
      "\n",
      " 20%|██        | 2/10 [02:07<08:31, 63.93s/it]"
     ]
    },
    {
     "name": "stdout",
     "output_type": "stream",
     "text": [
      "done\n",
      "starting with 52 dimensions, trial number 1\n"
     ]
    },
    {
     "name": "stderr",
     "output_type": "stream",
     "text": [
      "\n",
      "100%|██████████| 10/10 [05:43<00:00, 34.33s/it]\n"
     ]
    },
    {
     "name": "stdout",
     "output_type": "stream",
     "text": [
      "failed 0.5015\n",
      "starting with 52 dimensions, trial number 2\n"
     ]
    },
    {
     "name": "stderr",
     "output_type": "stream",
     "text": [
      " 80%|████████  | 8/10 [05:56<01:29, 44.50s/it]"
     ]
    },
    {
     "name": "stdout",
     "output_type": "stream",
     "text": [
      "done\n",
      "starting with 52 dimensions, trial number 3\n"
     ]
    },
    {
     "name": "stderr",
     "output_type": "stream",
     "text": [
      "\n",
      "100%|██████████| 10/10 [05:54<00:00, 35.46s/it]\n"
     ]
    },
    {
     "name": "stdout",
     "output_type": "stream",
     "text": [
      "failed 0.5015\n",
      "starting with 52 dimensions, trial number 4\n"
     ]
    },
    {
     "name": "stderr",
     "output_type": "stream",
     "text": [
      " 20%|██        | 2/10 [02:09<08:38, 64.81s/it]"
     ]
    },
    {
     "name": "stdout",
     "output_type": "stream",
     "text": [
      "done\n",
      "starting with 52 dimensions, trial number 5\n"
     ]
    },
    {
     "name": "stderr",
     "output_type": "stream",
     "text": [
      "\n",
      "100%|██████████| 10/10 [05:50<00:00, 35.10s/it]\n"
     ]
    },
    {
     "name": "stdout",
     "output_type": "stream",
     "text": [
      "failed 0.4985\n",
      "starting with 62 dimensions, trial number 0\n"
     ]
    },
    {
     "name": "stderr",
     "output_type": "stream",
     "text": [
      "100%|██████████| 10/10 [06:02<00:00, 36.24s/it]\n"
     ]
    },
    {
     "name": "stdout",
     "output_type": "stream",
     "text": [
      "failed 0.5015\n",
      "starting with 62 dimensions, trial number 1\n"
     ]
    },
    {
     "name": "stderr",
     "output_type": "stream",
     "text": [
      " 40%|████      | 4/10 [03:49<05:43, 57.29s/it]"
     ]
    },
    {
     "name": "stdout",
     "output_type": "stream",
     "text": [
      "done\n",
      "starting with 62 dimensions, trial number 2\n"
     ]
    },
    {
     "name": "stderr",
     "output_type": "stream",
     "text": [
      "\n",
      "100%|██████████| 10/10 [06:06<00:00, 36.64s/it]\n"
     ]
    },
    {
     "name": "stdout",
     "output_type": "stream",
     "text": [
      "failed 0.4985\n",
      "starting with 62 dimensions, trial number 3\n"
     ]
    },
    {
     "name": "stderr",
     "output_type": "stream",
     "text": [
      "100%|██████████| 10/10 [06:09<00:00, 36.95s/it]\n"
     ]
    },
    {
     "name": "stdout",
     "output_type": "stream",
     "text": [
      "failed 0.5015\n",
      "starting with 62 dimensions, trial number 4\n"
     ]
    },
    {
     "name": "stderr",
     "output_type": "stream",
     "text": [
      " 80%|████████  | 8/10 [05:24<01:21, 40.54s/it]"
     ]
    },
    {
     "name": "stdout",
     "output_type": "stream",
     "text": [
      "done\n",
      "starting with 62 dimensions, trial number 5\n"
     ]
    },
    {
     "name": "stderr",
     "output_type": "stream",
     "text": [
      "\n",
      " 80%|████████  | 8/10 [05:54<01:28, 44.34s/it]"
     ]
    },
    {
     "name": "stdout",
     "output_type": "stream",
     "text": [
      "done\n",
      "starting with 72 dimensions, trial number 0\n"
     ]
    },
    {
     "name": "stderr",
     "output_type": "stream",
     "text": [
      "\n",
      "100%|██████████| 10/10 [06:45<00:00, 40.54s/it]\n"
     ]
    },
    {
     "name": "stdout",
     "output_type": "stream",
     "text": [
      "failed 0.4985\n",
      "starting with 72 dimensions, trial number 1\n"
     ]
    },
    {
     "name": "stderr",
     "output_type": "stream",
     "text": [
      "100%|██████████| 10/10 [06:11<00:00, 37.13s/it]\n"
     ]
    },
    {
     "name": "stdout",
     "output_type": "stream",
     "text": [
      "failed 0.5015\n",
      "starting with 72 dimensions, trial number 2\n"
     ]
    },
    {
     "name": "stderr",
     "output_type": "stream",
     "text": [
      " 20%|██        | 2/10 [02:20<09:22, 70.25s/it]"
     ]
    },
    {
     "name": "stdout",
     "output_type": "stream",
     "text": [
      "done\n",
      "starting with 72 dimensions, trial number 3\n"
     ]
    },
    {
     "name": "stderr",
     "output_type": "stream",
     "text": [
      "\n",
      "100%|██████████| 10/10 [06:09<00:00, 36.98s/it]\n"
     ]
    },
    {
     "name": "stdout",
     "output_type": "stream",
     "text": [
      "failed 0.5015\n",
      "starting with 72 dimensions, trial number 4\n"
     ]
    },
    {
     "name": "stderr",
     "output_type": "stream",
     "text": [
      " 30%|███       | 3/10 [02:58<06:57, 59.65s/it]"
     ]
    },
    {
     "name": "stdout",
     "output_type": "stream",
     "text": [
      "done\n",
      "starting with 72 dimensions, trial number 5\n"
     ]
    },
    {
     "name": "stderr",
     "output_type": "stream",
     "text": [
      "\n",
      "  0%|          | 0/10 [01:20<?, ?it/s]"
     ]
    },
    {
     "name": "stdout",
     "output_type": "stream",
     "text": [
      "done\n",
      "starting with 82 dimensions, trial number 0\n"
     ]
    },
    {
     "name": "stderr",
     "output_type": "stream",
     "text": [
      "\n",
      "  0%|          | 0/10 [00:54<?, ?it/s]\n"
     ]
    },
    {
     "ename": "KeyboardInterrupt",
     "evalue": "",
     "output_type": "error",
     "traceback": [
      "\u001b[0;31m---------------------------------------------------------------------------\u001b[0m",
      "\u001b[0;31mKeyboardInterrupt\u001b[0m                         Traceback (most recent call last)",
      "\u001b[0;32m<ipython-input-20-fd0121f30013>\u001b[0m in \u001b[0;36m<module>\u001b[0;34m\u001b[0m\n\u001b[1;32m     36\u001b[0m                   \u001b[0mvalidation_data\u001b[0m\u001b[0;34m=\u001b[0m\u001b[0;34m(\u001b[0m\u001b[0mXval\u001b[0m\u001b[0;34m,\u001b[0m \u001b[0mYval\u001b[0m\u001b[0;34m)\u001b[0m\u001b[0;34m,\u001b[0m\u001b[0;34m\u001b[0m\u001b[0m\n\u001b[1;32m     37\u001b[0m                   verbose=0)\n\u001b[0;32m---> 38\u001b[0;31m             \u001b[0mtrain_acc\u001b[0m \u001b[0;34m=\u001b[0m \u001b[0mmodel\u001b[0m\u001b[0;34m.\u001b[0m\u001b[0mevaluate\u001b[0m\u001b[0;34m(\u001b[0m\u001b[0mXtrain\u001b[0m\u001b[0;34m,\u001b[0m \u001b[0mYtrain\u001b[0m\u001b[0;34m,\u001b[0m \u001b[0mverbose\u001b[0m \u001b[0;34m=\u001b[0m \u001b[0;36m0\u001b[0m\u001b[0;34m)\u001b[0m\u001b[0;34m[\u001b[0m\u001b[0;36m1\u001b[0m\u001b[0;34m]\u001b[0m\u001b[0;34m\u001b[0m\u001b[0m\n\u001b[0m\u001b[1;32m     39\u001b[0m             \u001b[0mval_acc\u001b[0m \u001b[0;34m=\u001b[0m \u001b[0mmodel\u001b[0m\u001b[0;34m.\u001b[0m\u001b[0mevaluate\u001b[0m\u001b[0;34m(\u001b[0m\u001b[0mXval\u001b[0m\u001b[0;34m,\u001b[0m \u001b[0mYval\u001b[0m\u001b[0;34m,\u001b[0m \u001b[0mverbose\u001b[0m \u001b[0;34m=\u001b[0m \u001b[0;36m0\u001b[0m\u001b[0;34m)\u001b[0m\u001b[0;34m[\u001b[0m\u001b[0;36m1\u001b[0m\u001b[0;34m]\u001b[0m\u001b[0;34m\u001b[0m\u001b[0m\n\u001b[1;32m     40\u001b[0m             \u001b[0;32mif\u001b[0m \u001b[0;34m(\u001b[0m\u001b[0mval_acc\u001b[0m \u001b[0;34m>=\u001b[0m \u001b[0;36m0.65\u001b[0m\u001b[0;34m)\u001b[0m\u001b[0;34m:\u001b[0m\u001b[0;34m\u001b[0m\u001b[0m\n",
      "\u001b[0;32m/opt/anaconda3/envs/shared_env/lib/python3.6/site-packages/tensorflow/python/keras/engine/training.py\u001b[0m in \u001b[0;36mevaluate\u001b[0;34m(self, x, y, batch_size, verbose, sample_weight, steps, max_queue_size, workers, use_multiprocessing)\u001b[0m\n\u001b[1;32m   1774\u001b[0m           \u001b[0mbatch_size\u001b[0m\u001b[0;34m=\u001b[0m\u001b[0mbatch_size\u001b[0m\u001b[0;34m,\u001b[0m\u001b[0;34m\u001b[0m\u001b[0m\n\u001b[1;32m   1775\u001b[0m           \u001b[0mverbose\u001b[0m\u001b[0;34m=\u001b[0m\u001b[0mverbose\u001b[0m\u001b[0;34m,\u001b[0m\u001b[0;34m\u001b[0m\u001b[0m\n\u001b[0;32m-> 1776\u001b[0;31m           steps=steps)\n\u001b[0m\u001b[1;32m   1777\u001b[0m \u001b[0;34m\u001b[0m\u001b[0m\n\u001b[1;32m   1778\u001b[0m   def predict(self,\n",
      "\u001b[0;32m/opt/anaconda3/envs/shared_env/lib/python3.6/site-packages/tensorflow/python/keras/engine/training_arrays.py\u001b[0m in \u001b[0;36mtest_loop\u001b[0;34m(model, inputs, targets, sample_weights, batch_size, verbose, steps)\u001b[0m\n\u001b[1;32m    437\u001b[0m         \u001b[0mins_batch\u001b[0m\u001b[0;34m[\u001b[0m\u001b[0mi\u001b[0m\u001b[0;34m]\u001b[0m \u001b[0;34m=\u001b[0m \u001b[0mins_batch\u001b[0m\u001b[0;34m[\u001b[0m\u001b[0mi\u001b[0m\u001b[0;34m]\u001b[0m\u001b[0;34m.\u001b[0m\u001b[0mtoarray\u001b[0m\u001b[0;34m(\u001b[0m\u001b[0;34m)\u001b[0m\u001b[0;34m\u001b[0m\u001b[0m\n\u001b[1;32m    438\u001b[0m \u001b[0;34m\u001b[0m\u001b[0m\n\u001b[0;32m--> 439\u001b[0;31m       \u001b[0mbatch_outs\u001b[0m \u001b[0;34m=\u001b[0m \u001b[0mf\u001b[0m\u001b[0;34m(\u001b[0m\u001b[0mins_batch\u001b[0m\u001b[0;34m)\u001b[0m\u001b[0;34m\u001b[0m\u001b[0m\n\u001b[0m\u001b[1;32m    440\u001b[0m \u001b[0;34m\u001b[0m\u001b[0m\n\u001b[1;32m    441\u001b[0m       \u001b[0;32mif\u001b[0m \u001b[0misinstance\u001b[0m\u001b[0;34m(\u001b[0m\u001b[0mbatch_outs\u001b[0m\u001b[0;34m,\u001b[0m \u001b[0mlist\u001b[0m\u001b[0;34m)\u001b[0m\u001b[0;34m:\u001b[0m\u001b[0;34m\u001b[0m\u001b[0m\n",
      "\u001b[0;32m/opt/anaconda3/envs/shared_env/lib/python3.6/site-packages/tensorflow/python/keras/backend.py\u001b[0m in \u001b[0;36m__call__\u001b[0;34m(self, inputs)\u001b[0m\n\u001b[1;32m   2984\u001b[0m \u001b[0;34m\u001b[0m\u001b[0m\n\u001b[1;32m   2985\u001b[0m     fetched = self._callable_fn(*array_vals,\n\u001b[0;32m-> 2986\u001b[0;31m                                 run_metadata=self.run_metadata)\n\u001b[0m\u001b[1;32m   2987\u001b[0m     \u001b[0mself\u001b[0m\u001b[0;34m.\u001b[0m\u001b[0m_call_fetch_callbacks\u001b[0m\u001b[0;34m(\u001b[0m\u001b[0mfetched\u001b[0m\u001b[0;34m[\u001b[0m\u001b[0;34m-\u001b[0m\u001b[0mlen\u001b[0m\u001b[0;34m(\u001b[0m\u001b[0mself\u001b[0m\u001b[0;34m.\u001b[0m\u001b[0m_fetches\u001b[0m\u001b[0;34m)\u001b[0m\u001b[0;34m:\u001b[0m\u001b[0;34m]\u001b[0m\u001b[0;34m)\u001b[0m\u001b[0;34m\u001b[0m\u001b[0m\n\u001b[1;32m   2988\u001b[0m     \u001b[0;32mreturn\u001b[0m \u001b[0mfetched\u001b[0m\u001b[0;34m[\u001b[0m\u001b[0;34m:\u001b[0m\u001b[0mlen\u001b[0m\u001b[0;34m(\u001b[0m\u001b[0mself\u001b[0m\u001b[0;34m.\u001b[0m\u001b[0moutputs\u001b[0m\u001b[0;34m)\u001b[0m\u001b[0;34m]\u001b[0m\u001b[0;34m\u001b[0m\u001b[0m\n",
      "\u001b[0;32m/opt/anaconda3/envs/shared_env/lib/python3.6/site-packages/tensorflow/python/client/session.py\u001b[0m in \u001b[0;36m__call__\u001b[0;34m(self, *args, **kwargs)\u001b[0m\n\u001b[1;32m   1437\u001b[0m           ret = tf_session.TF_SessionRunCallable(\n\u001b[1;32m   1438\u001b[0m               \u001b[0mself\u001b[0m\u001b[0;34m.\u001b[0m\u001b[0m_session\u001b[0m\u001b[0;34m.\u001b[0m\u001b[0m_session\u001b[0m\u001b[0;34m,\u001b[0m \u001b[0mself\u001b[0m\u001b[0;34m.\u001b[0m\u001b[0m_handle\u001b[0m\u001b[0;34m,\u001b[0m \u001b[0margs\u001b[0m\u001b[0;34m,\u001b[0m \u001b[0mstatus\u001b[0m\u001b[0;34m,\u001b[0m\u001b[0;34m\u001b[0m\u001b[0m\n\u001b[0;32m-> 1439\u001b[0;31m               run_metadata_ptr)\n\u001b[0m\u001b[1;32m   1440\u001b[0m         \u001b[0;32mif\u001b[0m \u001b[0mrun_metadata\u001b[0m\u001b[0;34m:\u001b[0m\u001b[0;34m\u001b[0m\u001b[0m\n\u001b[1;32m   1441\u001b[0m           \u001b[0mproto_data\u001b[0m \u001b[0;34m=\u001b[0m \u001b[0mtf_session\u001b[0m\u001b[0;34m.\u001b[0m\u001b[0mTF_GetBuffer\u001b[0m\u001b[0;34m(\u001b[0m\u001b[0mrun_metadata_ptr\u001b[0m\u001b[0;34m)\u001b[0m\u001b[0;34m\u001b[0m\u001b[0m\n",
      "\u001b[0;31mKeyboardInterrupt\u001b[0m: "
     ]
    }
   ],
   "source": [
    "hidden_sizes_t7 = [100, 50]\n",
    "batch_size_t7 = 100\n",
    "MAX_EPOCHS = 10\n",
    "\n",
    "results7_zoom = []\n",
    "for dimension in range(2, 120, 10):\n",
    "    \n",
    "    for trial in range(6):\n",
    "        \n",
    "        print(f'starting with {dimension} dimensions, trial number {trial}')\n",
    "\n",
    "        Xtrain, Xval = X_train_t7[:,:dimension], X_val_t7[:,:dimension]\n",
    "        Ytrain, Yval = Y_train_t7,Y_val_t7\n",
    "\n",
    "        inputs = tf.keras.Input(shape=(dimension,))\n",
    "        x = inputs\n",
    "        for size in hidden_sizes_t7:\n",
    "            x = tf.keras.layers.Dense(size, activation=tf.nn.relu)(x)\n",
    "\n",
    "        outputs = tf.keras.layers.Dense(2, activation=tf.nn.softmax)(x)\n",
    "\n",
    "        model = tf.keras.Model(inputs=inputs, outputs=outputs)\n",
    "\n",
    "        model.compile(optimizer=tf.keras.optimizers.Adam(lr = 0.001),\n",
    "                  loss=tf.losses.softmax_cross_entropy,\n",
    "                  metrics=['accuracy'])\n",
    "\n",
    "        train_acc = 0\n",
    "        val_acc = 0\n",
    "        success = 0\n",
    "        for epoch in tqdm(range(MAX_EPOCHS)):\n",
    "#             print(f\" {epoch} \", end='')\n",
    "            history = model.fit(Xtrain, Ytrain,\n",
    "                  epochs=1,\n",
    "                  batch_size=batch_size_t7,\n",
    "                  validation_data=(Xval, Yval),\n",
    "                  verbose=0)\n",
    "            train_acc = model.evaluate(Xtrain, Ytrain, verbose = 0)[1]\n",
    "            val_acc = model.evaluate(Xval, Yval, verbose = 0)[1]\n",
    "            if (val_acc >= 0.65):\n",
    "                success = 1\n",
    "                print('done')\n",
    "                results7_zoom.append([dimension,epoch])\n",
    "                break\n",
    "        if success:\n",
    "            pass\n",
    "        else:\n",
    "            print(f'failed {val_acc}')\n",
    "            results7_zoom.append([dimension,-1])"
   ]
  },
  {
   "cell_type": "code",
   "execution_count": 24,
   "metadata": {
    "ExecuteTime": {
     "end_time": "2021-12-20T23:29:36.829532Z",
     "start_time": "2021-12-20T23:29:36.156035Z"
    },
    "hidden": true
   },
   "outputs": [
    {
     "data": {
      "image/png": "[encoded data removed]",
      "text/plain": [
       "<Figure size 720x576 with 1 Axes>"
      ]
     },
     "metadata": {
      "needs_background": "light"
     },
     "output_type": "display_data"
    }
   ],
   "source": [
    "fig, ax = plt.subplots(figsize = (10,8))\n",
    "\n",
    "ax.scatter(*zip(*(results7_zoom)), color = 'blue', label = 'successful training', alpha = 0.3)\n",
    "\n",
    "ax.legend(loc='upper left')\n",
    "ax.set_title('Epochs until convergence  - 10% signal')\n",
    "ax.set_xlabel('columns')\n",
    "ax.set_ylabel('epochs to converge')\n",
    "ax.set_xlim((-20,90))\n",
    "ax.set_ylim((-1,9))\n",
    "ax.grid(axis=\"x\", which = 'both')\n",
    "plt.show()"
   ]
  },
  {
   "cell_type": "markdown",
   "metadata": {},
   "source": [
    "# task 8"
   ]
  },
  {
   "cell_type": "code",
   "execution_count": 1,
   "metadata": {
    "ExecuteTime": {
     "end_time": "2022-01-19T05:32:20.378117Z",
     "start_time": "2022-01-19T05:32:20.356762Z"
    }
   },
   "outputs": [
    {
     "data": {
      "text/plain": [
       "1"
      ]
     },
     "execution_count": 1,
     "metadata": {},
     "output_type": "execute_result"
    }
   ],
   "source": [
    "int(1.8)"
   ]
  },
  {
   "cell_type": "code",
   "execution_count": 2,
   "metadata": {
    "ExecuteTime": {
     "end_time": "2022-01-19T05:32:21.162531Z",
     "start_time": "2022-01-19T05:32:21.160588Z"
    }
   },
   "outputs": [],
   "source": [
    "signalz = [0.001, 0.005, 0.01, 0.02, 0.05, 0.1, 0.15, 0.2]"
   ]
  },
  {
   "cell_type": "code",
   "execution_count": 3,
   "metadata": {
    "ExecuteTime": {
     "end_time": "2022-01-19T05:32:21.793036Z",
     "start_time": "2022-01-19T05:32:21.786182Z"
    }
   },
   "outputs": [],
   "source": [
    "lst = []\n",
    "i = 2\n",
    "while len(lst) < 50:\n",
    "    i_round = int(i)\n",
    "    if i_round not in lst:\n",
    "        lst.append(i_round)\n",
    "    i = i * 1.1"
   ]
  },
  {
   "cell_type": "code",
   "execution_count": 4,
   "metadata": {
    "ExecuteTime": {
     "end_time": "2022-01-19T05:32:22.332704Z",
     "start_time": "2022-01-19T05:32:22.325780Z"
    }
   },
   "outputs": [
    {
     "data": {
      "text/plain": [
       "[2,\n",
       " 3,\n",
       " 4,\n",
       " 5,\n",
       " 6,\n",
       " 7,\n",
       " 8,\n",
       " 9,\n",
       " 10,\n",
       " 11,\n",
       " 12,\n",
       " 13,\n",
       " 14,\n",
       " 16,\n",
       " 17,\n",
       " 19,\n",
       " 21,\n",
       " 23,\n",
       " 26,\n",
       " 28,\n",
       " 31,\n",
       " 34,\n",
       " 38,\n",
       " 42,\n",
       " 46,\n",
       " 51,\n",
       " 56,\n",
       " 61,\n",
       " 68,\n",
       " 74,\n",
       " 82,\n",
       " 90,\n",
       " 99,\n",
       " 109,\n",
       " 120,\n",
       " 132,\n",
       " 145,\n",
       " 160,\n",
       " 176,\n",
       " 194,\n",
       " 213,\n",
       " 234,\n",
       " 258,\n",
       " 284,\n",
       " 312,\n",
       " 343,\n",
       " 378,\n",
       " 415,\n",
       " 457,\n",
       " 503]"
      ]
     },
     "execution_count": 4,
     "metadata": {},
     "output_type": "execute_result"
    }
   ],
   "source": [
    "dim_lst = lst\n",
    "dim_lst"
   ]
  },
  {
   "cell_type": "code",
   "execution_count": 5,
   "metadata": {
    "ExecuteTime": {
     "end_time": "2022-01-19T05:32:29.329904Z",
     "start_time": "2022-01-19T05:32:29.327621Z"
    }
   },
   "outputs": [],
   "source": [
    "all_results = {}\n",
    "all_point_of_fail = {}"
   ]
  },
  {
   "cell_type": "code",
   "execution_count": 6,
   "metadata": {
    "ExecuteTime": {
     "end_time": "2022-01-19T05:32:31.474959Z",
     "start_time": "2022-01-19T05:32:31.470852Z"
    }
   },
   "outputs": [],
   "source": [
    "def get_random_datapoint_t8(sig,prob, size = 2000, ):\n",
    "    pts = np.random.normal(0.5, 0.05, size)\n",
    "    if sig and (np.random.random() < prob):\n",
    "        pts[0] = np.random.normal(0.6, 0.05, 1)\n",
    "    return pts\n"
   ]
  },
  {
   "cell_type": "code",
   "execution_count": 7,
   "metadata": {
    "ExecuteTime": {
     "end_time": "2022-01-19T05:32:32.829365Z",
     "start_time": "2022-01-19T05:32:32.826758Z"
    }
   },
   "outputs": [],
   "source": [
    "hidden_sizes_t8 = [100, 50]\n",
    "batch_size_t8 = 100\n",
    "MAX_EPOCHS = 20\n"
   ]
  },
  {
   "cell_type": "code",
   "execution_count": 8,
   "metadata": {
    "ExecuteTime": {
     "end_time": "2022-01-19T05:32:34.427649Z",
     "start_time": "2022-01-19T05:32:34.423859Z"
    }
   },
   "outputs": [],
   "source": [
    "def prep_data_t8(sig, bg):\n",
    "    \n",
    "    this_y_bg = np.zeros(len(bg))\n",
    "    \n",
    "    this_y_sig = np.ones(len(sig))\n",
    "    \n",
    "    \"\"\"\n",
    "    Shuffle + Train-Val-Test Split \n",
    "    \"\"\"\n",
    "    # Combine both data sets\n",
    "    this_X = np.concatenate([bg, sig])\n",
    "    this_y = np.concatenate([this_y_bg, this_y_sig])\n",
    "    \n",
    "    # Shuffle before we split\n",
    "    this_X, this_y = shuffle(this_X, this_y)\n",
    "    \n",
    "    \n",
    "    (X_train, X_val, _,\n",
    "     y_train, y_val, _) = data_split(this_X, this_y, val=0.2, test=0)\n",
    "        \n",
    "    X_val = np.ones(X_val.shape) * 0.5\n",
    "    X_val[:,0] = 0.5 + 0.1*y_val\n",
    "    \n",
    "    # change Y to categorical Matrix\n",
    "    Y_train = to_categorical(y_train, num_classes=2)\n",
    "    Y_val = to_categorical(y_val, num_classes=2)\n",
    "    \n",
    "#     print('Training set size, distribution:')\n",
    "#     print(X_train.shape)\n",
    "#     print(np.unique(y_train,return_counts = True))\n",
    "#     print('Validations set size, distribution:')\n",
    "#     print(X_val.shape)\n",
    "#     print(np.unique(y_val,return_counts = True))\n",
    "    \n",
    "    return X_train, X_val, Y_train,Y_val\n",
    "\n"
   ]
  },
  {
   "cell_type": "code",
   "execution_count": 12,
   "metadata": {
    "ExecuteTime": {
     "end_time": "2022-01-19T05:36:54.957997Z",
     "start_time": "2022-01-19T05:33:07.533352Z"
    },
    "code_folding": [],
    "scrolled": false
   },
   "outputs": [
    {
     "name": "stdout",
     "output_type": "stream",
     "text": [
      "sig ratio is 0.001\n",
      "dim is 2\n"
     ]
    },
    {
     "name": "stderr",
     "output_type": "stream",
     "text": [
      "  0%|          | 0/7 [03:45<?, ?it/s]\n"
     ]
    },
    {
     "ename": "InternalError",
     "evalue": "Blas GEMM launch failed : a.shape=(100, 2), b.shape=(2, 100), m=100, n=100, k=2\n\t [[{{node dense/MatMul}} = MatMul[T=DT_FLOAT, _class=[\"loc:@training/Adam/gradients/dense/MatMul_grad/MatMul_1\"], transpose_a=false, transpose_b=false, _device=\"/job:localhost/replica:0/task:0/device:GPU:0\"](_arg_input_1_0_0/_61, dense/MatMul/ReadVariableOp)]]",
     "output_type": "error",
     "traceback": [
      "\u001b[0;31m---------------------------------------------------------------------------\u001b[0m",
      "\u001b[0;31mInternalError\u001b[0m                             Traceback (most recent call last)",
      "\u001b[0;32m<ipython-input-12-eaeed2b75d65>\u001b[0m in \u001b[0;36m<module>\u001b[0;34m\u001b[0m\n\u001b[1;32m     41\u001b[0m                       \u001b[0mbatch_size\u001b[0m\u001b[0;34m=\u001b[0m\u001b[0mbatch_size_t8\u001b[0m\u001b[0;34m,\u001b[0m\u001b[0;34m\u001b[0m\u001b[0m\n\u001b[1;32m     42\u001b[0m                       \u001b[0mvalidation_data\u001b[0m\u001b[0;34m=\u001b[0m\u001b[0;34m(\u001b[0m\u001b[0mXval\u001b[0m\u001b[0;34m,\u001b[0m \u001b[0mYval\u001b[0m\u001b[0;34m)\u001b[0m\u001b[0;34m,\u001b[0m\u001b[0;34m\u001b[0m\u001b[0m\n\u001b[0;32m---> 43\u001b[0;31m                       verbose=0)\n\u001b[0m\u001b[1;32m     44\u001b[0m                 \u001b[0mtrain_acc\u001b[0m \u001b[0;34m=\u001b[0m \u001b[0mmodel\u001b[0m\u001b[0;34m.\u001b[0m\u001b[0mevaluate\u001b[0m\u001b[0;34m(\u001b[0m\u001b[0mXtrain\u001b[0m\u001b[0;34m,\u001b[0m \u001b[0mYtrain\u001b[0m\u001b[0;34m,\u001b[0m \u001b[0mverbose\u001b[0m \u001b[0;34m=\u001b[0m \u001b[0;36m0\u001b[0m\u001b[0;34m)\u001b[0m\u001b[0;34m[\u001b[0m\u001b[0;36m1\u001b[0m\u001b[0;34m]\u001b[0m\u001b[0;34m\u001b[0m\u001b[0m\n\u001b[1;32m     45\u001b[0m                 \u001b[0mval_acc\u001b[0m \u001b[0;34m=\u001b[0m \u001b[0mmodel\u001b[0m\u001b[0;34m.\u001b[0m\u001b[0mevaluate\u001b[0m\u001b[0;34m(\u001b[0m\u001b[0mXval\u001b[0m\u001b[0;34m,\u001b[0m \u001b[0mYval\u001b[0m\u001b[0;34m,\u001b[0m \u001b[0mverbose\u001b[0m \u001b[0;34m=\u001b[0m \u001b[0;36m0\u001b[0m\u001b[0;34m)\u001b[0m\u001b[0;34m[\u001b[0m\u001b[0;36m1\u001b[0m\u001b[0;34m]\u001b[0m\u001b[0;34m\u001b[0m\u001b[0m\n",
      "\u001b[0;32m~/anaconda3/envs/shared_env/lib/python3.6/site-packages/tensorflow/python/keras/engine/training.py\u001b[0m in \u001b[0;36mfit\u001b[0;34m(self, x, y, batch_size, epochs, verbose, callbacks, validation_split, validation_data, shuffle, class_weight, sample_weight, initial_epoch, steps_per_epoch, validation_steps, max_queue_size, workers, use_multiprocessing, **kwargs)\u001b[0m\n\u001b[1;32m   1637\u001b[0m           \u001b[0minitial_epoch\u001b[0m\u001b[0;34m=\u001b[0m\u001b[0minitial_epoch\u001b[0m\u001b[0;34m,\u001b[0m\u001b[0;34m\u001b[0m\u001b[0m\n\u001b[1;32m   1638\u001b[0m           \u001b[0msteps_per_epoch\u001b[0m\u001b[0;34m=\u001b[0m\u001b[0msteps_per_epoch\u001b[0m\u001b[0;34m,\u001b[0m\u001b[0;34m\u001b[0m\u001b[0m\n\u001b[0;32m-> 1639\u001b[0;31m           validation_steps=validation_steps)\n\u001b[0m\u001b[1;32m   1640\u001b[0m \u001b[0;34m\u001b[0m\u001b[0m\n\u001b[1;32m   1641\u001b[0m   def evaluate(self,\n",
      "\u001b[0;32m~/anaconda3/envs/shared_env/lib/python3.6/site-packages/tensorflow/python/keras/engine/training_arrays.py\u001b[0m in \u001b[0;36mfit_loop\u001b[0;34m(model, inputs, targets, sample_weights, batch_size, epochs, verbose, callbacks, val_inputs, val_targets, val_sample_weights, shuffle, initial_epoch, steps_per_epoch, validation_steps)\u001b[0m\n\u001b[1;32m    213\u001b[0m           \u001b[0mins_batch\u001b[0m\u001b[0;34m[\u001b[0m\u001b[0mi\u001b[0m\u001b[0;34m]\u001b[0m \u001b[0;34m=\u001b[0m \u001b[0mins_batch\u001b[0m\u001b[0;34m[\u001b[0m\u001b[0mi\u001b[0m\u001b[0;34m]\u001b[0m\u001b[0;34m.\u001b[0m\u001b[0mtoarray\u001b[0m\u001b[0;34m(\u001b[0m\u001b[0;34m)\u001b[0m\u001b[0;34m\u001b[0m\u001b[0m\n\u001b[1;32m    214\u001b[0m \u001b[0;34m\u001b[0m\u001b[0m\n\u001b[0;32m--> 215\u001b[0;31m         \u001b[0mouts\u001b[0m \u001b[0;34m=\u001b[0m \u001b[0mf\u001b[0m\u001b[0;34m(\u001b[0m\u001b[0mins_batch\u001b[0m\u001b[0;34m)\u001b[0m\u001b[0;34m\u001b[0m\u001b[0m\n\u001b[0m\u001b[1;32m    216\u001b[0m         \u001b[0;32mif\u001b[0m \u001b[0;32mnot\u001b[0m \u001b[0misinstance\u001b[0m\u001b[0;34m(\u001b[0m\u001b[0mouts\u001b[0m\u001b[0;34m,\u001b[0m \u001b[0mlist\u001b[0m\u001b[0;34m)\u001b[0m\u001b[0;34m:\u001b[0m\u001b[0;34m\u001b[0m\u001b[0m\n\u001b[1;32m    217\u001b[0m           \u001b[0mouts\u001b[0m \u001b[0;34m=\u001b[0m \u001b[0;34m[\u001b[0m\u001b[0mouts\u001b[0m\u001b[0;34m]\u001b[0m\u001b[0;34m\u001b[0m\u001b[0m\n",
      "\u001b[0;32m~/anaconda3/envs/shared_env/lib/python3.6/site-packages/tensorflow/python/keras/backend.py\u001b[0m in \u001b[0;36m__call__\u001b[0;34m(self, inputs)\u001b[0m\n\u001b[1;32m   2984\u001b[0m \u001b[0;34m\u001b[0m\u001b[0m\n\u001b[1;32m   2985\u001b[0m     fetched = self._callable_fn(*array_vals,\n\u001b[0;32m-> 2986\u001b[0;31m                                 run_metadata=self.run_metadata)\n\u001b[0m\u001b[1;32m   2987\u001b[0m     \u001b[0mself\u001b[0m\u001b[0;34m.\u001b[0m\u001b[0m_call_fetch_callbacks\u001b[0m\u001b[0;34m(\u001b[0m\u001b[0mfetched\u001b[0m\u001b[0;34m[\u001b[0m\u001b[0;34m-\u001b[0m\u001b[0mlen\u001b[0m\u001b[0;34m(\u001b[0m\u001b[0mself\u001b[0m\u001b[0;34m.\u001b[0m\u001b[0m_fetches\u001b[0m\u001b[0;34m)\u001b[0m\u001b[0;34m:\u001b[0m\u001b[0;34m]\u001b[0m\u001b[0;34m)\u001b[0m\u001b[0;34m\u001b[0m\u001b[0m\n\u001b[1;32m   2988\u001b[0m     \u001b[0;32mreturn\u001b[0m \u001b[0mfetched\u001b[0m\u001b[0;34m[\u001b[0m\u001b[0;34m:\u001b[0m\u001b[0mlen\u001b[0m\u001b[0;34m(\u001b[0m\u001b[0mself\u001b[0m\u001b[0;34m.\u001b[0m\u001b[0moutputs\u001b[0m\u001b[0;34m)\u001b[0m\u001b[0;34m]\u001b[0m\u001b[0;34m\u001b[0m\u001b[0m\n",
      "\u001b[0;32m~/anaconda3/envs/shared_env/lib/python3.6/site-packages/tensorflow/python/client/session.py\u001b[0m in \u001b[0;36m__call__\u001b[0;34m(self, *args, **kwargs)\u001b[0m\n\u001b[1;32m   1437\u001b[0m           ret = tf_session.TF_SessionRunCallable(\n\u001b[1;32m   1438\u001b[0m               \u001b[0mself\u001b[0m\u001b[0;34m.\u001b[0m\u001b[0m_session\u001b[0m\u001b[0;34m.\u001b[0m\u001b[0m_session\u001b[0m\u001b[0;34m,\u001b[0m \u001b[0mself\u001b[0m\u001b[0;34m.\u001b[0m\u001b[0m_handle\u001b[0m\u001b[0;34m,\u001b[0m \u001b[0margs\u001b[0m\u001b[0;34m,\u001b[0m \u001b[0mstatus\u001b[0m\u001b[0;34m,\u001b[0m\u001b[0;34m\u001b[0m\u001b[0m\n\u001b[0;32m-> 1439\u001b[0;31m               run_metadata_ptr)\n\u001b[0m\u001b[1;32m   1440\u001b[0m         \u001b[0;32mif\u001b[0m \u001b[0mrun_metadata\u001b[0m\u001b[0;34m:\u001b[0m\u001b[0;34m\u001b[0m\u001b[0m\n\u001b[1;32m   1441\u001b[0m           \u001b[0mproto_data\u001b[0m \u001b[0;34m=\u001b[0m \u001b[0mtf_session\u001b[0m\u001b[0;34m.\u001b[0m\u001b[0mTF_GetBuffer\u001b[0m\u001b[0;34m(\u001b[0m\u001b[0mrun_metadata_ptr\u001b[0m\u001b[0;34m)\u001b[0m\u001b[0;34m\u001b[0m\u001b[0m\n",
      "\u001b[0;32m~/anaconda3/envs/shared_env/lib/python3.6/site-packages/tensorflow/python/framework/errors_impl.py\u001b[0m in \u001b[0;36m__exit__\u001b[0;34m(self, type_arg, value_arg, traceback_arg)\u001b[0m\n\u001b[1;32m    526\u001b[0m             \u001b[0;32mNone\u001b[0m\u001b[0;34m,\u001b[0m \u001b[0;32mNone\u001b[0m\u001b[0;34m,\u001b[0m\u001b[0;34m\u001b[0m\u001b[0m\n\u001b[1;32m    527\u001b[0m             \u001b[0mcompat\u001b[0m\u001b[0;34m.\u001b[0m\u001b[0mas_text\u001b[0m\u001b[0;34m(\u001b[0m\u001b[0mc_api\u001b[0m\u001b[0;34m.\u001b[0m\u001b[0mTF_Message\u001b[0m\u001b[0;34m(\u001b[0m\u001b[0mself\u001b[0m\u001b[0;34m.\u001b[0m\u001b[0mstatus\u001b[0m\u001b[0;34m.\u001b[0m\u001b[0mstatus\u001b[0m\u001b[0;34m)\u001b[0m\u001b[0;34m)\u001b[0m\u001b[0;34m,\u001b[0m\u001b[0;34m\u001b[0m\u001b[0m\n\u001b[0;32m--> 528\u001b[0;31m             c_api.TF_GetCode(self.status.status))\n\u001b[0m\u001b[1;32m    529\u001b[0m     \u001b[0;31m# Delete the underlying status object from memory otherwise it stays alive\u001b[0m\u001b[0;34m\u001b[0m\u001b[0;34m\u001b[0m\u001b[0m\n\u001b[1;32m    530\u001b[0m     \u001b[0;31m# as there is a reference to status from this from the traceback due to\u001b[0m\u001b[0;34m\u001b[0m\u001b[0;34m\u001b[0m\u001b[0m\n",
      "\u001b[0;31mInternalError\u001b[0m: Blas GEMM launch failed : a.shape=(100, 2), b.shape=(2, 100), m=100, n=100, k=2\n\t [[{{node dense/MatMul}} = MatMul[T=DT_FLOAT, _class=[\"loc:@training/Adam/gradients/dense/MatMul_grad/MatMul_1\"], transpose_a=false, transpose_b=false, _device=\"/job:localhost/replica:0/task:0/device:GPU:0\"](_arg_input_1_0_0/_61, dense/MatMul/ReadVariableOp)]]"
     ]
    }
   ],
   "source": [
    "for sig_ratio in signalz:\n",
    "    mock_signal_t8 = np.array([get_random_datapoint_t8(True, sig_ratio) for _ in range(20000)])\n",
    "    mock_bg_t8 = np.array([get_random_datapoint_t8(False, sig_ratio) for _ in range(20000)])\n",
    "    \n",
    "    this_result = []\n",
    "    \n",
    "    X_train_t8, X_val_t8, Y_train_t8,Y_val_t8 = prep_data_t8(mock_signal_t8, mock_bg_t8)\n",
    "    \n",
    "    print(f\"sig ratio is {sig_ratio}\")\n",
    "    \n",
    "    for dimension in dim_lst:\n",
    "        print(f\"dim is {dimension}\")\n",
    "        passed = False\n",
    "        \n",
    "        for trial in tqdm(range(7)):\n",
    "\n",
    "\n",
    "            Xtrain, Xval = X_train_t8[:,:dimension], X_val_t8[:,:dimension]\n",
    "            Ytrain, Yval = Y_train_t8,Y_val_t8\n",
    "\n",
    "            inputs = tf.keras.Input(shape=(dimension,))\n",
    "            x = inputs\n",
    "            for size in hidden_sizes_t8:\n",
    "                x = tf.keras.layers.Dense(size, activation=tf.nn.relu)(x)\n",
    "\n",
    "            outputs = tf.keras.layers.Dense(2, activation=tf.nn.softmax)(x)\n",
    "\n",
    "            model = tf.keras.Model(inputs=inputs, outputs=outputs)\n",
    "\n",
    "            model.compile(optimizer=tf.keras.optimizers.Adam(lr = 0.001),\n",
    "                      loss=tf.losses.softmax_cross_entropy,\n",
    "                      metrics=['accuracy'])\n",
    "\n",
    "            train_acc = 0\n",
    "            val_acc = 0\n",
    "            success = 0\n",
    "            for epoch in range(MAX_EPOCHS):\n",
    "    #             print(f\" {epoch} \", end='')\n",
    "                history = model.fit(Xtrain, Ytrain,\n",
    "                      epochs=1,\n",
    "                      batch_size=batch_size_t8,\n",
    "                      validation_data=(Xval, Yval),\n",
    "                      verbose=0)\n",
    "                train_acc = model.evaluate(Xtrain, Ytrain, verbose = 0)[1]\n",
    "                val_acc = model.evaluate(Xval, Yval, verbose = 0)[1]\n",
    "                if (val_acc >= 0.6):\n",
    "                    success = 1\n",
    "                    this_result.append([dimension,epoch])\n",
    "                    break\n",
    "            if success:\n",
    "                passed = True\n",
    "                \n",
    "            else:\n",
    "                this_result.append([dimension,-1])\n",
    "        if passed == False:\n",
    "            all_point_of_fail[sig_ratio] = dimension\n",
    "            break\n",
    "    all_results[sig_ratio] = this_result\n",
    "    print(this_result)"
   ]
  },
  {
   "cell_type": "code",
   "execution_count": 1,
   "metadata": {
    "ExecuteTime": {
     "end_time": "2022-01-18T05:15:04.272111Z",
     "start_time": "2022-01-18T05:15:04.110384Z"
    },
    "code_folding": []
   },
   "outputs": [
    {
     "ename": "NameError",
     "evalue": "name 'signalz' is not defined",
     "output_type": "error",
     "traceback": [
      "\u001b[0;31m---------------------------------------------------------------------------\u001b[0m",
      "\u001b[0;31mNameError\u001b[0m                                 Traceback (most recent call last)",
      "\u001b[0;32m<ipython-input-1-4bbdae6dd476>\u001b[0m in \u001b[0;36m<module>\u001b[0;34m\u001b[0m\n\u001b[0;32m----> 1\u001b[0;31m \u001b[0;32mfor\u001b[0m \u001b[0msig_ratio\u001b[0m \u001b[0;32min\u001b[0m \u001b[0msignalz\u001b[0m\u001b[0;34m[\u001b[0m\u001b[0;36m1\u001b[0m\u001b[0;34m:\u001b[0m\u001b[0;34m]\u001b[0m\u001b[0;34m:\u001b[0m\u001b[0;34m\u001b[0m\u001b[0m\n\u001b[0m\u001b[1;32m      2\u001b[0m     \u001b[0mmock_signal_t8\u001b[0m \u001b[0;34m=\u001b[0m \u001b[0mnp\u001b[0m\u001b[0;34m.\u001b[0m\u001b[0marray\u001b[0m\u001b[0;34m(\u001b[0m\u001b[0;34m[\u001b[0m\u001b[0mget_random_datapoint_t8\u001b[0m\u001b[0;34m(\u001b[0m\u001b[0;32mTrue\u001b[0m\u001b[0;34m,\u001b[0m \u001b[0msig_ratio\u001b[0m\u001b[0;34m)\u001b[0m \u001b[0;32mfor\u001b[0m \u001b[0m_\u001b[0m \u001b[0;32min\u001b[0m \u001b[0mrange\u001b[0m\u001b[0;34m(\u001b[0m\u001b[0;36m20000\u001b[0m\u001b[0;34m)\u001b[0m\u001b[0;34m]\u001b[0m\u001b[0;34m)\u001b[0m\u001b[0;34m\u001b[0m\u001b[0m\n\u001b[1;32m      3\u001b[0m     \u001b[0mmock_bg_t8\u001b[0m \u001b[0;34m=\u001b[0m \u001b[0mnp\u001b[0m\u001b[0;34m.\u001b[0m\u001b[0marray\u001b[0m\u001b[0;34m(\u001b[0m\u001b[0;34m[\u001b[0m\u001b[0mget_random_datapoint_t8\u001b[0m\u001b[0;34m(\u001b[0m\u001b[0;32mFalse\u001b[0m\u001b[0;34m,\u001b[0m \u001b[0msig_ratio\u001b[0m\u001b[0;34m)\u001b[0m \u001b[0;32mfor\u001b[0m \u001b[0m_\u001b[0m \u001b[0;32min\u001b[0m \u001b[0mrange\u001b[0m\u001b[0;34m(\u001b[0m\u001b[0;36m20000\u001b[0m\u001b[0;34m)\u001b[0m\u001b[0;34m]\u001b[0m\u001b[0;34m)\u001b[0m\u001b[0;34m\u001b[0m\u001b[0m\n\u001b[1;32m      4\u001b[0m \u001b[0;34m\u001b[0m\u001b[0m\n\u001b[1;32m      5\u001b[0m     \u001b[0mthis_result\u001b[0m \u001b[0;34m=\u001b[0m \u001b[0;34m[\u001b[0m\u001b[0;34m]\u001b[0m\u001b[0;34m\u001b[0m\u001b[0m\n",
      "\u001b[0;31mNameError\u001b[0m: name 'signalz' is not defined"
     ]
    }
   ],
   "source": [
    "for sig_ratio in signalz[1:]:\n",
    "    mock_signal_t8 = np.array([get_random_datapoint_t8(True, sig_ratio) for _ in range(20000)])\n",
    "    mock_bg_t8 = np.array([get_random_datapoint_t8(False, sig_ratio) for _ in range(20000)])\n",
    "    \n",
    "    this_result = []\n",
    "    \n",
    "    print(f\"sig ratio is {sig_ratio}\")\n",
    "    \n",
    "    for dimension in dim_lst:\n",
    "        print(f\"dim is {dimension}\")\n",
    "        passed = False\n",
    "        \n",
    "        for trial in tqdm(range(7)):\n",
    "\n",
    "\n",
    "            Xtrain, Xval = X_train_t7[:,:dimension], X_val_t7[:,:dimension]\n",
    "            Ytrain, Yval = Y_train_t7,Y_val_t7\n",
    "\n",
    "            inputs = tf.keras.Input(shape=(dimension,))\n",
    "            x = inputs\n",
    "            for size in hidden_sizes_t7:\n",
    "                x = tf.keras.layers.Dense(size, activation=tf.nn.relu)(x)\n",
    "\n",
    "            outputs = tf.keras.layers.Dense(2, activation=tf.nn.softmax)(x)\n",
    "\n",
    "            model = tf.keras.Model(inputs=inputs, outputs=outputs)\n",
    "\n",
    "            model.compile(optimizer=tf.keras.optimizers.Adam(lr = 0.001),\n",
    "                      loss=tf.losses.softmax_cross_entropy,\n",
    "                      metrics=['accuracy'])\n",
    "\n",
    "            train_acc = 0\n",
    "            val_acc = 0\n",
    "            success = 0\n",
    "            for epoch in range(MAX_EPOCHS):\n",
    "    #             print(f\" {epoch} \", end='')\n",
    "                history = model.fit(Xtrain, Ytrain,\n",
    "                      epochs=1,\n",
    "                      batch_size=batch_size_t7,\n",
    "                      validation_data=(Xval, Yval),\n",
    "                      verbose=0)\n",
    "                train_acc = model.evaluate(Xtrain, Ytrain, verbose = 0)[1]\n",
    "                val_acc = model.evaluate(Xval, Yval, verbose = 0)[1]\n",
    "                if (val_acc >= 0.65):\n",
    "                    success = 1\n",
    "                    this_result.append([dimension,epoch])\n",
    "                    break\n",
    "            \n",
    "            if success:\n",
    "                passed = True\n",
    "                \n",
    "                \n",
    "            else:\n",
    "                this_result.append([dimension,-1])\n",
    "        if passed == False:\n",
    "            all_point_of_fail[sig_ratio] = dimension\n",
    "            break\n",
    "    all_results[sig_ratio] = this_result\n",
    "    print(this_result)"
   ]
  },
  {
   "cell_type": "code",
   "execution_count": null,
   "metadata": {},
   "outputs": [],
   "source": []
  }
 ],
 "metadata": {
  "kernelspec": {
   "display_name": "Python 3 (ipykernel)",
   "language": "python",
   "name": "python3"
  },
  "language_info": {
   "codemirror_mode": {
    "name": "ipython",
    "version": 3
   },
   "file_extension": ".py",
   "mimetype": "text/x-python",
   "name": "python",
   "nbconvert_exporter": "python",
   "pygments_lexer": "ipython3",
   "version": "3.9.7"
  }
 },
 "nbformat": 4,
 "nbformat_minor": 4
}
